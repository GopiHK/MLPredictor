{
 "cells": [
  {
   "cell_type": "code",
   "execution_count": null,
   "metadata": {},
   "outputs": [],
   "source": [
    "## Use the same logic as you did in class assignment to predict whether image passed is a cat or not.\n",
    "## This is a binary classification"
   ]
  },
  {
   "cell_type": "code",
   "execution_count": 1,
   "metadata": {},
   "outputs": [
    {
     "name": "stderr",
     "output_type": "stream",
     "text": [
      "Using TensorFlow backend.\n"
     ]
    }
   ],
   "source": [
    "import numpy as np\n",
    "import h5py\n",
    "#from PIL import Image\n",
    "from scipy import ndimage\n",
    "import sys\n",
    "import matplotlib.pyplot as plt \n",
    "from keras.layers import Conv2D\n",
    "import tensorflow as tf\n",
    "import keras\n",
    "from keras  import models, layers, optimizers,regularizers"
   ]
  },
  {
   "cell_type": "code",
   "execution_count": 2,
   "metadata": {},
   "outputs": [],
   "source": [
    "#Part of this function is given. You have to compelte this function in order to match the shape for keras\n",
    "def load_data(trainf, testf):\n",
    "    train_dataset = h5py.File(trainf, \"r\")  # ('datasets/train_catvnoncat.h5', \"r\")\n",
    "    test_dataset = h5py.File(testf, \"r\")  # ('datasets/test_catvnoncat.h5', \"r\")\n",
    "\n",
    "    train_set_x_orig = np.array(train_dataset[\"train_set_x\"][:])  # train set features\n",
    "    train_set_y_orig = np.array(train_dataset[\"train_set_y\"][:])  # train set labels\n",
    "\n",
    "    test_set_x_orig = np.array(test_dataset[\"test_set_x\"][:])  # test set features\n",
    "    \n",
    "    test_set_y_orig = np.array(test_dataset[\"test_set_y\"][:])  # your test set labels\n",
    "   \n",
    "    \n",
    "    \n",
    "    train_set_x_flatten = train_set_x_orig.reshape(train_set_x_orig.shape[0], -1)\n",
    "    test_set_x_flatten = test_set_x_orig.reshape(test_set_x_orig.shape[0], -1)\n",
    "    train_set_x_orig = train_set_x_flatten / 255  # Normalize\n",
    "    test_set_x_orig = test_set_x_flatten / 255\n",
    "     \n",
    "\n",
    "    classes = np.array(test_dataset[\"list_classes\"][:])  # the list of classes\n",
    "\n",
    "    #train_set_y_orig = train_set_y_orig.reshape((1,train_set_y_orig.shape[0]))\n",
    "    #test_set_y_orig =test_set_y_orig.reshape((1,test_set_y_orig.shape[0]))\n",
    "    print (\"train set x shape= \", train_set_x_orig.shape)\n",
    "    print (\"train set y shape= \", train_set_y_orig.shape)\n",
    "    ##Complete the code and return the appropriate train x, train y, and test data\n",
    "    return train_set_x_orig, train_set_y_orig, test_set_x_orig, test_set_y_orig\n",
    "\n"
   ]
  },
  {
   "cell_type": "code",
   "execution_count": 3,
   "metadata": {},
   "outputs": [
    {
     "name": "stdout",
     "output_type": "stream",
     "text": [
      "train set x shape=  (209, 12288)\n",
      "train set y shape=  (209,)\n"
     ]
    },
    {
     "data": {
      "text/plain": [
       "(209, 5)"
      ]
     },
     "execution_count": 3,
     "metadata": {},
     "output_type": "execute_result"
    }
   ],
   "source": [
    "train_x, train_y, test_x, test_y = load_data('train_catvnoncat.h5','test_catvnoncat.h5');\n",
    "train_y_cat = keras.utils.to_categorical(train_y,num_classes=5)\n",
    "train_y_cat.shape"
   ]
  },
  {
   "cell_type": "code",
   "execution_count": 6,
   "metadata": {},
   "outputs": [],
   "source": [
    "## Now complete this keras model and run the preiction for each of the optimizers as you did for MNIST\n",
    "def mainDriverTrainKerasNNNative(opt):\n",
    "    train_x, train_y, test_x, test_y = load_data('train_catvnoncat.h5','test_catvnoncat.h5')\n",
    "    ## Complete the code to form the model, compile for each optimizer in opt m predict and store the\n",
    "\n",
    "    #train_x = train_x.reshape(train_x.shape[0], train_x.shape[1]*train_x.shape[2]*train_x.shape[3])\n",
    "    #flatten_X = X.reshape(X.shape[0], X.shape[1]*X.shape[2]*X.shape[3])\n",
    "\n",
    "    #train_x = train_x/255\n",
    "    #test_x = test_x.reshape(test_x.shape[0], test_x.shape[1]*test_x.shape[2]*test_x.shape[3])\n",
    "    #test_x = test_x/255\n",
    "    train_y_cat = keras.utils.to_categorical(train_y,num_classes=2)\n",
    "    test_y_cat = keras.utils.to_categorical(test_y,num_classes=2)\n",
    "    network = models.Sequential()\n",
    "    network.add(layers.Dense(400,activation=\"relu\",input_shape=(12288,)))\n",
    "    network.add(layers.Dropout(0.2, input_shape=(12288,)))\n",
    "\n",
    "    network.add(layers.Dense(50,activation=\"sigmoid\"))\n",
    "    network.add(layers.Dense(30,activation=\"relu\"))\n",
    "    #network.add(layers.Dense(20,activation=\"softmax\"))\n",
    "    #network.add(layers.Dense(50,activation=\"sigmoid\"))\n",
    "    #network.add(layers.Dense(30,activation=\"relu\"))\n",
    "    #network.add(layers.Dense(20,activation=\"softmax\"))\n",
    "   \n",
    "    #network.add(layers.Dense(50,activation=\"sigmoid\"))\n",
    "    #network.add(layers.Dense(30,activation=\"relu\"))\n",
    "    #network.add(layers.Dense(20,activation=\"softmax\"))\n",
    "    #network.add(layers.Dense(50,activation=\"sigmoid\"))\n",
    "    #network.add(layers.Dense(30,activation=\"softmax\"))\n",
    "    #network.add(layers.Dense(20,activation=\"relu\"))\n",
    "\n",
    "\n",
    "\n",
    "\n",
    "    \n",
    "    network.add(layers.Dense(2,activation=\"softmax\"))\n",
    "    \n",
    "    \n",
    "    OptPerf= {}\n",
    "    for i,op in opt.items():\n",
    "        network.compile(optimizer= op, loss = \"binary_crossentropy\", metrics = [\"accuracy\"])\n",
    "        network.fit(train_x, train_y_cat, epochs=3, batch_size=10)\n",
    "        #use loss = \"categorical_crossentropy\", metrics = \"accuracy\" (in a list)\n",
    "        y_pred_train = network.predict(train_x)\n",
    "        y_pred_train_val = np.argmax(y_pred_train, axis=1)\n",
    "        result_train=(y_pred_train_val == train_y)\n",
    "        y_pred_test = network.predict(test_x)\n",
    "        y_pred_test_val = np.argmax(y_pred_test, axis=1)\n",
    "        result_test=(y_pred_test_val == test_y)\n",
    "        \n",
    "        \n",
    "        \n",
    "        \n",
    "        OptPerf[i]={\"train\" :np.sum(result_train)/len(result_train), \"test\" : np.sum(result_test)/len(result_test)}\n",
    "        scores = network.evaluate(test_x, test_y_cat)\n",
    "\n",
    "\n",
    "    return OptPerf"
   ]
  },
  {
   "cell_type": "code",
   "execution_count": 7,
   "metadata": {},
   "outputs": [
    {
     "name": "stdout",
     "output_type": "stream",
     "text": [
      "train set x shape=  (209, 12288)\n",
      "train set y shape=  (209,)\n",
      "Epoch 1/3\n",
      "209/209 [==============================] - 12s 55ms/step - loss: 0.7037 - acc: 0.6364\n",
      "Epoch 2/3\n",
      "209/209 [==============================] - 10s 47ms/step - loss: 0.6506 - acc: 0.6555\n",
      "Epoch 3/3\n",
      "209/209 [==============================] - 10s 47ms/step - loss: 0.6531 - acc: 0.6555\n",
      "50/50 [==============================] - 0s 6ms/step\n",
      "Epoch 1/3\n",
      "209/209 [==============================] - 5s 24ms/step - loss: 0.6466 - acc: 0.6555\n",
      "Epoch 2/3\n",
      "209/209 [==============================] - 4s 20ms/step - loss: 0.6461 - acc: 0.6555\n",
      "Epoch 3/3\n",
      "209/209 [==============================] - 4s 20ms/step - loss: 0.6486 - acc: 0.6555\n",
      "50/50 [==============================] - 0s 4ms/step\n",
      "Epoch 1/3\n",
      "209/209 [==============================] - 7s 35ms/step - loss: 0.6510 - acc: 0.6555\n",
      "Epoch 2/3\n",
      "209/209 [==============================] - 6s 30ms/step - loss: 0.6446 - acc: 0.6555\n",
      "Epoch 3/3\n",
      "209/209 [==============================] - 6s 31ms/step - loss: 0.6509 - acc: 0.6555\n",
      "50/50 [==============================] - 0s 6ms/step\n",
      "Epoch 1/3\n",
      "209/209 [==============================] - 11s 53ms/step - loss: 0.6421 - acc: 0.6555\n",
      "Epoch 2/3\n",
      "209/209 [==============================] - 10s 47ms/step - loss: 0.6425 - acc: 0.6555\n",
      "Epoch 3/3\n",
      "209/209 [==============================] - 10s 48ms/step - loss: 0.6508 - acc: 0.6555\n",
      "50/50 [==============================] - 0s 4ms/step\n",
      "Epoch 1/3\n",
      "209/209 [==============================] - 7s 31ms/step - loss: 0.7026 - acc: 0.6555\n",
      "Epoch 2/3\n",
      "209/209 [==============================] - 6s 27ms/step - loss: 0.6570 - acc: 0.6555\n",
      "Epoch 3/3\n",
      "209/209 [==============================] - 6s 27ms/step - loss: 0.6461 - acc: 0.6555\n",
      "50/50 [==============================] - 0s 6ms/step\n",
      "Epoch 1/3\n",
      "209/209 [==============================] - 10s 50ms/step - loss: 0.6432 - acc: 0.6555\n",
      "Epoch 2/3\n",
      "209/209 [==============================] - 8s 41ms/step - loss: 0.6468 - acc: 0.6555\n",
      "Epoch 3/3\n",
      "209/209 [==============================] - 9s 41ms/step - loss: 0.6469 - acc: 0.6555\n",
      "50/50 [==============================] - 0s 8ms/step\n",
      "Epoch 1/3\n",
      "209/209 [==============================] - 9s 45ms/step - loss: 0.6513 - acc: 0.6555\n",
      "Epoch 2/3\n",
      "209/209 [==============================] - 8s 37ms/step - loss: 0.6472 - acc: 0.6555\n",
      "Epoch 3/3\n",
      "209/209 [==============================] - 8s 36ms/step - loss: 0.6476 - acc: 0.6555\n",
      "50/50 [==============================] - 0s 8ms/step\n"
     ]
    }
   ],
   "source": [
    "#create the opt and call the function\n",
    "opt = {  \"nadam\":optimizers.nadam(),\"sgd\": optimizers.sgd(),\"Rmsprop\": optimizers.RMSprop(lr=0.001),\"adadelta\" :optimizers.adadelta(),\"adagrad\": optimizers.adagrad(),\"adam\": optimizers.adam(),\"adamax\":optimizers.adamax()}\n",
    "#opt = {  \"nadam\":optimizers.nadam(),\"sgd\": optimizers.sgd(),\"Rmsprop\": optimizers.RMSprop(lr=0.001),\"adadelta\" :optimizers.adadelta(),\"adagrad\": optimizers.adagrad(),\"adam\": optimizers.adam(),\"adamax\":optimizers.adamax()}\n",
    "opt=mainDriverTrainKerasNNNative(opt)"
   ]
  },
  {
   "cell_type": "code",
   "execution_count": 10,
   "metadata": {},
   "outputs": [
    {
     "data": {
      "text/html": [
       "<div>\n",
       "<style scoped>\n",
       "    .dataframe tbody tr th:only-of-type {\n",
       "        vertical-align: middle;\n",
       "    }\n",
       "\n",
       "    .dataframe tbody tr th {\n",
       "        vertical-align: top;\n",
       "    }\n",
       "\n",
       "    .dataframe thead th {\n",
       "        text-align: right;\n",
       "    }\n",
       "</style>\n",
       "<table border=\"1\" class=\"dataframe\">\n",
       "  <thead>\n",
       "    <tr style=\"text-align: right;\">\n",
       "      <th></th>\n",
       "      <th>nadam</th>\n",
       "      <th>sgd</th>\n",
       "      <th>Rmsprop</th>\n",
       "      <th>adadelta</th>\n",
       "      <th>adagrad</th>\n",
       "      <th>adam</th>\n",
       "      <th>adamax</th>\n",
       "    </tr>\n",
       "  </thead>\n",
       "  <tbody>\n",
       "    <tr>\n",
       "      <th>test</th>\n",
       "      <td>0.340000</td>\n",
       "      <td>0.340000</td>\n",
       "      <td>0.340000</td>\n",
       "      <td>0.340000</td>\n",
       "      <td>0.340000</td>\n",
       "      <td>0.340000</td>\n",
       "      <td>0.340000</td>\n",
       "    </tr>\n",
       "    <tr>\n",
       "      <th>train</th>\n",
       "      <td>0.655502</td>\n",
       "      <td>0.655502</td>\n",
       "      <td>0.655502</td>\n",
       "      <td>0.655502</td>\n",
       "      <td>0.655502</td>\n",
       "      <td>0.655502</td>\n",
       "      <td>0.655502</td>\n",
       "    </tr>\n",
       "  </tbody>\n",
       "</table>\n",
       "</div>"
      ],
      "text/plain": [
       "          nadam       sgd   Rmsprop  adadelta   adagrad      adam    adamax\n",
       "test   0.340000  0.340000  0.340000  0.340000  0.340000  0.340000  0.340000\n",
       "train  0.655502  0.655502  0.655502  0.655502  0.655502  0.655502  0.655502"
      ]
     },
     "execution_count": 10,
     "metadata": {},
     "output_type": "execute_result"
    }
   ],
   "source": [
    "import pandas as pd \n",
    "pd.DataFrame(opt)"
   ]
  },
  {
   "cell_type": "code",
   "execution_count": null,
   "metadata": {},
   "outputs": [],
   "source": []
  },
  {
   "cell_type": "code",
   "execution_count": null,
   "metadata": {},
   "outputs": [],
   "source": []
  },
  {
   "cell_type": "code",
   "execution_count": null,
   "metadata": {},
   "outputs": [],
   "source": []
  }
 ],
 "metadata": {
  "kernelspec": {
   "display_name": "Python 3",
   "language": "python",
   "name": "python3"
  },
  "language_info": {
   "codemirror_mode": {
    "name": "ipython",
    "version": 3
   },
   "file_extension": ".py",
   "mimetype": "text/x-python",
   "name": "python",
   "nbconvert_exporter": "python",
   "pygments_lexer": "ipython3",
   "version": "3.6.5"
  }
 },
 "nbformat": 4,
 "nbformat_minor": 2
}
