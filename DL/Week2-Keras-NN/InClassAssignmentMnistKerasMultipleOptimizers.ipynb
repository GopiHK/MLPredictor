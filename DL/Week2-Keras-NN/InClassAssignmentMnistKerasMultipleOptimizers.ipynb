{
 "cells": [
  {
   "cell_type": "code",
   "execution_count": 3,
   "metadata": {},
   "outputs": [
    {
     "name": "stderr",
     "output_type": "stream",
     "text": [
      "Using TensorFlow backend.\n"
     ]
    }
   ],
   "source": [
    "import numpy as np\n",
    "import matplotlib.pyplot as plt \n",
    "import tensorflow as tf\n",
    "import keras\n",
    "from keras  import models, layers, optimizers"
   ]
  },
  {
   "cell_type": "code",
   "execution_count": null,
   "metadata": {},
   "outputs": [],
   "source": []
  },
  {
   "cell_type": "code",
   "execution_count": 4,
   "metadata": {},
   "outputs": [],
   "source": [
    "#Complete this function for creating  keras layer based on netwrok parameters, and run for each optimzer passed in the param\n",
    "def mainDriverMNistKeras(opt):\n",
    "    (x_train, y_train), (x_test, y_test) = tf.keras.datasets.mnist.load_data()\n",
    "    x_train = x_train.reshape(x_train.shape[0], x_train.shape[1]*x_train.shape[2])\n",
    "    x_train = x_train/255\n",
    "    x_test = x_test.reshape(x_test.shape[0], x_test.shape[1]*x_test.shape[2])\n",
    "    x_test = x_test/255\n",
    "\n",
    "    y_train_cat = keras.utils.to_categorical(y_train, num_classes=10)\n",
    "    y_test_cat = keras.utils.to_categorical(y_test, num_classes=10)\n",
    "\n",
    "    #Assume you have 3 layers, with 600 units inlayer1, 40 in layer 2, and 10 in layer 3, act=relu, relu, softmax, input shape same\n",
    "    ## Write code to create this model (4 lines of code)\n",
    "    network = models.Sequential()\n",
    "    network.add(layers.Dense(600, activation=\"relu\", input_shape =x_train.shape[1:]))\n",
    "    network.add(layers.Dense(40, activation=\"relu\"))\n",
    "    network.add(layers.Dense(10, activation=\"softmax\"))\n",
    "    ## Write code to create this model (4 lines of code)\n",
    "    ## Now take each optimizer passed in the parameter opt and run the model.\n",
    "    ## We need to get the optimizer used and the accuracy for that optimzer\n",
    "    ## Store the performance in a dictionary\n",
    "    \n",
    "    \n",
    "    OptPerf = {}\n",
    "    #Write Code to take each optimizer, compile, fit, predict for train and test and store the result in a dictionary OptPerf\n",
    "    for i,op in opt.items():\n",
    "        network.compile(optimizer= op, loss = \"categorical_crossentropy\", metrics = [\"accuracy\"])\n",
    "        network.fit(x_train, y_train_cat, epochs=3, batch_size=1024)\n",
    "        #use loss = \"categorical_crossentropy\", metrics = \"accuracy\" (in a list)\n",
    "        y_pred_train = network.predict(x_train)\n",
    "        y_pred_train_val = np.argmax(y_pred_train, axis=1)\n",
    "        result_train=(y_pred_train_val == y_train)\n",
    "        y_pred_test = network.predict(x_test)\n",
    "        y_pred_test_val = np.argmax(y_pred_test, axis=1)\n",
    "        result_test=(y_pred_test_val == y_test)\n",
    "        \n",
    "        \n",
    "        OptPerf[i]={\"train:\" :np.sum(result_train)/len(result_train), \"test:\" : np.sum(result_test)/len(result_test)}\n",
    "        print (\"Over RESULTS\", OptPerf)\n",
    "    return (y_pred_test_val,y_test,y_pred_test)\n",
    "    "
   ]
  },
  {
   "cell_type": "code",
   "execution_count": 5,
   "metadata": {},
   "outputs": [
    {
     "name": "stdout",
     "output_type": "stream",
     "text": [
      "Epoch 1/3\n",
      "60000/60000 [==============================] - 18s 308us/step - loss: 0.5785 - acc: 0.8311\n",
      "Epoch 2/3\n",
      "60000/60000 [==============================] - 18s 307us/step - loss: 0.2325 - acc: 0.9320\n",
      "Epoch 3/3\n",
      "60000/60000 [==============================] - 18s 307us/step - loss: 0.1586 - acc: 0.9534\n",
      "Over RESULTS {'Rmsprop': {'train:': 0.9583833333333334, 'test:': 0.9544}}\n"
     ]
    }
   ],
   "source": [
    "#Call this with Rmsprop use optimizers.RMSprop(lr=0.001), and use \"rmsprop\" as another entry to identify that the result is for rmsprop\n",
    "##One line of code\n",
    "a=mainDriverMNistKeras({\"Rmsprop\": optimizers.RMSprop(lr=0.001)})"
   ]
  },
  {
   "cell_type": "code",
   "execution_count": 6,
   "metadata": {},
   "outputs": [
    {
     "name": "stdout",
     "output_type": "stream",
     "text": [
      "Epoch 1/3\n",
      "60000/60000 [==============================] - 20s 331us/step - loss: 0.4967 - acc: 0.8531\n",
      "Epoch 2/3\n",
      "60000/60000 [==============================] - 19s 315us/step - loss: 0.1583 - acc: 0.9541\n",
      "Epoch 3/3\n",
      "60000/60000 [==============================] - 19s 317us/step - loss: 0.1099 - acc: 0.9680\n",
      "Over RESULTS {'nadam': {'train:': 0.9754, 'test:': 0.9674}}\n",
      "Epoch 1/3\n",
      "60000/60000 [==============================] - 18s 301us/step - loss: 0.0779 - acc: 0.9781\n",
      "Epoch 2/3\n",
      "60000/60000 [==============================] - 18s 297us/step - loss: 0.0741 - acc: 0.9790\n",
      "Epoch 3/3\n",
      "60000/60000 [==============================] - 18s 298us/step - loss: 0.0732 - acc: 0.9791\n",
      "Over RESULTS {'nadam': {'train:': 0.9754, 'test:': 0.9674}, 'sgd': {'train:': 0.9795, 'test:': 0.9718}}\n",
      "Epoch 1/3\n",
      "60000/60000 [==============================] - 19s 311us/step - loss: 0.1001 - acc: 0.9694\n",
      "Epoch 2/3\n",
      "60000/60000 [==============================] - 18s 303us/step - loss: 0.0752 - acc: 0.9773\n",
      "Epoch 3/3\n",
      "60000/60000 [==============================] - 18s 303us/step - loss: 0.0621 - acc: 0.9813\n",
      "Over RESULTS {'nadam': {'train:': 0.9754, 'test:': 0.9674}, 'sgd': {'train:': 0.9795, 'test:': 0.9718}, 'Rmsprop': {'train:': 0.9857666666666667, 'test:': 0.975}}\n",
      "Epoch 1/3\n",
      "60000/60000 [==============================] - 19s 323us/step - loss: 0.0400 - acc: 0.9890\n",
      "Epoch 2/3\n",
      "60000/60000 [==============================] - 19s 316us/step - loss: 0.0347 - acc: 0.9904\n",
      "Epoch 3/3\n",
      "60000/60000 [==============================] - 19s 323us/step - loss: 0.0316 - acc: 0.9915\n",
      "Over RESULTS {'nadam': {'train:': 0.9754, 'test:': 0.9674}, 'sgd': {'train:': 0.9795, 'test:': 0.9718}, 'Rmsprop': {'train:': 0.9857666666666667, 'test:': 0.975}, 'adadelta': {'train:': 0.9916666666666667, 'test:': 0.979}}\n",
      "Epoch 1/3\n",
      "60000/60000 [==============================] - 18s 303us/step - loss: 0.4903 - acc: 0.9414\n",
      "Epoch 2/3\n",
      "60000/60000 [==============================] - 18s 298us/step - loss: 0.0387 - acc: 0.9891\n",
      "Epoch 3/3\n",
      "60000/60000 [==============================] - 18s 300us/step - loss: 0.0312 - acc: 0.9913\n",
      "Over RESULTS {'nadam': {'train:': 0.9754, 'test:': 0.9674}, 'sgd': {'train:': 0.9795, 'test:': 0.9718}, 'Rmsprop': {'train:': 0.9857666666666667, 'test:': 0.975}, 'adadelta': {'train:': 0.9916666666666667, 'test:': 0.979}, 'adagrad': {'train:': 0.9935166666666667, 'test:': 0.9794}}\n",
      "Epoch 1/3\n",
      "60000/60000 [==============================] - 19s 320us/step - loss: 0.0333 - acc: 0.9903\n",
      "Epoch 2/3\n",
      "60000/60000 [==============================] - 18s 308us/step - loss: 0.0223 - acc: 0.9939\n",
      "Epoch 3/3\n",
      "60000/60000 [==============================] - 18s 307us/step - loss: 0.0162 - acc: 0.9963\n",
      "Over RESULTS {'nadam': {'train:': 0.9754, 'test:': 0.9674}, 'sgd': {'train:': 0.9795, 'test:': 0.9718}, 'Rmsprop': {'train:': 0.9857666666666667, 'test:': 0.975}, 'adadelta': {'train:': 0.9916666666666667, 'test:': 0.979}, 'adagrad': {'train:': 0.9935166666666667, 'test:': 0.9794}, 'adam': {'train:': 0.9975333333333334, 'test:': 0.9816}}\n",
      "Epoch 1/3\n",
      "60000/60000 [==============================] - 19s 319us/step - loss: 0.0161 - acc: 0.9956\n",
      "Epoch 2/3\n",
      "60000/60000 [==============================] - 19s 310us/step - loss: 0.0084 - acc: 0.9989\n",
      "Epoch 3/3\n",
      "60000/60000 [==============================] - 19s 310us/step - loss: 0.0068 - acc: 0.9993\n",
      "Over RESULTS {'nadam': {'train:': 0.9754, 'test:': 0.9674}, 'sgd': {'train:': 0.9795, 'test:': 0.9718}, 'Rmsprop': {'train:': 0.9857666666666667, 'test:': 0.975}, 'adadelta': {'train:': 0.9916666666666667, 'test:': 0.979}, 'adagrad': {'train:': 0.9935166666666667, 'test:': 0.9794}, 'adam': {'train:': 0.9975333333333334, 'test:': 0.9816}, 'adamax': {'train:': 0.99955, 'test:': 0.9821}}\n"
     ]
    }
   ],
   "source": [
    "#Good practice to have this protection block to accidentally prevent executing main code\n",
    "if __name__ == \"__main__\":\n",
    "    ## Now set the parameters for opt, and call the keras model to predict and store the prediction accuracy\n",
    "#    \"Rmsprop\" = optimizers.RMSprop(lr=0.001)\n",
    "#    \"adadelta\" = optimizers.adadelta()\n",
    "#    \"adagrad\" = optimizers.adagrad(), ),\n",
    "#    \"adam\" =  optimizers.adam(), ,),\n",
    "#    \"adamax\"= optimizers.adamax(), ),\n",
    "#    \"nadam\"= optimizers.nadam(), ),\n",
    "#    \"sgd\"= optimizers.sgd(), )]\n",
    " #call and make predictions and store the accuracy for each optimizer\n",
    "    optm=mainDriverMNistKeras({  \"nadam\":optimizers.nadam(),\"sgd\": optimizers.sgd(),\"Rmsprop\": optimizers.RMSprop(lr=0.001),\"adadelta\" :optimizers.adadelta(),\"adagrad\": optimizers.adagrad(),\"adam\": optimizers.adam(),\"adamax\":optimizers.adamax()})"
   ]
  },
  {
   "cell_type": "code",
   "execution_count": 9,
   "metadata": {},
   "outputs": [
    {
     "data": {
      "text/plain": [
       "array([7, 2, 1, ..., 4, 5, 6])"
      ]
     },
     "execution_count": 9,
     "metadata": {},
     "output_type": "execute_result"
    }
   ],
   "source": [
    "import pandas as pd\n",
    "df=pd.DataFrame(optm)"
   ]
  },
  {
   "cell_type": "code",
   "execution_count": 10,
   "metadata": {},
   "outputs": [
    {
     "data": {
      "text/plain": [
       "array([7, 2, 1, ..., 4, 5, 6], dtype=uint8)"
      ]
     },
     "execution_count": 10,
     "metadata": {},
     "output_type": "execute_result"
    }
   ],
   "source": []
  },
  {
   "cell_type": "code",
   "execution_count": 14,
   "metadata": {},
   "outputs": [
    {
     "data": {
      "text/plain": [
       "array([1.0067394e-05, 3.2666574e-07, 1.1429262e-03, 3.1056919e-04,\n",
       "       1.9263761e-07, 3.8181793e-06, 1.0566357e-07, 9.9840838e-01,\n",
       "       5.9304402e-06, 1.1777449e-04], dtype=float32)"
      ]
     },
     "execution_count": 14,
     "metadata": {},
     "output_type": "execute_result"
    }
   ],
   "source": []
  },
  {
   "cell_type": "code",
   "execution_count": null,
   "metadata": {},
   "outputs": [],
   "source": [
    "df=pd.DataFrame(optm)"
   ]
  },
  {
   "cell_type": "code",
   "execution_count": null,
   "metadata": {},
   "outputs": [],
   "source": [
    "df"
   ]
  },
  {
   "cell_type": "code",
   "execution_count": null,
   "metadata": {},
   "outputs": [],
   "source": []
  }
 ],
 "metadata": {
  "kernelspec": {
   "display_name": "Python 3",
   "language": "python",
   "name": "python3"
  },
  "language_info": {
   "codemirror_mode": {
    "name": "ipython",
    "version": 3
   },
   "file_extension": ".py",
   "mimetype": "text/x-python",
   "name": "python",
   "nbconvert_exporter": "python",
   "pygments_lexer": "ipython3",
   "version": "3.6.5"
  }
 },
 "nbformat": 4,
 "nbformat_minor": 2
}
