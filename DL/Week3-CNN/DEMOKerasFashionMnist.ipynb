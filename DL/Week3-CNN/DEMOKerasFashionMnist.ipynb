{
 "cells": [
  {
   "cell_type": "code",
   "execution_count": 20,
   "metadata": {},
   "outputs": [],
   "source": [
    "import keras\n",
    "import keras.datasets\n",
    "from keras.datasets import fashion_mnist\n",
    "import matplotlib.pyplot as plt\n",
    "import numpy as np\n",
    "%matplotlib inline\n",
    "from keras.utils import to_categorical"
   ]
  },
  {
   "cell_type": "code",
   "execution_count": 21,
   "metadata": {},
   "outputs": [],
   "source": [
    "from keras.models import Sequential,Input,Model\n",
    "from keras.layers import Dense, Dropout, Flatten\n",
    "from keras.layers import Conv2D, MaxPooling2D\n",
    "from keras.layers.normalization import BatchNormalization\n",
    "from keras.layers.advanced_activations import LeakyReLU\n",
    "from sklearn.model_selection import train_test_split"
   ]
  },
  {
   "cell_type": "code",
   "execution_count": 22,
   "metadata": {},
   "outputs": [],
   "source": [
    "(x_train, y_train), (x_test, y_test) = fashion_mnist.load_data()"
   ]
  },
  {
   "cell_type": "code",
   "execution_count": 23,
   "metadata": {},
   "outputs": [
    {
     "name": "stdout",
     "output_type": "stream",
     "text": [
      "(60000, 28, 28) (10000, 28, 28)\n",
      "(60000, 28, 28, 1) (10000, 28, 28, 1) (60000, 10) (10000, 10)\n"
     ]
    }
   ],
   "source": [
    "print(x_train.shape, x_test.shape)\n",
    "x_train = x_train/255\n",
    "x_test = x_test/255\n",
    "x_train = x_train.reshape( -1, 28,28,1)\n",
    "x_test = x_test.reshape( -1, 28,28,1)\n",
    "y_train_hot = to_categorical(y_train)\n",
    "y_test_hot = to_categorical(y_test)\n",
    "print(x_train.shape, x_test.shape, y_train_hot.shape, y_test_hot.shape)\n"
   ]
  },
  {
   "cell_type": "code",
   "execution_count": 24,
   "metadata": {},
   "outputs": [],
   "source": [
    "batch_size = 1024\n",
    "epochs =20\n",
    "num_classes = 10"
   ]
  },
  {
   "cell_type": "code",
   "execution_count": 25,
   "metadata": {},
   "outputs": [],
   "source": [
    "def BuildModel1(input_shape=(28,28,1), convSize=(3,3), PoolSize=(2,2)):\n",
    "    modelFM = Sequential()\n",
    "    modelFM.add(Conv2D(32, kernel_size=convSize,\n",
    "                       activation='linear',\n",
    "                       input_shape=input_shape,padding=\"same\"))\n",
    "    modelFM.add(LeakyReLU(alpha=0.1))\n",
    "    modelFM.add(MaxPooling2D((2, 2),padding='same'))\n",
    "    modelFM.add(Conv2D(64, convSize, \n",
    "                       activation='linear',\n",
    "                       padding='same'))\n",
    "    modelFM.add(LeakyReLU(alpha=0.1))\n",
    "    modelFM.add(MaxPooling2D(pool_size=PoolSize,padding='same'))\n",
    "    modelFM.add(Conv2D(128, convSize, \n",
    "                       activation='linear',\n",
    "                       padding='same'))\n",
    "    modelFM.add(LeakyReLU(alpha=0.1))\n",
    "    modelFM.add(MaxPooling2D(pool_size=PoolSize,padding='same'))\n",
    "    modelFM.add(Flatten())\n",
    "    modelFM.add(Dense(128, activation='linear'))\n",
    "    modelFM.add(LeakyReLU(alpha=0.1))\n",
    "    modelFM.add(Dense(num_classes, activation='softmax'))\n",
    "    return modelFM"
   ]
  },
  {
   "cell_type": "code",
   "execution_count": 26,
   "metadata": {},
   "outputs": [],
   "source": [
    "modelFM = BuildModel1()\n",
    "modelFM.compile(loss=keras.losses.categorical_crossentropy, optimizer=keras.optimizers.Adam(),metrics=['accuracy'])"
   ]
  },
  {
   "cell_type": "code",
   "execution_count": 27,
   "metadata": {},
   "outputs": [
    {
     "name": "stdout",
     "output_type": "stream",
     "text": [
      "_________________________________________________________________\n",
      "Layer (type)                 Output Shape              Param #   \n",
      "=================================================================\n",
      "conv2d_7 (Conv2D)            (None, 28, 28, 32)        320       \n",
      "_________________________________________________________________\n",
      "leaky_re_lu_9 (LeakyReLU)    (None, 28, 28, 32)        0         \n",
      "_________________________________________________________________\n",
      "max_pooling2d_7 (MaxPooling2 (None, 14, 14, 32)        0         \n",
      "_________________________________________________________________\n",
      "conv2d_8 (Conv2D)            (None, 14, 14, 64)        18496     \n",
      "_________________________________________________________________\n",
      "leaky_re_lu_10 (LeakyReLU)   (None, 14, 14, 64)        0         \n",
      "_________________________________________________________________\n",
      "max_pooling2d_8 (MaxPooling2 (None, 7, 7, 64)          0         \n",
      "_________________________________________________________________\n",
      "conv2d_9 (Conv2D)            (None, 7, 7, 128)         73856     \n",
      "_________________________________________________________________\n",
      "leaky_re_lu_11 (LeakyReLU)   (None, 7, 7, 128)         0         \n",
      "_________________________________________________________________\n",
      "max_pooling2d_9 (MaxPooling2 (None, 4, 4, 128)         0         \n",
      "_________________________________________________________________\n",
      "flatten_3 (Flatten)          (None, 2048)              0         \n",
      "_________________________________________________________________\n",
      "dense_5 (Dense)              (None, 128)               262272    \n",
      "_________________________________________________________________\n",
      "leaky_re_lu_12 (LeakyReLU)   (None, 128)               0         \n",
      "_________________________________________________________________\n",
      "dense_6 (Dense)              (None, 10)                1290      \n",
      "=================================================================\n",
      "Total params: 356,234\n",
      "Trainable params: 356,234\n",
      "Non-trainable params: 0\n",
      "_________________________________________________________________\n"
     ]
    }
   ],
   "source": [
    "modelFM.summary()"
   ]
  },
  {
   "cell_type": "code",
   "execution_count": 28,
   "metadata": {},
   "outputs": [
    {
     "name": "stdout",
     "output_type": "stream",
     "text": [
      "Train on 10368 samples, validate on 2592 samples\n",
      "Epoch 1/20\n",
      "10368/10368 [==============================] - 128s 12ms/step - loss: 1.7325 - acc: 0.4608 - val_loss: 0.9523 - val_acc: 0.6474\n",
      "Epoch 2/20\n",
      "10368/10368 [==============================] - 127s 12ms/step - loss: 0.8988 - acc: 0.6593 - val_loss: 0.7627 - val_acc: 0.7180\n",
      "Epoch 3/20\n",
      "10368/10368 [==============================] - 128s 12ms/step - loss: 0.7176 - acc: 0.7300 - val_loss: 0.6452 - val_acc: 0.7515\n",
      "Epoch 4/20\n",
      "10368/10368 [==============================] - 130s 13ms/step - loss: 0.6376 - acc: 0.7621 - val_loss: 0.6370 - val_acc: 0.7558\n",
      "Epoch 5/20\n",
      "10368/10368 [==============================] - 127s 12ms/step - loss: 0.5901 - acc: 0.7775 - val_loss: 0.5803 - val_acc: 0.7778\n",
      "Epoch 6/20\n",
      "10368/10368 [==============================] - 128s 12ms/step - loss: 0.5435 - acc: 0.7976 - val_loss: 0.5568 - val_acc: 0.7836\n",
      "Epoch 7/20\n",
      "10368/10368 [==============================] - 127s 12ms/step - loss: 0.5131 - acc: 0.8077 - val_loss: 0.4875 - val_acc: 0.8256\n",
      "Epoch 8/20\n",
      "10368/10368 [==============================] - 126s 12ms/step - loss: 0.4711 - acc: 0.8328 - val_loss: 0.4798 - val_acc: 0.8256\n",
      "Epoch 9/20\n",
      "10368/10368 [==============================] - 127s 12ms/step - loss: 0.4584 - acc: 0.8322 - val_loss: 0.4414 - val_acc: 0.8391\n",
      "Epoch 10/20\n",
      "10368/10368 [==============================] - 127s 12ms/step - loss: 0.4200 - acc: 0.8526 - val_loss: 0.4436 - val_acc: 0.8368\n",
      "Epoch 11/20\n",
      "10368/10368 [==============================] - 126s 12ms/step - loss: 0.4076 - acc: 0.8556 - val_loss: 0.4442 - val_acc: 0.8414\n",
      "Epoch 12/20\n",
      "10368/10368 [==============================] - 127s 12ms/step - loss: 0.3972 - acc: 0.8587 - val_loss: 0.3944 - val_acc: 0.8538\n",
      "Epoch 13/20\n",
      "10368/10368 [==============================] - 127s 12ms/step - loss: 0.3654 - acc: 0.8685 - val_loss: 0.3908 - val_acc: 0.8580\n",
      "Epoch 14/20\n",
      "10368/10368 [==============================] - 128s 12ms/step - loss: 0.3490 - acc: 0.8744 - val_loss: 0.3802 - val_acc: 0.8584\n",
      "Epoch 15/20\n",
      "10368/10368 [==============================] - 128s 12ms/step - loss: 0.3562 - acc: 0.8700 - val_loss: 0.3775 - val_acc: 0.8638\n",
      "Epoch 16/20\n",
      "10368/10368 [==============================] - 128s 12ms/step - loss: 0.3521 - acc: 0.8739 - val_loss: 0.3623 - val_acc: 0.8727\n",
      "Epoch 17/20\n",
      "10368/10368 [==============================] - 128s 12ms/step - loss: 0.3270 - acc: 0.8840 - val_loss: 0.3692 - val_acc: 0.8646\n",
      "Epoch 18/20\n",
      "10368/10368 [==============================] - 128s 12ms/step - loss: 0.3125 - acc: 0.8891 - val_loss: 0.3693 - val_acc: 0.8630\n",
      "Epoch 19/20\n",
      "10368/10368 [==============================] - 128s 12ms/step - loss: 0.3116 - acc: 0.8875 - val_loss: 0.3532 - val_acc: 0.8665\n",
      "Epoch 20/20\n",
      "10368/10368 [==============================] - 129s 12ms/step - loss: 0.2964 - acc: 0.8938 - val_loss: 0.3447 - val_acc: 0.8804\n"
     ]
    }
   ],
   "source": [
    "#(x_train, y_train), (x_test, y_test)\n",
    "tr_x,cv_x,tr_y,cv_y=train_test_split(x_train,y_train_hot, test_size =0.4,random_state=30 );\n",
    "tr_xx,cv_xx,tr_yx,cv_yx=train_test_split(tr_x,tr_y, test_size =0.4,random_state=30 );\n",
    "tr_xxx,cv_xxx,tr_yxx,cv_yxx=train_test_split(tr_xx,tr_yx, test_size =0.4,random_state=30 );\n",
    "tr_xxx1,cv_xxx1,tr_yxx1,cv_yxx1=train_test_split(tr_xxx,tr_yxx, test_size =0.2,random_state=30 );\n",
    "\n",
    "\n",
    "\n",
    "model_train = modelFM.fit(tr_xxx1, tr_yxx1, batch_size=batch_size,epochs=epochs,verbose=1,validation_data=(cv_xxx1,cv_yxx1))"
   ]
  },
  {
   "cell_type": "code",
   "execution_count": 29,
   "metadata": {},
   "outputs": [
    {
     "name": "stdout",
     "output_type": "stream",
     "text": [
      "8640/8640 [==============================] - 33s 4ms/step\n",
      "Test loss: 0.35058724684295833\n",
      "Test accuracy: 0.8739583333333333\n"
     ]
    }
   ],
   "source": [
    "test_eval = modelFM.evaluate(cv_xxx, cv_yxx, verbose=1)\n",
    "print('Test loss:', test_eval[0])\n",
    "print('Test accuracy:', test_eval[1])"
   ]
  },
  {
   "cell_type": "code",
   "execution_count": 30,
   "metadata": {},
   "outputs": [],
   "source": [
    "def BuildModelWithDO(input_shape=(28,28,1), convSize=(3,3), PoolSize=(2,2)):\n",
    "    modelFM = Sequential()\n",
    "    modelFM.add(Conv2D(32, kernel_size=convSize,\n",
    "                       activation='linear',\n",
    "                       input_shape=input_shape,padding=\"same\"))\n",
    "    modelFM.add(LeakyReLU(alpha=0.1))\n",
    "    modelFM.add(MaxPooling2D((2, 2),padding='same'))\n",
    "    modelFM.add(Dropout(0.1))    \n",
    "    modelFM.add(Conv2D(64, convSize, \n",
    "                       activation='linear',\n",
    "                       padding='same'))\n",
    "    modelFM.add(LeakyReLU(alpha=0.1))\n",
    "    modelFM.add(MaxPooling2D(pool_size=PoolSize,padding='same'))\n",
    "    modelFM.add(Dropout(0.2))\n",
    "    modelFM.add(Conv2D(128, convSize, \n",
    "                       activation='linear',\n",
    "                       padding='same'))\n",
    "    modelFM.add(LeakyReLU(alpha=0.1))\n",
    "    modelFM.add(MaxPooling2D(pool_size=PoolSize,padding='same'))\n",
    "    modelFM.add(Dropout(0.3))\n",
    "    modelFM.add(Flatten())\n",
    "    modelFM.add(Dense(128, activation='linear'))\n",
    "    modelFM.add(LeakyReLU(alpha=0.1))\n",
    "    modelFM.add(Dropout(0.3))\n",
    "    modelFM.add(Dense(num_classes, activation='softmax'))\n",
    "    return modelFM\n",
    "modelFMDO = BuildModelWithDO()"
   ]
  },
  {
   "cell_type": "code",
   "execution_count": 31,
   "metadata": {},
   "outputs": [],
   "source": [
    "modelFMDO.compile(loss=keras.losses.categorical_crossentropy, optimizer=keras.optimizers.Adam(),metrics=['accuracy'])"
   ]
  },
  {
   "cell_type": "code",
   "execution_count": null,
   "metadata": {},
   "outputs": [
    {
     "name": "stdout",
     "output_type": "stream",
     "text": [
      "_________________________________________________________________\n",
      "Layer (type)                 Output Shape              Param #   \n",
      "=================================================================\n",
      "conv2d_10 (Conv2D)           (None, 28, 28, 32)        320       \n",
      "_________________________________________________________________\n",
      "leaky_re_lu_13 (LeakyReLU)   (None, 28, 28, 32)        0         \n",
      "_________________________________________________________________\n",
      "max_pooling2d_10 (MaxPooling (None, 14, 14, 32)        0         \n",
      "_________________________________________________________________\n",
      "dropout_1 (Dropout)          (None, 14, 14, 32)        0         \n",
      "_________________________________________________________________\n",
      "conv2d_11 (Conv2D)           (None, 14, 14, 64)        18496     \n",
      "_________________________________________________________________\n",
      "leaky_re_lu_14 (LeakyReLU)   (None, 14, 14, 64)        0         \n",
      "_________________________________________________________________\n",
      "max_pooling2d_11 (MaxPooling (None, 7, 7, 64)          0         \n",
      "_________________________________________________________________\n",
      "dropout_2 (Dropout)          (None, 7, 7, 64)          0         \n",
      "_________________________________________________________________\n",
      "conv2d_12 (Conv2D)           (None, 7, 7, 128)         73856     \n",
      "_________________________________________________________________\n",
      "leaky_re_lu_15 (LeakyReLU)   (None, 7, 7, 128)         0         \n",
      "_________________________________________________________________\n",
      "max_pooling2d_12 (MaxPooling (None, 4, 4, 128)         0         \n",
      "_________________________________________________________________\n",
      "dropout_3 (Dropout)          (None, 4, 4, 128)         0         \n",
      "_________________________________________________________________\n",
      "flatten_4 (Flatten)          (None, 2048)              0         \n",
      "_________________________________________________________________\n",
      "dense_7 (Dense)              (None, 128)               262272    \n",
      "_________________________________________________________________\n",
      "leaky_re_lu_16 (LeakyReLU)   (None, 128)               0         \n",
      "_________________________________________________________________\n",
      "dropout_4 (Dropout)          (None, 128)               0         \n",
      "_________________________________________________________________\n",
      "dense_8 (Dense)              (None, 10)                1290      \n",
      "=================================================================\n",
      "Total params: 356,234\n",
      "Trainable params: 356,234\n",
      "Non-trainable params: 0\n",
      "_________________________________________________________________\n",
      "Train on 10368 samples, validate on 2592 samples\n",
      "Epoch 1/20\n",
      "10368/10368 [==============================] - 136s 13ms/step - loss: 1.8554 - acc: 0.3409 - val_loss: 1.0598 - val_acc: 0.5907\n",
      "Epoch 2/20\n",
      "10368/10368 [==============================] - 136s 13ms/step - loss: 1.0938 - acc: 0.5834 - val_loss: 0.8062 - val_acc: 0.7160\n",
      "Epoch 3/20\n",
      "10368/10368 [==============================] - 137s 13ms/step - loss: 0.8455 - acc: 0.6792 - val_loss: 0.6726 - val_acc: 0.7450\n",
      "Epoch 4/20\n",
      " 7168/10368 [===================>..........] - ETA: 42s - loss: 0.7390 - acc: 0.7227"
     ]
    }
   ],
   "source": [
    "modelFMDO.summary()\n",
    "model_trainDO = modelFMDO.fit(tr_xxx1, tr_yxx1, batch_size=batch_size,epochs=epochs,verbose=1,validation_data=(cv_xxx1,cv_yxx1))"
   ]
  },
  {
   "cell_type": "code",
   "execution_count": null,
   "metadata": {},
   "outputs": [],
   "source": [
    "accuracy = model_trainDO.history['acc']\n",
    "val_accuracy = model_trainDO.history['val_acc']\n",
    "loss = model_trainDO.history['loss']\n",
    "val_loss = model_trainDO.history['val_loss']\n",
    "epochs = range(len(accuracy))\n",
    "plt.plot(epochs, accuracy, 'bo', label='Training accuracy')\n",
    "plt.plot(epochs, val_accuracy, 'b', label='Validation accuracy')\n",
    "plt.title('Training and validation accuracy')\n",
    "plt.legend()\n",
    "plt.figure()\n",
    "plt.plot(epochs, loss, 'bo', label='Training loss')\n",
    "plt.plot(epochs, val_loss, 'b', label='Validation loss')\n",
    "plt.title('Training and validation loss')\n",
    "plt.legend()\n",
    "plt.show()"
   ]
  },
  {
   "cell_type": "code",
   "execution_count": null,
   "metadata": {},
   "outputs": [],
   "source": [
    "predicted_classes = modelFMDO.predict(x_test)"
   ]
  },
  {
   "cell_type": "code",
   "execution_count": null,
   "metadata": {},
   "outputs": [],
   "source": [
    "predicted_classes = np.argmax(np.round(predicted_classes),axis=1)"
   ]
  },
  {
   "cell_type": "code",
   "execution_count": null,
   "metadata": {},
   "outputs": [],
   "source": [
    "test_eval = modelFMDO.evaluate(x_test, y_test_hot, verbose=1)\n",
    "print('Test loss:', test_eval[0])\n",
    "print('Test accuracy:', test_eval[1])"
   ]
  },
  {
   "cell_type": "code",
   "execution_count": null,
   "metadata": {},
   "outputs": [],
   "source": []
  },
  {
   "cell_type": "code",
   "execution_count": null,
   "metadata": {},
   "outputs": [],
   "source": []
  },
  {
   "cell_type": "code",
   "execution_count": null,
   "metadata": {},
   "outputs": [],
   "source": []
  }
 ],
 "metadata": {
  "kernelspec": {
   "display_name": "Python 3",
   "language": "python",
   "name": "python3"
  },
  "language_info": {
   "codemirror_mode": {
    "name": "ipython",
    "version": 3
   },
   "file_extension": ".py",
   "mimetype": "text/x-python",
   "name": "python",
   "nbconvert_exporter": "python",
   "pygments_lexer": "ipython3",
   "version": "3.7.3"
  }
 },
 "nbformat": 4,
 "nbformat_minor": 2
}
