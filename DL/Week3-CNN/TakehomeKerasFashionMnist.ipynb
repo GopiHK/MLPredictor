{
 "cells": [
  {
   "cell_type": "code",
   "execution_count": null,
   "metadata": {},
   "outputs": [],
   "source": [
    "## Write the code to build a model for FashionMNist.\n",
    "#Expected accuracy for Test >90\n",
    "# CV accuracy>90\n",
    "#Training Accuracy>90\n",
    "#If CV accuracy < 90 please take care by using dropouts"
   ]
  },
  {
   "cell_type": "code",
   "execution_count": 1,
   "metadata": {},
   "outputs": [
    {
     "name": "stderr",
     "output_type": "stream",
     "text": [
      "Using TensorFlow backend.\n"
     ]
    }
   ],
   "source": [
    "import keras\n",
    "import keras.datasets\n",
    "from keras.datasets import fashion_mnist\n",
    "import matplotlib.pyplot as plt\n",
    "import numpy as np\n",
    "%matplotlib inline\n",
    "from keras.utils import to_categorical"
   ]
  },
  {
   "cell_type": "code",
   "execution_count": 35,
   "metadata": {},
   "outputs": [],
   "source": [
    "from keras.models import Sequential,Input,Model\n",
    "from keras.layers import Dense, Dropout, Flatten\n",
    "from keras.layers import Conv2D, MaxPooling2D\n",
    "from keras.layers.normalization import BatchNormalization\n",
    "from keras.layers.advanced_activations import LeakyReLU\n",
    "from sklearn.model_selection import train_test_split"
   ]
  },
  {
   "cell_type": "code",
   "execution_count": 36,
   "metadata": {},
   "outputs": [],
   "source": [
    "(x_train, y_train), (x_test, y_test) = fashion_mnist.load_data()"
   ]
  },
  {
   "cell_type": "code",
   "execution_count": 37,
   "metadata": {},
   "outputs": [
    {
     "name": "stdout",
     "output_type": "stream",
     "text": [
      "(60000, 28, 28, 1) (10000, 28, 28, 1) (60000, 10) (10000, 10)\n"
     ]
    }
   ],
   "source": [
    "x_train = x_train/255\n",
    "x_test = x_test/255\n",
    "x_train = x_train.reshape( -1, 28,28,1)\n",
    "x_test = x_test.reshape( -1, 28,28,1)\n",
    "y_train_hot = to_categorical(y_train)\n",
    "y_test_hot = to_categorical(y_test)\n",
    "print(x_train.shape, x_test.shape, y_train_hot.shape, y_test_hot.shape)"
   ]
  },
  {
   "cell_type": "code",
   "execution_count": 47,
   "metadata": {},
   "outputs": [],
   "source": [
    "batch_size = 128\n",
    "epochs = 25\n",
    "num_classes = 10"
   ]
  },
  {
   "cell_type": "code",
   "execution_count": 58,
   "metadata": {},
   "outputs": [],
   "source": [
    "def BuildModel1(input_shape=(28,28,1), convSize=(3,3), PoolSize=(2,2)):\n",
    "    modelFM = Sequential()\n",
    "    modelFM.add(Conv2D(20, kernel_size=convSize,\n",
    "                       activation='linear',\n",
    "                       input_shape=input_shape,padding=\"same\"))\n",
    "    modelFM.add(LeakyReLU(alpha=0.2))\n",
    "    modelFM.add(MaxPooling2D(20,(2, 2),padding='same'))\n",
    "\n",
    "    modelFM.add(Conv2D(45, convSize, \n",
    "                       activation='linear',\n",
    "                       padding='same'))\n",
    "    modelFM.add(LeakyReLU(alpha=0.3))\n",
    "    modelFM.add(MaxPooling2D(pool_size=PoolSize,padding='same'))\n",
    "    modelFM.add(Dropout(0.3))\n",
    "\n",
    "    modelFM.add(Conv2D(50, convSize, \n",
    "                       activation='linear',\n",
    "                       padding='same'))\n",
    "    modelFM.add(LeakyReLU(alpha=0.4))\n",
    "    modelFM.add(MaxPooling2D(pool_size=PoolSize,padding='same'))\n",
    "    modelFM.add(Dropout(0.4))\n",
    "\n",
    "    modelFM.add(Flatten())\n",
    "    modelFM.add(Dense(100, activation='linear'))\n",
    "    modelFM.add(LeakyReLU(alpha=0.5))\n",
    "    modelFM.add(Dropout(0.4))\n",
    "    modelFM.add(Dense(num_classes, activation='softmax'))\n",
    "   \n",
    "\n",
    "  \n",
    "  \n",
    "\n",
    " \n",
    "    return modelFM"
   ]
  },
  {
   "cell_type": "code",
   "execution_count": 59,
   "metadata": {},
   "outputs": [
    {
     "name": "stdout",
     "output_type": "stream",
     "text": [
      "_________________________________________________________________\n",
      "Layer (type)                 Output Shape              Param #   \n",
      "=================================================================\n",
      "conv2d_28 (Conv2D)           (None, 28, 28, 20)        200       \n",
      "_________________________________________________________________\n",
      "leaky_re_lu_37 (LeakyReLU)   (None, 28, 28, 20)        0         \n",
      "_________________________________________________________________\n",
      "max_pooling2d_28 (MaxPooling (None, 14, 14, 20)        0         \n",
      "_________________________________________________________________\n",
      "conv2d_29 (Conv2D)           (None, 14, 14, 45)        8145      \n",
      "_________________________________________________________________\n",
      "leaky_re_lu_38 (LeakyReLU)   (None, 14, 14, 45)        0         \n",
      "_________________________________________________________________\n",
      "max_pooling2d_29 (MaxPooling (None, 7, 7, 45)          0         \n",
      "_________________________________________________________________\n",
      "dropout_25 (Dropout)         (None, 7, 7, 45)          0         \n",
      "_________________________________________________________________\n",
      "conv2d_30 (Conv2D)           (None, 7, 7, 50)          20300     \n",
      "_________________________________________________________________\n",
      "leaky_re_lu_39 (LeakyReLU)   (None, 7, 7, 50)          0         \n",
      "_________________________________________________________________\n",
      "max_pooling2d_30 (MaxPooling (None, 4, 4, 50)          0         \n",
      "_________________________________________________________________\n",
      "dropout_26 (Dropout)         (None, 4, 4, 50)          0         \n",
      "_________________________________________________________________\n",
      "flatten_10 (Flatten)         (None, 800)               0         \n",
      "_________________________________________________________________\n",
      "dense_19 (Dense)             (None, 100)               80100     \n",
      "_________________________________________________________________\n",
      "leaky_re_lu_40 (LeakyReLU)   (None, 100)               0         \n",
      "_________________________________________________________________\n",
      "dropout_27 (Dropout)         (None, 100)               0         \n",
      "_________________________________________________________________\n",
      "dense_20 (Dense)             (None, 10)                1010      \n",
      "=================================================================\n",
      "Total params: 109,755\n",
      "Trainable params: 109,755\n",
      "Non-trainable params: 0\n",
      "_________________________________________________________________\n"
     ]
    }
   ],
   "source": [
    "modelFM = BuildModel1()\n",
    "modelFM.compile(loss=keras.losses.categorical_crossentropy, optimizer=keras.optimizers.Adam(),metrics=['accuracy'])\n",
    "modelFM.summary()"
   ]
  },
  {
   "cell_type": "code",
   "execution_count": null,
   "metadata": {},
   "outputs": [
    {
     "name": "stdout",
     "output_type": "stream",
     "text": [
      "Train on 8294 samples, validate on 2074 samples\n",
      "Epoch 1/30\n",
      "8294/8294 [==============================] - 128s 15ms/step - loss: 1.7334 - acc: 0.3832 - val_loss: 0.9904 - val_acc: 0.6586\n",
      "Epoch 2/30\n",
      "8294/8294 [==============================] - 128s 15ms/step - loss: 0.9342 - acc: 0.6658 - val_loss: 0.7025 - val_acc: 0.7420\n",
      "Epoch 3/30\n",
      "8294/8294 [==============================] - 126s 15ms/step - loss: 0.7485 - acc: 0.7237 - val_loss: 0.6374 - val_acc: 0.7560\n",
      "Epoch 4/30\n",
      "8294/8294 [==============================] - 127s 15ms/step - loss: 0.6707 - acc: 0.7503 - val_loss: 0.5757 - val_acc: 0.7806\n",
      "Epoch 5/30\n",
      "8294/8294 [==============================] - 126s 15ms/step - loss: 0.6256 - acc: 0.7731 - val_loss: 0.5431 - val_acc: 0.7859\n",
      "Epoch 6/30\n",
      "8294/8294 [==============================] - 127s 15ms/step - loss: 0.5915 - acc: 0.7788 - val_loss: 0.5206 - val_acc: 0.7960\n",
      "Epoch 7/30\n",
      "8294/8294 [==============================] - 128s 15ms/step - loss: 0.5625 - acc: 0.7954 - val_loss: 0.5150 - val_acc: 0.8052\n",
      "Epoch 8/30\n",
      "8294/8294 [==============================] - 127s 15ms/step - loss: 0.5553 - acc: 0.7961 - val_loss: 0.4904 - val_acc: 0.8081\n",
      "Epoch 9/30\n",
      "8294/8294 [==============================] - 127s 15ms/step - loss: 0.5246 - acc: 0.8094 - val_loss: 0.4808 - val_acc: 0.8255\n",
      "Epoch 10/30\n",
      "8294/8294 [==============================] - 127s 15ms/step - loss: 0.5143 - acc: 0.8114 - val_loss: 0.4626 - val_acc: 0.8308\n",
      "Epoch 11/30\n",
      "8294/8294 [==============================] - 127s 15ms/step - loss: 0.4885 - acc: 0.8207 - val_loss: 0.4488 - val_acc: 0.8274\n",
      "Epoch 12/30\n",
      "8294/8294 [==============================] - 127s 15ms/step - loss: 0.4816 - acc: 0.8283 - val_loss: 0.4611 - val_acc: 0.8264\n",
      "Epoch 13/30\n",
      "8294/8294 [==============================] - 127s 15ms/step - loss: 0.4776 - acc: 0.8277 - val_loss: 0.4417 - val_acc: 0.8390\n",
      "Epoch 14/30\n",
      "8294/8294 [==============================] - 127s 15ms/step - loss: 0.4603 - acc: 0.8300 - val_loss: 0.4329 - val_acc: 0.8365\n",
      "Epoch 15/30\n",
      "8294/8294 [==============================] - 127s 15ms/step - loss: 0.4532 - acc: 0.8354 - val_loss: 0.4112 - val_acc: 0.8365\n",
      "Epoch 16/30\n",
      "8294/8294 [==============================] - 129s 16ms/step - loss: 0.4380 - acc: 0.8410 - val_loss: 0.4173 - val_acc: 0.8351\n",
      "Epoch 17/30\n",
      "8294/8294 [==============================] - 127s 15ms/step - loss: 0.4381 - acc: 0.8412 - val_loss: 0.4270 - val_acc: 0.8414\n",
      "Epoch 18/30\n",
      "8294/8294 [==============================] - 126s 15ms/step - loss: 0.4280 - acc: 0.8476 - val_loss: 0.4137 - val_acc: 0.8476\n",
      "Epoch 19/30\n",
      "8294/8294 [==============================] - 127s 15ms/step - loss: 0.4219 - acc: 0.8433 - val_loss: 0.4147 - val_acc: 0.8510\n",
      "Epoch 20/30\n",
      "8294/8294 [==============================] - 127s 15ms/step - loss: 0.4190 - acc: 0.8463 - val_loss: 0.4401 - val_acc: 0.8361\n",
      "Epoch 21/30\n",
      "8294/8294 [==============================] - 127s 15ms/step - loss: 0.4250 - acc: 0.8445 - val_loss: 0.3957 - val_acc: 0.8505\n",
      "Epoch 22/30\n",
      "3072/8294 [==========>...................] - ETA: 1:13 - loss: 0.3777 - acc: 0.8626"
     ]
    }
   ],
   "source": [
    "tr_x,cv_x,tr_y,cv_y=train_test_split(x_train,y_train_hot, test_size =0.4,random_state=30 );\n",
    "tr_xx,cv_xx,tr_yx,cv_yx=train_test_split(tr_x,tr_y, test_size =0.4,random_state=30 );\n",
    "tr_xxx,cv_xxx,tr_yxx,cv_yxx=train_test_split(tr_xx,tr_yx, test_size =0.4,random_state=30 );\n",
    "tr_xxx1,cv_xxx1,tr_yxx1,cv_yxx1=train_test_split(tr_xxx,tr_yxx, test_size =0.2,random_state=30 );\n",
    "tr_xxx2,cv_xxx2,tr_yxx2,cv_yxx2=train_test_split(tr_xxx1,tr_yxx1, test_size =0.2,random_state=30 );\n",
    "\n",
    "\n",
    "\n",
    "\n",
    "model_train1 = modelFM.fit(tr_xxx2, tr_yxx2, batch_size=batch_size,epochs=epochs,verbose=1,validation_data=(cv_xxx2,cv_yxx2))"
   ]
  },
  {
   "cell_type": "code",
   "execution_count": null,
   "metadata": {},
   "outputs": [],
   "source": [
    "#Plot the images for 100, 1000, 6000th image in the test data\n",
    "test_eval = modelFM.evaluate(x_test, y_test_hot, verbose=1)\n",
    "print('Test loss:', test_eval[0])\n",
    "print('Test accuracy:', test_eval[1])"
   ]
  },
  {
   "cell_type": "code",
   "execution_count": null,
   "metadata": {},
   "outputs": [],
   "source": [
    "predicted_classes = modelFM.predict(x_test)\n",
    "predicted_classes = np.argmax(np.round(predicted_classes),axis=1)\n",
    "image = [ x_test[100, :].reshape((28, 28)), x_test[1000, :].reshape((28, 28)),x_test[6000, :].reshape((28, 28))]\n",
    "actualLable = [ y_test[100], y_test[1000],y_test[6000]]\n",
    "predicted=[ predicted_classes[100], predicted_classes[1000],predicted_classes[6000]]\n",
    "\n",
    "\n",
    "for im,y,py in zip(image,actualLable,predicted):\n",
    "    \n",
    "    plt.imshow(im)\n",
    "    plt.show()\n",
    "    print(\"Actual is  {0} predicted is {1}\".format(y,py))\n",
    "\n",
    "                                "
   ]
  },
  {
   "cell_type": "code",
   "execution_count": null,
   "metadata": {},
   "outputs": [],
   "source": []
  },
  {
   "cell_type": "code",
   "execution_count": 41,
   "metadata": {},
   "outputs": [
    {
     "name": "stdout",
     "output_type": "stream",
     "text": [
      "_________________________________________________________________\n",
      "Layer (type)                 Output Shape              Param #   \n",
      "=================================================================\n",
      "conv2d_16 (Conv2D)           (None, 28, 28, 20)        200       \n",
      "_________________________________________________________________\n",
      "leaky_re_lu_21 (LeakyReLU)   (None, 28, 28, 20)        0         \n",
      "_________________________________________________________________\n",
      "max_pooling2d_16 (MaxPooling (None, 14, 14, 20)        0         \n",
      "_________________________________________________________________\n",
      "conv2d_17 (Conv2D)           (None, 14, 14, 45)        8145      \n",
      "_________________________________________________________________\n",
      "leaky_re_lu_22 (LeakyReLU)   (None, 14, 14, 45)        0         \n",
      "_________________________________________________________________\n",
      "max_pooling2d_17 (MaxPooling (None, 7, 7, 45)          0         \n",
      "_________________________________________________________________\n",
      "dropout_13 (Dropout)         (None, 7, 7, 45)          0         \n",
      "_________________________________________________________________\n",
      "conv2d_18 (Conv2D)           (None, 7, 7, 50)          20300     \n",
      "_________________________________________________________________\n",
      "leaky_re_lu_23 (LeakyReLU)   (None, 7, 7, 50)          0         \n",
      "_________________________________________________________________\n",
      "max_pooling2d_18 (MaxPooling (None, 4, 4, 50)          0         \n",
      "_________________________________________________________________\n",
      "dropout_14 (Dropout)         (None, 4, 4, 50)          0         \n",
      "_________________________________________________________________\n",
      "flatten_6 (Flatten)          (None, 800)               0         \n",
      "_________________________________________________________________\n",
      "dense_11 (Dense)             (None, 100)               80100     \n",
      "_________________________________________________________________\n",
      "leaky_re_lu_24 (LeakyReLU)   (None, 100)               0         \n",
      "_________________________________________________________________\n",
      "dropout_15 (Dropout)         (None, 100)               0         \n",
      "_________________________________________________________________\n",
      "dense_12 (Dense)             (None, 10)                1010      \n",
      "=================================================================\n",
      "Total params: 109,755\n",
      "Trainable params: 109,755\n",
      "Non-trainable params: 0\n",
      "_________________________________________________________________\n"
     ]
    }
   ],
   "source": [
    "modelFM = BuildModel1()\n",
    "modelFM.compile(loss=keras.losses.categorical_crossentropy, optimizer=keras.optimizers.Adam(),metrics=['accuracy'])\n",
    "modelFM.summary()"
   ]
  },
  {
   "cell_type": "code",
   "execution_count": 42,
   "metadata": {},
   "outputs": [
    {
     "name": "stdout",
     "output_type": "stream",
     "text": [
      "Train on 8294 samples, validate on 2074 samples\n",
      "Epoch 1/30\n",
      "8294/8294 [==============================] - 129s 16ms/step - loss: 1.2863 - acc: 0.5301 - val_loss: 0.7725 - val_acc: 0.7155\n",
      "Epoch 2/30\n",
      "8294/8294 [==============================] - 127s 15ms/step - loss: 0.7399 - acc: 0.7188 - val_loss: 0.6076 - val_acc: 0.7777\n",
      "Epoch 3/30\n",
      "8294/8294 [==============================] - 127s 15ms/step - loss: 0.6459 - acc: 0.7618 - val_loss: 0.5504 - val_acc: 0.7941\n",
      "Epoch 4/30\n",
      "8294/8294 [==============================] - 127s 15ms/step - loss: 0.5852 - acc: 0.7848 - val_loss: 0.5033 - val_acc: 0.8105\n",
      "Epoch 5/30\n",
      "8294/8294 [==============================] - 127s 15ms/step - loss: 0.5512 - acc: 0.7976 - val_loss: 0.4764 - val_acc: 0.8187\n",
      "Epoch 6/30\n",
      "8294/8294 [==============================] - 127s 15ms/step - loss: 0.5123 - acc: 0.8128 - val_loss: 0.4462 - val_acc: 0.8303\n",
      "Epoch 7/30\n",
      "8294/8294 [==============================] - 127s 15ms/step - loss: 0.4955 - acc: 0.8149 - val_loss: 0.4290 - val_acc: 0.8356\n",
      "Epoch 8/30\n",
      "8294/8294 [==============================] - 129s 16ms/step - loss: 0.4651 - acc: 0.8294 - val_loss: 0.4257 - val_acc: 0.8452\n",
      "Epoch 9/30\n",
      "8294/8294 [==============================] - 128s 15ms/step - loss: 0.4432 - acc: 0.8363 - val_loss: 0.4169 - val_acc: 0.8433\n",
      "Epoch 10/30\n",
      "8294/8294 [==============================] - 128s 15ms/step - loss: 0.4458 - acc: 0.8380 - val_loss: 0.3933 - val_acc: 0.8491\n",
      "Epoch 11/30\n",
      "8294/8294 [==============================] - 129s 16ms/step - loss: 0.4167 - acc: 0.8483 - val_loss: 0.4020 - val_acc: 0.8433\n",
      "Epoch 12/30\n",
      "8294/8294 [==============================] - 128s 15ms/step - loss: 0.4179 - acc: 0.8462 - val_loss: 0.3855 - val_acc: 0.8525\n",
      "Epoch 13/30\n",
      "8294/8294 [==============================] - 130s 16ms/step - loss: 0.4010 - acc: 0.8516 - val_loss: 0.3741 - val_acc: 0.8587\n",
      "Epoch 14/30\n",
      "8294/8294 [==============================] - 128s 15ms/step - loss: 0.3851 - acc: 0.8609 - val_loss: 0.3726 - val_acc: 0.8616\n",
      "Epoch 15/30\n",
      "8294/8294 [==============================] - 127s 15ms/step - loss: 0.3784 - acc: 0.8626 - val_loss: 0.3688 - val_acc: 0.8520\n",
      "Epoch 16/30\n",
      "8294/8294 [==============================] - 128s 15ms/step - loss: 0.3737 - acc: 0.8630 - val_loss: 0.3680 - val_acc: 0.8650\n",
      "Epoch 17/30\n",
      "8294/8294 [==============================] - 131s 16ms/step - loss: 0.3611 - acc: 0.8653 - val_loss: 0.3541 - val_acc: 0.8640\n",
      "Epoch 18/30\n",
      "8294/8294 [==============================] - 128s 15ms/step - loss: 0.3609 - acc: 0.8657 - val_loss: 0.3627 - val_acc: 0.8669\n",
      "Epoch 19/30\n",
      "8294/8294 [==============================] - 128s 15ms/step - loss: 0.3515 - acc: 0.8688 - val_loss: 0.3411 - val_acc: 0.8742\n",
      "Epoch 20/30\n",
      "8294/8294 [==============================] - 128s 15ms/step - loss: 0.3482 - acc: 0.8682 - val_loss: 0.3438 - val_acc: 0.8660\n",
      "Epoch 21/30\n",
      "8294/8294 [==============================] - 129s 15ms/step - loss: 0.3339 - acc: 0.8777 - val_loss: 0.3656 - val_acc: 0.8631\n",
      "Epoch 22/30\n",
      "8294/8294 [==============================] - 127s 15ms/step - loss: 0.3376 - acc: 0.8742 - val_loss: 0.3468 - val_acc: 0.8669\n",
      "Epoch 23/30\n",
      "8294/8294 [==============================] - 128s 15ms/step - loss: 0.3287 - acc: 0.8759 - val_loss: 0.3376 - val_acc: 0.8799\n",
      "Epoch 24/30\n",
      "8294/8294 [==============================] - 127s 15ms/step - loss: 0.3137 - acc: 0.8800 - val_loss: 0.3638 - val_acc: 0.8669\n",
      "Epoch 25/30\n",
      "8294/8294 [==============================] - 127s 15ms/step - loss: 0.3184 - acc: 0.8820 - val_loss: 0.3407 - val_acc: 0.8713\n",
      "Epoch 26/30\n",
      "8294/8294 [==============================] - 128s 15ms/step - loss: 0.3211 - acc: 0.8824 - val_loss: 0.3383 - val_acc: 0.8708\n",
      "Epoch 27/30\n",
      "8294/8294 [==============================] - 128s 15ms/step - loss: 0.3059 - acc: 0.8857 - val_loss: 0.3536 - val_acc: 0.8650\n",
      "Epoch 28/30\n",
      "8294/8294 [==============================] - 127s 15ms/step - loss: 0.3072 - acc: 0.8871 - val_loss: 0.3360 - val_acc: 0.8727\n",
      "Epoch 29/30\n",
      "8294/8294 [==============================] - 128s 15ms/step - loss: 0.2876 - acc: 0.8922 - val_loss: 0.3483 - val_acc: 0.8660\n",
      "Epoch 30/30\n",
      "8294/8294 [==============================] - 127s 15ms/step - loss: 0.2948 - acc: 0.8906 - val_loss: 0.3486 - val_acc: 0.8727\n"
     ]
    }
   ],
   "source": [
    "tr_x,cv_x,tr_y,cv_y=train_test_split(x_train,y_train_hot, test_size =0.4,random_state=30 );\n",
    "tr_xx,cv_xx,tr_yx,cv_yx=train_test_split(tr_x,tr_y, test_size =0.4,random_state=30 );\n",
    "tr_xxx,cv_xxx,tr_yxx,cv_yxx=train_test_split(tr_xx,tr_yx, test_size =0.4,random_state=30 );\n",
    "tr_xxx1,cv_xxx1,tr_yxx1,cv_yxx1=train_test_split(tr_xxx,tr_yxx, test_size =0.2,random_state=30 );\n",
    "tr_xxx2,cv_xxx2,tr_yxx2,cv_yxx2=train_test_split(tr_xxx1,tr_yxx1, test_size =0.2,random_state=30 );\n",
    "\n",
    "\n",
    "\n",
    "\n",
    "model_train1 = modelFM.fit(tr_xxx2, tr_yxx2, batch_size=batch_size,epochs=epochs,verbose=1,validation_data=(cv_xxx2,cv_yxx2))"
   ]
  },
  {
   "cell_type": "code",
   "execution_count": 43,
   "metadata": {},
   "outputs": [
    {
     "name": "stdout",
     "output_type": "stream",
     "text": [
      "10000/10000 [==============================] - 52s 5ms/step\n",
      "Test loss: 0.3976375576019287\n",
      "Test accuracy: 0.8624\n"
     ]
    }
   ],
   "source": [
    "#Plot the images for 100, 1000, 6000th image in the test data\n",
    "test_eval = modelFM.evaluate(x_test, y_test_hot, verbose=1)\n",
    "print('Test loss:', test_eval[0])\n",
    "print('Test accuracy:', test_eval[1])"
   ]
  },
  {
   "cell_type": "code",
   "execution_count": 44,
   "metadata": {},
   "outputs": [
    {
     "data": {
      "image/png": "[encoded data removed]",
      "text/plain": [
       "<Figure size 432x288 with 1 Axes>"
      ]
     },
     "metadata": {},
     "output_type": "display_data"
    },
    {
     "name": "stdout",
     "output_type": "stream",
     "text": [
      "Actual is  3 predicted is 3\n"
     ]
    },
    {
     "data": {
      "image/png": "[encoded data removed]",
      "text/plain": [
       "<Figure size 432x288 with 1 Axes>"
      ]
     },
     "metadata": {},
     "output_type": "display_data"
    },
    {
     "name": "stdout",
     "output_type": "stream",
     "text": [
      "Actual is  0 predicted is 6\n"
     ]
    },
    {
     "data": {
      "image/png": "[encoded data removed]",
      "text/plain": [
       "<Figure size 432x288 with 1 Axes>"
      ]
     },
     "metadata": {},
     "output_type": "display_data"
    },
    {
     "name": "stdout",
     "output_type": "stream",
     "text": [
      "Actual is  1 predicted is 1\n"
     ]
    }
   ],
   "source": [
    "predicted_classes = modelFM.predict(x_test)\n",
    "predicted_classes = np.argmax(np.round(predicted_classes),axis=1)\n",
    "image = [ x_test[100, :].reshape((28, 28)), x_test[1000, :].reshape((28, 28)),x_test[6000, :].reshape((28, 28))]\n",
    "actualLable = [ y_test[100], y_test[1000],y_test[6000]]\n",
    "predicted=[ predicted_classes[100], predicted_classes[1000],predicted_classes[6000]]\n",
    "\n",
    "\n",
    "for im,y,py in zip(image,actualLable,predicted):\n",
    "    \n",
    "    plt.imshow(im)\n",
    "    plt.show()\n",
    "    print(\"Actual is  {0} predicted is {1}\".format(y,py))\n",
    "\n",
    "                                "
   ]
  },
  {
   "cell_type": "code",
   "execution_count": null,
   "metadata": {},
   "outputs": [],
   "source": []
  },
  {
   "cell_type": "code",
   "execution_count": null,
   "metadata": {},
   "outputs": [],
   "source": []
  },
  {
   "cell_type": "code",
   "execution_count": 28,
   "metadata": {},
   "outputs": [
    {
     "name": "stdout",
     "output_type": "stream",
     "text": [
      "_________________________________________________________________\n",
      "Layer (type)                 Output Shape              Param #   \n",
      "=================================================================\n",
      "conv2d_13 (Conv2D)           (None, 28, 28, 20)        200       \n",
      "_________________________________________________________________\n",
      "leaky_re_lu_17 (LeakyReLU)   (None, 28, 28, 20)        0         \n",
      "_________________________________________________________________\n",
      "max_pooling2d_13 (MaxPooling (None, 14, 14, 20)        0         \n",
      "_________________________________________________________________\n",
      "conv2d_14 (Conv2D)           (None, 14, 14, 45)        8145      \n",
      "_________________________________________________________________\n",
      "leaky_re_lu_18 (LeakyReLU)   (None, 14, 14, 45)        0         \n",
      "_________________________________________________________________\n",
      "max_pooling2d_14 (MaxPooling (None, 7, 7, 45)          0         \n",
      "_________________________________________________________________\n",
      "dropout_10 (Dropout)         (None, 7, 7, 45)          0         \n",
      "_________________________________________________________________\n",
      "conv2d_15 (Conv2D)           (None, 7, 7, 50)          20300     \n",
      "_________________________________________________________________\n",
      "leaky_re_lu_19 (LeakyReLU)   (None, 7, 7, 50)          0         \n",
      "_________________________________________________________________\n",
      "max_pooling2d_15 (MaxPooling (None, 4, 4, 50)          0         \n",
      "_________________________________________________________________\n",
      "dropout_11 (Dropout)         (None, 4, 4, 50)          0         \n",
      "_________________________________________________________________\n",
      "flatten_5 (Flatten)          (None, 800)               0         \n",
      "_________________________________________________________________\n",
      "dense_9 (Dense)              (None, 100)               80100     \n",
      "_________________________________________________________________\n",
      "leaky_re_lu_20 (LeakyReLU)   (None, 100)               0         \n",
      "_________________________________________________________________\n",
      "dropout_12 (Dropout)         (None, 100)               0         \n",
      "_________________________________________________________________\n",
      "dense_10 (Dense)             (None, 10)                1010      \n",
      "=================================================================\n",
      "Total params: 109,755\n",
      "Trainable params: 109,755\n",
      "Non-trainable params: 0\n",
      "_________________________________________________________________\n"
     ]
    }
   ],
   "source": [
    "modelFM = BuildModel1()\n",
    "modelFM.compile(loss=keras.losses.categorical_crossentropy, optimizer=keras.optimizers.Adam(),metrics=['accuracy'])\n",
    "modelFM.summary()"
   ]
  },
  {
   "cell_type": "code",
   "execution_count": 29,
   "metadata": {},
   "outputs": [
    {
     "name": "stdout",
     "output_type": "stream",
     "text": [
      "Train on 8294 samples, validate on 2074 samples\n",
      "Epoch 1/25\n",
      "8294/8294 [==============================] - 128s 15ms/step - loss: 1.3918 - acc: 0.4995 - val_loss: 0.7401 - val_acc: 0.7314\n",
      "Epoch 2/25\n",
      "8294/8294 [==============================] - 129s 15ms/step - loss: 0.7073 - acc: 0.7404 - val_loss: 0.6375 - val_acc: 0.7652\n",
      "Epoch 3/25\n",
      "8294/8294 [==============================] - 127s 15ms/step - loss: 0.6150 - acc: 0.7724 - val_loss: 0.5440 - val_acc: 0.7975\n",
      "Epoch 4/25\n",
      "8294/8294 [==============================] - 128s 15ms/step - loss: 0.5618 - acc: 0.7898 - val_loss: 0.5288 - val_acc: 0.8091\n",
      "Epoch 5/25\n",
      "8294/8294 [==============================] - 126s 15ms/step - loss: 0.5200 - acc: 0.8124 - val_loss: 0.4964 - val_acc: 0.8255\n",
      "Epoch 6/25\n",
      "8294/8294 [==============================] - 127s 15ms/step - loss: 0.4906 - acc: 0.8201 - val_loss: 0.4962 - val_acc: 0.8120\n",
      "Epoch 7/25\n",
      "8294/8294 [==============================] - 128s 15ms/step - loss: 0.4646 - acc: 0.8328 - val_loss: 0.4452 - val_acc: 0.8250\n",
      "Epoch 8/25\n",
      "8294/8294 [==============================] - 127s 15ms/step - loss: 0.4417 - acc: 0.8380 - val_loss: 0.4788 - val_acc: 0.8100\n",
      "Epoch 9/25\n",
      "8294/8294 [==============================] - 128s 15ms/step - loss: 0.4345 - acc: 0.8389 - val_loss: 0.4136 - val_acc: 0.8443\n",
      "Epoch 10/25\n",
      "8294/8294 [==============================] - 128s 15ms/step - loss: 0.4204 - acc: 0.8408 - val_loss: 0.4032 - val_acc: 0.8491\n",
      "Epoch 11/25\n",
      "8294/8294 [==============================] - 128s 15ms/step - loss: 0.4121 - acc: 0.8482 - val_loss: 0.4161 - val_acc: 0.8467\n",
      "Epoch 12/25\n",
      "8294/8294 [==============================] - 128s 15ms/step - loss: 0.3899 - acc: 0.8566 - val_loss: 0.3949 - val_acc: 0.8510\n",
      "Epoch 13/25\n",
      "8294/8294 [==============================] - 127s 15ms/step - loss: 0.3790 - acc: 0.8582 - val_loss: 0.3804 - val_acc: 0.8582\n",
      "Epoch 14/25\n",
      "8294/8294 [==============================] - 127s 15ms/step - loss: 0.3652 - acc: 0.8658 - val_loss: 0.4037 - val_acc: 0.8529\n",
      "Epoch 15/25\n",
      "8294/8294 [==============================] - 127s 15ms/step - loss: 0.3667 - acc: 0.8646 - val_loss: 0.3722 - val_acc: 0.8592\n",
      "Epoch 16/25\n",
      "8294/8294 [==============================] - 127s 15ms/step - loss: 0.3505 - acc: 0.8707 - val_loss: 0.4115 - val_acc: 0.8423\n",
      "Epoch 17/25\n",
      "8294/8294 [==============================] - 127s 15ms/step - loss: 0.3439 - acc: 0.8695 - val_loss: 0.3719 - val_acc: 0.8602\n",
      "Epoch 18/25\n",
      "8294/8294 [==============================] - 128s 15ms/step - loss: 0.3405 - acc: 0.8769 - val_loss: 0.3617 - val_acc: 0.8640\n",
      "Epoch 19/25\n",
      "8294/8294 [==============================] - 128s 15ms/step - loss: 0.3300 - acc: 0.8756 - val_loss: 0.3604 - val_acc: 0.8655\n",
      "Epoch 20/25\n",
      "8294/8294 [==============================] - 127s 15ms/step - loss: 0.3299 - acc: 0.8759 - val_loss: 0.3572 - val_acc: 0.8693\n",
      "Epoch 21/25\n",
      "8294/8294 [==============================] - 128s 15ms/step - loss: 0.3206 - acc: 0.8779 - val_loss: 0.3730 - val_acc: 0.8631\n",
      "Epoch 22/25\n",
      "8294/8294 [==============================] - 127s 15ms/step - loss: 0.3212 - acc: 0.8822 - val_loss: 0.3742 - val_acc: 0.8650\n",
      "Epoch 23/25\n",
      "8294/8294 [==============================] - 127s 15ms/step - loss: 0.3107 - acc: 0.8834 - val_loss: 0.3506 - val_acc: 0.8698\n",
      "Epoch 24/25\n",
      "8294/8294 [==============================] - 128s 15ms/step - loss: 0.2986 - acc: 0.8893 - val_loss: 0.3543 - val_acc: 0.8669\n",
      "Epoch 25/25\n",
      "8294/8294 [==============================] - 128s 15ms/step - loss: 0.2977 - acc: 0.8896 - val_loss: 0.3543 - val_acc: 0.8684\n"
     ]
    }
   ],
   "source": [
    "tr_x,cv_x,tr_y,cv_y=train_test_split(x_train,y_train_hot, test_size =0.4,random_state=30 );\n",
    "tr_xx,cv_xx,tr_yx,cv_yx=train_test_split(tr_x,tr_y, test_size =0.4,random_state=30 );\n",
    "tr_xxx,cv_xxx,tr_yxx,cv_yxx=train_test_split(tr_xx,tr_yx, test_size =0.4,random_state=30 );\n",
    "tr_xxx1,cv_xxx1,tr_yxx1,cv_yxx1=train_test_split(tr_xxx,tr_yxx, test_size =0.2,random_state=30 );\n",
    "tr_xxx2,cv_xxx2,tr_yxx2,cv_yxx2=train_test_split(tr_xxx1,tr_yxx1, test_size =0.2,random_state=30 );\n",
    "\n",
    "\n",
    "\n",
    "\n",
    "model_train1 = modelFM.fit(tr_xxx2, tr_yxx2, batch_size=batch_size,epochs=epochs,verbose=1,validation_data=(cv_xxx2,cv_yxx2))"
   ]
  },
  {
   "cell_type": "code",
   "execution_count": 30,
   "metadata": {},
   "outputs": [
    {
     "name": "stdout",
     "output_type": "stream",
     "text": [
      "10000/10000 [==============================] - 52s 5ms/step\n",
      "Test loss: 0.38586035887002945\n",
      "Test accuracy: 0.863\n"
     ]
    }
   ],
   "source": [
    "#Plot the images for 100, 1000, 6000th image in the test data\n",
    "test_eval = modelFM.evaluate(x_test, y_test_hot, verbose=1)\n",
    "print('Test loss:', test_eval[0])\n",
    "print('Test accuracy:', test_eval[1])"
   ]
  },
  {
   "cell_type": "code",
   "execution_count": 31,
   "metadata": {},
   "outputs": [
    {
     "data": {
      "image/png": "[encoded data removed]",
      "text/plain": [
       "<Figure size 432x288 with 1 Axes>"
      ]
     },
     "metadata": {},
     "output_type": "display_data"
    },
    {
     "name": "stdout",
     "output_type": "stream",
     "text": [
      "Actual is  3 predicted is 3\n"
     ]
    },
    {
     "data": {
      "image/png": "[encoded data removed]",
      "text/plain": [
       "<Figure size 432x288 with 1 Axes>"
      ]
     },
     "metadata": {},
     "output_type": "display_data"
    },
    {
     "name": "stdout",
     "output_type": "stream",
     "text": [
      "Actual is  0 predicted is 6\n"
     ]
    },
    {
     "data": {
      "image/png": "[encoded data removed]",
      "text/plain": [
       "<Figure size 432x288 with 1 Axes>"
      ]
     },
     "metadata": {},
     "output_type": "display_data"
    },
    {
     "name": "stdout",
     "output_type": "stream",
     "text": [
      "Actual is  1 predicted is 1\n"
     ]
    }
   ],
   "source": [
    "predicted_classes = modelFM.predict(x_test)\n",
    "predicted_classes = np.argmax(np.round(predicted_classes),axis=1)\n",
    "image = [ x_test[100, :].reshape((28, 28)), x_test[1000, :].reshape((28, 28)),x_test[6000, :].reshape((28, 28))]\n",
    "actualLable = [ y_test[100], y_test[1000],y_test[6000]]\n",
    "predicted=[ predicted_classes[100], predicted_classes[1000],predicted_classes[6000]]\n",
    "\n",
    "\n",
    "for im,y,py in zip(image,actualLable,predicted):\n",
    "    \n",
    "    plt.imshow(im)\n",
    "    plt.show()\n",
    "    print(\"Actual is  {0} predicted is {1}\".format(y,py))\n",
    "\n",
    "                                "
   ]
  },
  {
   "cell_type": "code",
   "execution_count": null,
   "metadata": {},
   "outputs": [],
   "source": []
  },
  {
   "cell_type": "code",
   "execution_count": 14,
   "metadata": {},
   "outputs": [
    {
     "name": "stdout",
     "output_type": "stream",
     "text": [
      "_________________________________________________________________\n",
      "Layer (type)                 Output Shape              Param #   \n",
      "=================================================================\n",
      "conv2d_4 (Conv2D)            (None, 28, 28, 20)        200       \n",
      "_________________________________________________________________\n",
      "leaky_re_lu_5 (LeakyReLU)    (None, 28, 28, 20)        0         \n",
      "_________________________________________________________________\n",
      "max_pooling2d_4 (MaxPooling2 (None, 14, 14, 20)        0         \n",
      "_________________________________________________________________\n",
      "conv2d_5 (Conv2D)            (None, 14, 14, 45)        8145      \n",
      "_________________________________________________________________\n",
      "leaky_re_lu_6 (LeakyReLU)    (None, 14, 14, 45)        0         \n",
      "_________________________________________________________________\n",
      "max_pooling2d_5 (MaxPooling2 (None, 7, 7, 45)          0         \n",
      "_________________________________________________________________\n",
      "dropout_1 (Dropout)          (None, 7, 7, 45)          0         \n",
      "_________________________________________________________________\n",
      "conv2d_6 (Conv2D)            (None, 7, 7, 50)          20300     \n",
      "_________________________________________________________________\n",
      "leaky_re_lu_7 (LeakyReLU)    (None, 7, 7, 50)          0         \n",
      "_________________________________________________________________\n",
      "max_pooling2d_6 (MaxPooling2 (None, 4, 4, 50)          0         \n",
      "_________________________________________________________________\n",
      "dropout_2 (Dropout)          (None, 4, 4, 50)          0         \n",
      "_________________________________________________________________\n",
      "flatten_2 (Flatten)          (None, 800)               0         \n",
      "_________________________________________________________________\n",
      "dense_3 (Dense)              (None, 100)               80100     \n",
      "_________________________________________________________________\n",
      "leaky_re_lu_8 (LeakyReLU)    (None, 100)               0         \n",
      "_________________________________________________________________\n",
      "dropout_3 (Dropout)          (None, 100)               0         \n",
      "_________________________________________________________________\n",
      "dense_4 (Dense)              (None, 10)                1010      \n",
      "=================================================================\n",
      "Total params: 109,755\n",
      "Trainable params: 109,755\n",
      "Non-trainable params: 0\n",
      "_________________________________________________________________\n"
     ]
    }
   ],
   "source": [
    "modelFM = BuildModel1()\n",
    "modelFM.compile(loss=keras.losses.categorical_crossentropy, optimizer=keras.optimizers.Adam(),metrics=['accuracy'])\n",
    "modelFM.summary()"
   ]
  },
  {
   "cell_type": "code",
   "execution_count": 15,
   "metadata": {},
   "outputs": [
    {
     "name": "stdout",
     "output_type": "stream",
     "text": [
      "Train on 8294 samples, validate on 2074 samples\n",
      "Epoch 1/25\n",
      "8294/8294 [==============================] - 131s 16ms/step - loss: 1.2201 - acc: 0.5694 - val_loss: 0.7114 - val_acc: 0.7377\n",
      "Epoch 2/25\n",
      "8294/8294 [==============================] - 128s 15ms/step - loss: 0.6701 - acc: 0.7528 - val_loss: 0.6035 - val_acc: 0.7700\n",
      "Epoch 3/25\n",
      "8294/8294 [==============================] - 128s 15ms/step - loss: 0.5679 - acc: 0.7882 - val_loss: 0.5487 - val_acc: 0.7907\n",
      "Epoch 4/25\n",
      "8294/8294 [==============================] - 128s 15ms/step - loss: 0.5301 - acc: 0.8066 - val_loss: 0.5252 - val_acc: 0.8038\n",
      "Epoch 5/25\n",
      "8294/8294 [==============================] - 129s 16ms/step - loss: 0.5035 - acc: 0.8122 - val_loss: 0.4869 - val_acc: 0.8115\n",
      "Epoch 6/25\n",
      "8294/8294 [==============================] - 128s 15ms/step - loss: 0.4677 - acc: 0.8271 - val_loss: 0.4730 - val_acc: 0.8216\n",
      "Epoch 7/25\n",
      "8294/8294 [==============================] - 129s 16ms/step - loss: 0.4489 - acc: 0.8384 - val_loss: 0.4457 - val_acc: 0.8370\n",
      "Epoch 8/25\n",
      "8294/8294 [==============================] - 128s 15ms/step - loss: 0.4289 - acc: 0.8413 - val_loss: 0.4331 - val_acc: 0.8312\n",
      "Epoch 9/25\n",
      "8294/8294 [==============================] - 126s 15ms/step - loss: 0.4045 - acc: 0.8536 - val_loss: 0.4275 - val_acc: 0.8361\n",
      "Epoch 10/25\n",
      "8294/8294 [==============================] - 128s 15ms/step - loss: 0.3899 - acc: 0.8559 - val_loss: 0.4312 - val_acc: 0.8370\n",
      "Epoch 11/25\n",
      "8294/8294 [==============================] - 129s 15ms/step - loss: 0.3775 - acc: 0.8609 - val_loss: 0.3996 - val_acc: 0.8472\n",
      "Epoch 12/25\n",
      "8294/8294 [==============================] - 128s 15ms/step - loss: 0.3739 - acc: 0.8648 - val_loss: 0.4015 - val_acc: 0.8428\n",
      "Epoch 13/25\n",
      "8294/8294 [==============================] - 128s 15ms/step - loss: 0.3511 - acc: 0.8700 - val_loss: 0.4098 - val_acc: 0.8481\n",
      "Epoch 14/25\n",
      "8294/8294 [==============================] - 129s 15ms/step - loss: 0.3406 - acc: 0.8697 - val_loss: 0.4122 - val_acc: 0.8462\n",
      "Epoch 15/25\n",
      "8294/8294 [==============================] - 128s 15ms/step - loss: 0.3287 - acc: 0.8787 - val_loss: 0.3829 - val_acc: 0.8568\n",
      "Epoch 16/25\n",
      "8294/8294 [==============================] - 128s 15ms/step - loss: 0.3259 - acc: 0.8781 - val_loss: 0.3879 - val_acc: 0.8520\n",
      "Epoch 17/25\n",
      "8294/8294 [==============================] - 129s 16ms/step - loss: 0.3226 - acc: 0.8791 - val_loss: 0.3905 - val_acc: 0.8554\n",
      "Epoch 18/25\n",
      "8294/8294 [==============================] - 127s 15ms/step - loss: 0.3069 - acc: 0.8850 - val_loss: 0.4039 - val_acc: 0.8563\n",
      "Epoch 19/25\n",
      "8294/8294 [==============================] - 127s 15ms/step - loss: 0.2963 - acc: 0.8912 - val_loss: 0.3719 - val_acc: 0.8698\n",
      "Epoch 20/25\n",
      "8294/8294 [==============================] - 129s 16ms/step - loss: 0.2984 - acc: 0.8858 - val_loss: 0.3558 - val_acc: 0.8679\n",
      "Epoch 21/25\n",
      "8294/8294 [==============================] - 128s 15ms/step - loss: 0.2799 - acc: 0.8927 - val_loss: 0.3894 - val_acc: 0.8558\n",
      "Epoch 22/25\n",
      "8294/8294 [==============================] - 128s 15ms/step - loss: 0.2886 - acc: 0.8902 - val_loss: 0.4036 - val_acc: 0.8554\n",
      "Epoch 23/25\n",
      "8294/8294 [==============================] - 128s 15ms/step - loss: 0.2707 - acc: 0.8987 - val_loss: 0.3744 - val_acc: 0.8655\n",
      "Epoch 24/25\n",
      "8294/8294 [==============================] - 127s 15ms/step - loss: 0.2700 - acc: 0.8966 - val_loss: 0.3903 - val_acc: 0.8626\n",
      "Epoch 25/25\n",
      "8294/8294 [==============================] - 127s 15ms/step - loss: 0.2596 - acc: 0.9005 - val_loss: 0.4213 - val_acc: 0.8476\n"
     ]
    }
   ],
   "source": [
    "tr_x,cv_x,tr_y,cv_y=train_test_split(x_train,y_train_hot, test_size =0.4,random_state=30 );\n",
    "tr_xx,cv_xx,tr_yx,cv_yx=train_test_split(tr_x,tr_y, test_size =0.4,random_state=30 );\n",
    "tr_xxx,cv_xxx,tr_yxx,cv_yxx=train_test_split(tr_xx,tr_yx, test_size =0.4,random_state=30 );\n",
    "tr_xxx1,cv_xxx1,tr_yxx1,cv_yxx1=train_test_split(tr_xxx,tr_yxx, test_size =0.2,random_state=30 );\n",
    "tr_xxx2,cv_xxx2,tr_yxx2,cv_yxx2=train_test_split(tr_xxx1,tr_yxx1, test_size =0.2,random_state=30 );\n",
    "\n",
    "\n",
    "\n",
    "\n",
    "model_train1 = modelFM.fit(tr_xxx2, tr_yxx2, batch_size=batch_size,epochs=epochs,verbose=1,validation_data=(cv_xxx2,cv_yxx2))"
   ]
  },
  {
   "cell_type": "code",
   "execution_count": 16,
   "metadata": {},
   "outputs": [
    {
     "name": "stdout",
     "output_type": "stream",
     "text": [
      "10000/10000 [==============================] - 52s 5ms/step\n",
      "Test loss: 0.45338255281448364\n",
      "Test accuracy: 0.8473\n"
     ]
    }
   ],
   "source": [
    "#Plot the images for 100, 1000, 6000th image in the test data\n",
    "test_eval = modelFM.evaluate(x_test, y_test_hot, verbose=1)\n",
    "print('Test loss:', test_eval[0])\n",
    "print('Test accuracy:', test_eval[1])"
   ]
  },
  {
   "cell_type": "code",
   "execution_count": null,
   "metadata": {},
   "outputs": [],
   "source": []
  },
  {
   "cell_type": "code",
   "execution_count": 10,
   "metadata": {},
   "outputs": [
    {
     "name": "stdout",
     "output_type": "stream",
     "text": [
      "_________________________________________________________________\n",
      "Layer (type)                 Output Shape              Param #   \n",
      "=================================================================\n",
      "conv2d_1 (Conv2D)            (None, 28, 28, 20)        200       \n",
      "_________________________________________________________________\n",
      "leaky_re_lu_1 (LeakyReLU)    (None, 28, 28, 20)        0         \n",
      "_________________________________________________________________\n",
      "max_pooling2d_1 (MaxPooling2 (None, 14, 14, 20)        0         \n",
      "_________________________________________________________________\n",
      "conv2d_2 (Conv2D)            (None, 14, 14, 45)        8145      \n",
      "_________________________________________________________________\n",
      "leaky_re_lu_2 (LeakyReLU)    (None, 14, 14, 45)        0         \n",
      "_________________________________________________________________\n",
      "max_pooling2d_2 (MaxPooling2 (None, 7, 7, 45)          0         \n",
      "_________________________________________________________________\n",
      "conv2d_3 (Conv2D)            (None, 7, 7, 50)          20300     \n",
      "_________________________________________________________________\n",
      "leaky_re_lu_3 (LeakyReLU)    (None, 7, 7, 50)          0         \n",
      "_________________________________________________________________\n",
      "max_pooling2d_3 (MaxPooling2 (None, 4, 4, 50)          0         \n",
      "_________________________________________________________________\n",
      "flatten_1 (Flatten)          (None, 800)               0         \n",
      "_________________________________________________________________\n",
      "dense_1 (Dense)              (None, 100)               80100     \n",
      "_________________________________________________________________\n",
      "leaky_re_lu_4 (LeakyReLU)    (None, 100)               0         \n",
      "_________________________________________________________________\n",
      "dense_2 (Dense)              (None, 10)                1010      \n",
      "=================================================================\n",
      "Total params: 109,755\n",
      "Trainable params: 109,755\n",
      "Non-trainable params: 0\n",
      "_________________________________________________________________\n"
     ]
    }
   ],
   "source": [
    "modelFM = BuildModel1()\n",
    "modelFM.compile(loss=keras.losses.categorical_crossentropy, optimizer=keras.optimizers.Adam(),metrics=['accuracy'])\n",
    "modelFM.summary()"
   ]
  },
  {
   "cell_type": "code",
   "execution_count": 11,
   "metadata": {},
   "outputs": [
    {
     "name": "stdout",
     "output_type": "stream",
     "text": [
      "Train on 8294 samples, validate on 2074 samples\n",
      "Epoch 1/25\n",
      "8294/8294 [==============================] - 127s 15ms/step - loss: 1.2720 - acc: 0.5464 - val_loss: 0.8595 - val_acc: 0.6683\n",
      "Epoch 2/25\n",
      "8294/8294 [==============================] - 127s 15ms/step - loss: 0.6762 - acc: 0.7538 - val_loss: 0.6048 - val_acc: 0.7695\n",
      "Epoch 3/25\n",
      "8294/8294 [==============================] - 127s 15ms/step - loss: 0.5589 - acc: 0.8009 - val_loss: 0.5192 - val_acc: 0.8057\n",
      "Epoch 4/25\n",
      "8294/8294 [==============================] - 128s 15ms/step - loss: 0.4960 - acc: 0.8223 - val_loss: 0.5170 - val_acc: 0.8081\n",
      "Epoch 5/25\n",
      "8294/8294 [==============================] - 128s 15ms/step - loss: 0.4685 - acc: 0.8333 - val_loss: 0.5017 - val_acc: 0.8057\n",
      "Epoch 6/25\n",
      "8294/8294 [==============================] - 127s 15ms/step - loss: 0.4370 - acc: 0.8430 - val_loss: 0.4630 - val_acc: 0.8269\n",
      "Epoch 7/25\n",
      "8294/8294 [==============================] - 128s 15ms/step - loss: 0.4224 - acc: 0.8480 - val_loss: 0.4414 - val_acc: 0.8351\n",
      "Epoch 8/25\n",
      "8294/8294 [==============================] - 128s 15ms/step - loss: 0.4042 - acc: 0.8534 - val_loss: 0.4348 - val_acc: 0.8365\n",
      "Epoch 9/25\n",
      "8294/8294 [==============================] - 128s 15ms/step - loss: 0.3790 - acc: 0.8619 - val_loss: 0.4269 - val_acc: 0.8399\n",
      "Epoch 10/25\n",
      "8294/8294 [==============================] - 128s 15ms/step - loss: 0.3597 - acc: 0.8711 - val_loss: 0.4043 - val_acc: 0.8505\n",
      "Epoch 11/25\n",
      "8294/8294 [==============================] - 126s 15ms/step - loss: 0.3480 - acc: 0.8739 - val_loss: 0.3866 - val_acc: 0.8529\n",
      "Epoch 12/25\n",
      "8294/8294 [==============================] - 127s 15ms/step - loss: 0.3331 - acc: 0.8793 - val_loss: 0.4142 - val_acc: 0.8486\n",
      "Epoch 13/25\n",
      "8294/8294 [==============================] - 126s 15ms/step - loss: 0.3280 - acc: 0.8781 - val_loss: 0.4186 - val_acc: 0.8385\n",
      "Epoch 14/25\n",
      "8294/8294 [==============================] - 126s 15ms/step - loss: 0.3134 - acc: 0.8845 - val_loss: 0.3919 - val_acc: 0.8558\n",
      "Epoch 15/25\n",
      "8294/8294 [==============================] - 128s 15ms/step - loss: 0.2961 - acc: 0.8885 - val_loss: 0.4043 - val_acc: 0.8491\n",
      "Epoch 16/25\n",
      "8294/8294 [==============================] - 127s 15ms/step - loss: 0.2889 - acc: 0.8935 - val_loss: 0.3952 - val_acc: 0.8621\n",
      "Epoch 17/25\n",
      "8294/8294 [==============================] - 126s 15ms/step - loss: 0.2716 - acc: 0.8997 - val_loss: 0.3793 - val_acc: 0.8621\n",
      "Epoch 18/25\n",
      "8294/8294 [==============================] - 127s 15ms/step - loss: 0.2664 - acc: 0.8999 - val_loss: 0.3935 - val_acc: 0.8558\n",
      "Epoch 19/25\n",
      "8294/8294 [==============================] - 127s 15ms/step - loss: 0.2511 - acc: 0.9046 - val_loss: 0.4200 - val_acc: 0.8486\n",
      "Epoch 20/25\n",
      "8294/8294 [==============================] - 127s 15ms/step - loss: 0.2551 - acc: 0.9046 - val_loss: 0.3992 - val_acc: 0.8602\n",
      "Epoch 21/25\n",
      "8294/8294 [==============================] - 127s 15ms/step - loss: 0.2434 - acc: 0.9101 - val_loss: 0.4075 - val_acc: 0.8611\n",
      "Epoch 22/25\n",
      "8294/8294 [==============================] - 127s 15ms/step - loss: 0.2325 - acc: 0.9140 - val_loss: 0.4208 - val_acc: 0.8563\n",
      "Epoch 23/25\n",
      "8294/8294 [==============================] - 127s 15ms/step - loss: 0.2180 - acc: 0.9178 - val_loss: 0.4162 - val_acc: 0.8529\n",
      "Epoch 24/25\n",
      "8294/8294 [==============================] - 127s 15ms/step - loss: 0.2087 - acc: 0.9236 - val_loss: 0.4496 - val_acc: 0.8549\n",
      "Epoch 25/25\n",
      "8294/8294 [==============================] - 127s 15ms/step - loss: 0.1975 - acc: 0.9280 - val_loss: 0.4535 - val_acc: 0.8554\n"
     ]
    }
   ],
   "source": [
    "tr_x,cv_x,tr_y,cv_y=train_test_split(x_train,y_train_hot, test_size =0.4,random_state=30 );\n",
    "tr_xx,cv_xx,tr_yx,cv_yx=train_test_split(tr_x,tr_y, test_size =0.4,random_state=30 );\n",
    "tr_xxx,cv_xxx,tr_yxx,cv_yxx=train_test_split(tr_xx,tr_yx, test_size =0.4,random_state=30 );\n",
    "tr_xxx1,cv_xxx1,tr_yxx1,cv_yxx1=train_test_split(tr_xxx,tr_yxx, test_size =0.2,random_state=30 );\n",
    "tr_xxx2,cv_xxx2,tr_yxx2,cv_yxx2=train_test_split(tr_xxx1,tr_yxx1, test_size =0.2,random_state=30 );\n",
    "\n",
    "\n",
    "\n",
    "\n",
    "model_train1 = modelFM.fit(tr_xxx2, tr_yxx2, batch_size=batch_size,epochs=epochs,verbose=1,validation_data=(cv_xxx2,cv_yxx2))"
   ]
  },
  {
   "cell_type": "code",
   "execution_count": 12,
   "metadata": {},
   "outputs": [
    {
     "name": "stdout",
     "output_type": "stream",
     "text": [
      "10000/10000 [==============================] - 52s 5ms/step\n",
      "Test loss: 0.4887313248872757\n",
      "Test accuracy: 0.8481\n"
     ]
    }
   ],
   "source": [
    "#Plot the images for 100, 1000, 6000th image in the test data\n",
    "test_eval = modelFM.evaluate(x_test, y_test_hot, verbose=1)\n",
    "print('Test loss:', test_eval[0])\n",
    "print('Test accuracy:', test_eval[1])"
   ]
  },
  {
   "cell_type": "code",
   "execution_count": null,
   "metadata": {},
   "outputs": [],
   "source": []
  },
  {
   "cell_type": "code",
   "execution_count": 40,
   "metadata": {},
   "outputs": [
    {
     "name": "stdout",
     "output_type": "stream",
     "text": [
      "_________________________________________________________________\n",
      "Layer (type)                 Output Shape              Param #   \n",
      "=================================================================\n",
      "conv2d_22 (Conv2D)           (None, 28, 28, 20)        200       \n",
      "_________________________________________________________________\n",
      "leaky_re_lu_29 (LeakyReLU)   (None, 28, 28, 20)        0         \n",
      "_________________________________________________________________\n",
      "max_pooling2d_22 (MaxPooling (None, 14, 14, 20)        0         \n",
      "_________________________________________________________________\n",
      "conv2d_23 (Conv2D)           (None, 14, 14, 45)        8145      \n",
      "_________________________________________________________________\n",
      "leaky_re_lu_30 (LeakyReLU)   (None, 14, 14, 45)        0         \n",
      "_________________________________________________________________\n",
      "max_pooling2d_23 (MaxPooling (None, 7, 7, 45)          0         \n",
      "_________________________________________________________________\n",
      "dropout_17 (Dropout)         (None, 7, 7, 45)          0         \n",
      "_________________________________________________________________\n",
      "conv2d_24 (Conv2D)           (None, 7, 7, 50)          20300     \n",
      "_________________________________________________________________\n",
      "leaky_re_lu_31 (LeakyReLU)   (None, 7, 7, 50)          0         \n",
      "_________________________________________________________________\n",
      "max_pooling2d_24 (MaxPooling (None, 4, 4, 50)          0         \n",
      "_________________________________________________________________\n",
      "dropout_18 (Dropout)         (None, 4, 4, 50)          0         \n",
      "_________________________________________________________________\n",
      "flatten_8 (Flatten)          (None, 800)               0         \n",
      "_________________________________________________________________\n",
      "dense_15 (Dense)             (None, 100)               80100     \n",
      "_________________________________________________________________\n",
      "leaky_re_lu_32 (LeakyReLU)   (None, 100)               0         \n",
      "_________________________________________________________________\n",
      "dense_16 (Dense)             (None, 10)                1010      \n",
      "=================================================================\n",
      "Total params: 109,755\n",
      "Trainable params: 109,755\n",
      "Non-trainable params: 0\n",
      "_________________________________________________________________\n"
     ]
    }
   ],
   "source": [
    "modelFM = BuildModel1()\n",
    "modelFM.compile(loss=keras.losses.categorical_crossentropy, optimizer=keras.optimizers.Adam(),metrics=['accuracy'])\n",
    "modelFM.summary()"
   ]
  },
  {
   "cell_type": "code",
   "execution_count": 41,
   "metadata": {},
   "outputs": [
    {
     "name": "stdout",
     "output_type": "stream",
     "text": [
      "Train on 8294 samples, validate on 2074 samples\n",
      "Epoch 1/20\n",
      "8294/8294 [==============================] - 132s 16ms/step - loss: 1.2043 - acc: 0.5694 - val_loss: 0.7100 - val_acc: 0.7281\n",
      "Epoch 2/20\n",
      "8294/8294 [==============================] - 130s 16ms/step - loss: 0.6667 - acc: 0.7528 - val_loss: 0.5947 - val_acc: 0.7835\n",
      "Epoch 3/20\n",
      "8294/8294 [==============================] - 129s 16ms/step - loss: 0.5569 - acc: 0.7950 - val_loss: 0.5243 - val_acc: 0.8057\n",
      "Epoch 4/20\n",
      "8294/8294 [==============================] - 129s 16ms/step - loss: 0.5011 - acc: 0.8141 - val_loss: 0.5154 - val_acc: 0.8062\n",
      "Epoch 5/20\n",
      "8294/8294 [==============================] - 129s 16ms/step - loss: 0.4722 - acc: 0.8258 - val_loss: 0.4617 - val_acc: 0.8303\n",
      "Epoch 6/20\n",
      "8294/8294 [==============================] - 128s 15ms/step - loss: 0.4439 - acc: 0.8390 - val_loss: 0.4551 - val_acc: 0.8332\n",
      "Epoch 7/20\n",
      "8294/8294 [==============================] - 129s 16ms/step - loss: 0.4203 - acc: 0.8484 - val_loss: 0.4593 - val_acc: 0.8293\n",
      "Epoch 8/20\n",
      "8294/8294 [==============================] - 129s 16ms/step - loss: 0.4032 - acc: 0.8544 - val_loss: 0.4126 - val_acc: 0.8394\n",
      "Epoch 9/20\n",
      "8294/8294 [==============================] - 129s 16ms/step - loss: 0.3967 - acc: 0.8539 - val_loss: 0.4158 - val_acc: 0.8414\n",
      "Epoch 10/20\n",
      "8294/8294 [==============================] - 129s 16ms/step - loss: 0.3754 - acc: 0.8618 - val_loss: 0.4211 - val_acc: 0.8351\n",
      "Epoch 11/20\n",
      "8294/8294 [==============================] - 129s 16ms/step - loss: 0.3633 - acc: 0.8640 - val_loss: 0.3749 - val_acc: 0.8568\n",
      "Epoch 12/20\n",
      "8294/8294 [==============================] - 128s 15ms/step - loss: 0.3514 - acc: 0.8677 - val_loss: 0.3855 - val_acc: 0.8525\n",
      "Epoch 13/20\n",
      "8294/8294 [==============================] - 129s 15ms/step - loss: 0.3428 - acc: 0.8693 - val_loss: 0.3683 - val_acc: 0.8582\n",
      "Epoch 14/20\n",
      "8294/8294 [==============================] - 129s 16ms/step - loss: 0.3318 - acc: 0.8776 - val_loss: 0.3706 - val_acc: 0.8558\n",
      "Epoch 15/20\n",
      "8294/8294 [==============================] - 129s 16ms/step - loss: 0.3298 - acc: 0.8739 - val_loss: 0.3822 - val_acc: 0.8587\n",
      "Epoch 16/20\n",
      "8294/8294 [==============================] - 128s 15ms/step - loss: 0.3116 - acc: 0.8835 - val_loss: 0.3563 - val_acc: 0.8578\n",
      "Epoch 17/20\n",
      "8294/8294 [==============================] - 129s 16ms/step - loss: 0.2999 - acc: 0.8845 - val_loss: 0.3549 - val_acc: 0.8602\n",
      "Epoch 18/20\n",
      "8294/8294 [==============================] - 129s 16ms/step - loss: 0.2944 - acc: 0.8850 - val_loss: 0.3692 - val_acc: 0.8635\n",
      "Epoch 19/20\n",
      "8294/8294 [==============================] - 129s 16ms/step - loss: 0.2824 - acc: 0.8928 - val_loss: 0.3574 - val_acc: 0.8655\n",
      "Epoch 20/20\n",
      "8294/8294 [==============================] - 129s 16ms/step - loss: 0.2776 - acc: 0.8921 - val_loss: 0.3784 - val_acc: 0.8626\n"
     ]
    }
   ],
   "source": [
    "tr_x,cv_x,tr_y,cv_y=train_test_split(x_train,y_train_hot, test_size =0.4,random_state=30 );\n",
    "tr_xx,cv_xx,tr_yx,cv_yx=train_test_split(tr_x,tr_y, test_size =0.4,random_state=30 );\n",
    "tr_xxx,cv_xxx,tr_yxx,cv_yxx=train_test_split(tr_xx,tr_yx, test_size =0.4,random_state=30 );\n",
    "tr_xxx1,cv_xxx1,tr_yxx1,cv_yxx1=train_test_split(tr_xxx,tr_yxx, test_size =0.2,random_state=30 );\n",
    "tr_xxx2,cv_xxx2,tr_yxx2,cv_yxx2=train_test_split(tr_xxx1,tr_yxx1, test_size =0.2,random_state=30 );\n",
    "\n",
    "\n",
    "\n",
    "\n",
    "model_train1 = modelFM.fit(tr_xxx2, tr_yxx2, batch_size=64,epochs=epochs,verbose=1,validation_data=(cv_xxx2,cv_yxx2))"
   ]
  },
  {
   "cell_type": "code",
   "execution_count": 42,
   "metadata": {},
   "outputs": [
    {
     "data": {
      "image/png": "[encoded data removed]",
      "text/plain": [
       "<Figure size 432x288 with 1 Axes>"
      ]
     },
     "metadata": {},
     "output_type": "display_data"
    },
    {
     "name": "stdout",
     "output_type": "stream",
     "text": [
      "Actual is  3 predicted is 3\n"
     ]
    },
    {
     "data": {
      "image/png": "[encoded data removed]",
      "text/plain": [
       "<Figure size 432x288 with 1 Axes>"
      ]
     },
     "metadata": {},
     "output_type": "display_data"
    },
    {
     "name": "stdout",
     "output_type": "stream",
     "text": [
      "Actual is  0 predicted is 6\n"
     ]
    },
    {
     "data": {
      "image/png": "[encoded data removed]",
      "text/plain": [
       "<Figure size 432x288 with 1 Axes>"
      ]
     },
     "metadata": {},
     "output_type": "display_data"
    },
    {
     "name": "stdout",
     "output_type": "stream",
     "text": [
      "Actual is  1 predicted is 1\n"
     ]
    }
   ],
   "source": [
    "predicted_classes = modelFM.predict(x_test)\n",
    "predicted_classes = np.argmax(np.round(predicted_classes),axis=1)\n",
    "image = [ x_test[100, :].reshape((28, 28)), x_test[1000, :].reshape((28, 28)),x_test[6000, :].reshape((28, 28))]\n",
    "actualLable = [ y_test[100], y_test[1000],y_test[6000]]\n",
    "predicted=[ predicted_classes[100], predicted_classes[1000],predicted_classes[6000]]\n",
    "\n",
    "\n",
    "for im,y,py in zip(image,actualLable,predicted):\n",
    "    \n",
    "    plt.imshow(im)\n",
    "    plt.show()\n",
    "    print(\"Actual is  {0} predicted is {1}\".format(y,py))\n",
    "\n",
    "                                "
   ]
  },
  {
   "cell_type": "code",
   "execution_count": 43,
   "metadata": {},
   "outputs": [
    {
     "name": "stdout",
     "output_type": "stream",
     "text": [
      "_________________________________________________________________\n",
      "Layer (type)                 Output Shape              Param #   \n",
      "=================================================================\n",
      "conv2d_25 (Conv2D)           (None, 28, 28, 20)        200       \n",
      "_________________________________________________________________\n",
      "leaky_re_lu_33 (LeakyReLU)   (None, 28, 28, 20)        0         \n",
      "_________________________________________________________________\n",
      "max_pooling2d_25 (MaxPooling (None, 14, 14, 20)        0         \n",
      "_________________________________________________________________\n",
      "conv2d_26 (Conv2D)           (None, 14, 14, 45)        8145      \n",
      "_________________________________________________________________\n",
      "leaky_re_lu_34 (LeakyReLU)   (None, 14, 14, 45)        0         \n",
      "_________________________________________________________________\n",
      "max_pooling2d_26 (MaxPooling (None, 7, 7, 45)          0         \n",
      "_________________________________________________________________\n",
      "dropout_19 (Dropout)         (None, 7, 7, 45)          0         \n",
      "_________________________________________________________________\n",
      "conv2d_27 (Conv2D)           (None, 7, 7, 50)          20300     \n",
      "_________________________________________________________________\n",
      "leaky_re_lu_35 (LeakyReLU)   (None, 7, 7, 50)          0         \n",
      "_________________________________________________________________\n",
      "max_pooling2d_27 (MaxPooling (None, 4, 4, 50)          0         \n",
      "_________________________________________________________________\n",
      "dropout_20 (Dropout)         (None, 4, 4, 50)          0         \n",
      "_________________________________________________________________\n",
      "flatten_9 (Flatten)          (None, 800)               0         \n",
      "_________________________________________________________________\n",
      "dense_17 (Dense)             (None, 100)               80100     \n",
      "_________________________________________________________________\n",
      "leaky_re_lu_36 (LeakyReLU)   (None, 100)               0         \n",
      "_________________________________________________________________\n",
      "dense_18 (Dense)             (None, 10)                1010      \n",
      "=================================================================\n",
      "Total params: 109,755\n",
      "Trainable params: 109,755\n",
      "Non-trainable params: 0\n",
      "_________________________________________________________________\n"
     ]
    }
   ],
   "source": [
    "modelFM = BuildModel1()\n",
    "modelFM.compile(loss=keras.losses.categorical_crossentropy, optimizer=keras.optimizers.Adam(),metrics=['accuracy'])\n",
    "modelFM.summary()"
   ]
  },
  {
   "cell_type": "code",
   "execution_count": null,
   "metadata": {},
   "outputs": [],
   "source": []
  },
  {
   "cell_type": "code",
   "execution_count": 22,
   "metadata": {},
   "outputs": [
    {
     "name": "stdout",
     "output_type": "stream",
     "text": [
      "_________________________________________________________________\n",
      "Layer (type)                 Output Shape              Param #   \n",
      "=================================================================\n",
      "conv2d_13 (Conv2D)           (None, 28, 28, 20)        200       \n",
      "_________________________________________________________________\n",
      "leaky_re_lu_17 (LeakyReLU)   (None, 28, 28, 20)        0         \n",
      "_________________________________________________________________\n",
      "max_pooling2d_13 (MaxPooling (None, 14, 14, 20)        0         \n",
      "_________________________________________________________________\n",
      "conv2d_14 (Conv2D)           (None, 14, 14, 45)        8145      \n",
      "_________________________________________________________________\n",
      "leaky_re_lu_18 (LeakyReLU)   (None, 14, 14, 45)        0         \n",
      "_________________________________________________________________\n",
      "max_pooling2d_14 (MaxPooling (None, 7, 7, 45)          0         \n",
      "_________________________________________________________________\n",
      "conv2d_15 (Conv2D)           (None, 7, 7, 50)          20300     \n",
      "_________________________________________________________________\n",
      "leaky_re_lu_19 (LeakyReLU)   (None, 7, 7, 50)          0         \n",
      "_________________________________________________________________\n",
      "max_pooling2d_15 (MaxPooling (None, 4, 4, 50)          0         \n",
      "_________________________________________________________________\n",
      "flatten_5 (Flatten)          (None, 800)               0         \n",
      "_________________________________________________________________\n",
      "dense_9 (Dense)              (None, 100)               80100     \n",
      "_________________________________________________________________\n",
      "leaky_re_lu_20 (LeakyReLU)   (None, 100)               0         \n",
      "_________________________________________________________________\n",
      "dense_10 (Dense)             (None, 10)                1010      \n",
      "=================================================================\n",
      "Total params: 109,755\n",
      "Trainable params: 109,755\n",
      "Non-trainable params: 0\n",
      "_________________________________________________________________\n"
     ]
    }
   ],
   "source": [
    "modelFM = BuildModel1()\n",
    "modelFM.compile(loss=keras.losses.categorical_crossentropy, optimizer=keras.optimizers.Adam(),metrics=['accuracy'])\n",
    "modelFM.summary()"
   ]
  },
  {
   "cell_type": "code",
   "execution_count": 23,
   "metadata": {},
   "outputs": [
    {
     "name": "stdout",
     "output_type": "stream",
     "text": [
      "Train on 8294 samples, validate on 2074 samples\n",
      "Epoch 1/20\n",
      "8294/8294 [==============================] - 132s 16ms/step - loss: 1.2057 - acc: 0.5691 - val_loss: 0.7379 - val_acc: 0.7165\n",
      "Epoch 2/20\n",
      "8294/8294 [==============================] - 130s 16ms/step - loss: 0.6644 - acc: 0.7469 - val_loss: 0.5854 - val_acc: 0.7888\n",
      "Epoch 3/20\n",
      "8294/8294 [==============================] - 129s 16ms/step - loss: 0.5741 - acc: 0.7853 - val_loss: 0.5508 - val_acc: 0.7980\n",
      "Epoch 4/20\n",
      "8294/8294 [==============================] - 129s 16ms/step - loss: 0.5062 - acc: 0.8128 - val_loss: 0.5506 - val_acc: 0.7883\n",
      "Epoch 5/20\n",
      "8294/8294 [==============================] - 128s 15ms/step - loss: 0.4699 - acc: 0.8257 - val_loss: 0.5080 - val_acc: 0.7965\n",
      "Epoch 6/20\n",
      "8294/8294 [==============================] - 128s 15ms/step - loss: 0.4413 - acc: 0.8366 - val_loss: 0.4454 - val_acc: 0.8279\n",
      "Epoch 7/20\n",
      "8294/8294 [==============================] - 129s 16ms/step - loss: 0.4096 - acc: 0.8484 - val_loss: 0.4353 - val_acc: 0.8322\n",
      "Epoch 8/20\n",
      "8294/8294 [==============================] - 129s 16ms/step - loss: 0.3964 - acc: 0.8554 - val_loss: 0.4336 - val_acc: 0.8255\n",
      "Epoch 9/20\n",
      "8294/8294 [==============================] - 129s 16ms/step - loss: 0.3888 - acc: 0.8547 - val_loss: 0.3967 - val_acc: 0.8443\n",
      "Epoch 10/20\n",
      "8294/8294 [==============================] - 129s 16ms/step - loss: 0.3627 - acc: 0.8670 - val_loss: 0.3942 - val_acc: 0.8496\n",
      "Epoch 11/20\n",
      "8294/8294 [==============================] - 129s 16ms/step - loss: 0.3418 - acc: 0.8768 - val_loss: 0.3800 - val_acc: 0.8607\n",
      "Epoch 12/20\n",
      "8294/8294 [==============================] - 129s 16ms/step - loss: 0.3319 - acc: 0.8775 - val_loss: 0.3690 - val_acc: 0.8616\n",
      "Epoch 13/20\n",
      "8294/8294 [==============================] - 129s 16ms/step - loss: 0.3174 - acc: 0.8824 - val_loss: 0.3806 - val_acc: 0.8539\n",
      "Epoch 14/20\n",
      "8294/8294 [==============================] - 128s 15ms/step - loss: 0.3165 - acc: 0.8787 - val_loss: 0.3593 - val_acc: 0.8669\n",
      "Epoch 15/20\n",
      "8294/8294 [==============================] - 129s 16ms/step - loss: 0.2983 - acc: 0.8843 - val_loss: 0.3566 - val_acc: 0.8717\n",
      "Epoch 16/20\n",
      "8294/8294 [==============================] - 129s 16ms/step - loss: 0.2904 - acc: 0.8910 - val_loss: 0.3569 - val_acc: 0.8607\n",
      "Epoch 17/20\n",
      "8294/8294 [==============================] - 130s 16ms/step - loss: 0.2852 - acc: 0.8915 - val_loss: 0.3565 - val_acc: 0.8669\n",
      "Epoch 18/20\n",
      "8294/8294 [==============================] - 130s 16ms/step - loss: 0.2687 - acc: 0.8988 - val_loss: 0.3710 - val_acc: 0.8554\n",
      "Epoch 19/20\n",
      "8294/8294 [==============================] - 130s 16ms/step - loss: 0.2621 - acc: 0.9025 - val_loss: 0.3846 - val_acc: 0.8568\n",
      "Epoch 20/20\n",
      "8294/8294 [==============================] - 130s 16ms/step - loss: 0.2595 - acc: 0.9014 - val_loss: 0.3519 - val_acc: 0.8698\n"
     ]
    }
   ],
   "source": [
    "tr_x,cv_x,tr_y,cv_y=train_test_split(x_train,y_train_hot, test_size =0.4,random_state=30 );\n",
    "tr_xx,cv_xx,tr_yx,cv_yx=train_test_split(tr_x,tr_y, test_size =0.4,random_state=30 );\n",
    "tr_xxx,cv_xxx,tr_yxx,cv_yxx=train_test_split(tr_xx,tr_yx, test_size =0.4,random_state=30 );\n",
    "tr_xxx1,cv_xxx1,tr_yxx1,cv_yxx1=train_test_split(tr_xxx,tr_yxx, test_size =0.2,random_state=30 );\n",
    "tr_xxx2,cv_xxx2,tr_yxx2,cv_yxx2=train_test_split(tr_xxx1,tr_yxx1, test_size =0.2,random_state=30 );\n",
    "\n",
    "\n",
    "\n",
    "\n",
    "model_train1 = modelFM.fit(tr_xxx2, tr_yxx2, batch_size=64,epochs=epochs,verbose=1,validation_data=(cv_xxx2,cv_yxx2))"
   ]
  },
  {
   "cell_type": "code",
   "execution_count": 24,
   "metadata": {},
   "outputs": [
    {
     "name": "stdout",
     "output_type": "stream",
     "text": [
      "10000/10000 [==============================] - 52s 5ms/step\n",
      "Test loss: 0.3988493313550949\n",
      "Test accuracy: 0.8596\n"
     ]
    }
   ],
   "source": [
    "#Plot the images for 100, 1000, 6000th image in the test data\n",
    "test_eval = modelFM.evaluate(x_test, y_test_hot, verbose=1)\n",
    "print('Test loss:', test_eval[0])\n",
    "print('Test accuracy:', test_eval[1])"
   ]
  },
  {
   "cell_type": "code",
   "execution_count": 26,
   "metadata": {},
   "outputs": [
    {
     "data": {
      "image/png": "[encoded data removed]",
      "text/plain": [
       "<Figure size 432x288 with 1 Axes>"
      ]
     },
     "metadata": {},
     "output_type": "display_data"
    },
    {
     "name": "stdout",
     "output_type": "stream",
     "text": [
      "Actual is  3 predicted is 3\n"
     ]
    },
    {
     "data": {
      "image/png": "[encoded data removed]",
      "text/plain": [
       "<Figure size 432x288 with 1 Axes>"
      ]
     },
     "metadata": {},
     "output_type": "display_data"
    },
    {
     "name": "stdout",
     "output_type": "stream",
     "text": [
      "Actual is  0 predicted is 6\n"
     ]
    },
    {
     "data": {
      "image/png": "[encoded data removed]",
      "text/plain": [
       "<Figure size 432x288 with 1 Axes>"
      ]
     },
     "metadata": {},
     "output_type": "display_data"
    },
    {
     "name": "stdout",
     "output_type": "stream",
     "text": [
      "Actual is  1 predicted is 1\n"
     ]
    }
   ],
   "source": [
    "predicted_classes = modelFM.predict(x_test)\n",
    "predicted_classes = np.argmax(np.round(predicted_classes),axis=1)\n",
    "image = [ x_test[100, :].reshape((28, 28)), x_test[1000, :].reshape((28, 28)),x_test[6000, :].reshape((28, 28))]\n",
    "actualLable = [ y_test[100], y_test[1000],y_test[6000]]\n",
    "predicted=[ predicted_classes[100], predicted_classes[1000],predicted_classes[6000]]\n",
    "\n",
    "\n",
    "for im,y,py in zip(image,actualLable,predicted):\n",
    "    \n",
    "    plt.imshow(im)\n",
    "    plt.show()\n",
    "    print(\"Actual is  {0} predicted is {1}\".format(y,py))\n",
    "\n",
    "                                "
   ]
  },
  {
   "cell_type": "code",
   "execution_count": 50,
   "metadata": {},
   "outputs": [
    {
     "name": "stdout",
     "output_type": "stream",
     "text": [
      "Train on 8294 samples, validate on 2074 samples\n",
      "Epoch 1/20\n",
      "8294/8294 [==============================] - 128s 15ms/step - loss: 1.3376 - acc: 0.5112 - val_loss: 0.7986 - val_acc: 0.7030\n",
      "Epoch 2/20\n",
      "8294/8294 [==============================] - 126s 15ms/step - loss: 0.7418 - acc: 0.7144 - val_loss: 0.6211 - val_acc: 0.7647\n",
      "Epoch 3/20\n",
      "8294/8294 [==============================] - 126s 15ms/step - loss: 0.6364 - acc: 0.7543 - val_loss: 0.5761 - val_acc: 0.7830\n",
      "Epoch 4/20\n",
      "8294/8294 [==============================] - 126s 15ms/step - loss: 0.5770 - acc: 0.7836 - val_loss: 0.5332 - val_acc: 0.7946\n",
      "Epoch 5/20\n",
      "8294/8294 [==============================] - 125s 15ms/step - loss: 0.5404 - acc: 0.7952 - val_loss: 0.5002 - val_acc: 0.8057\n",
      "Epoch 6/20\n",
      "8294/8294 [==============================] - 126s 15ms/step - loss: 0.5102 - acc: 0.8044 - val_loss: 0.4661 - val_acc: 0.8284\n",
      "Epoch 7/20\n",
      "8294/8294 [==============================] - 126s 15ms/step - loss: 0.4944 - acc: 0.8167 - val_loss: 0.4879 - val_acc: 0.8163\n",
      "Epoch 8/20\n",
      "8294/8294 [==============================] - 126s 15ms/step - loss: 0.4615 - acc: 0.8272 - val_loss: 0.4568 - val_acc: 0.8240\n",
      "Epoch 9/20\n",
      "8294/8294 [==============================] - 126s 15ms/step - loss: 0.4463 - acc: 0.8346 - val_loss: 0.4331 - val_acc: 0.8365\n",
      "Epoch 10/20\n",
      "8294/8294 [==============================] - 126s 15ms/step - loss: 0.4342 - acc: 0.8402 - val_loss: 0.4208 - val_acc: 0.8390\n",
      "Epoch 11/20\n",
      "8294/8294 [==============================] - 126s 15ms/step - loss: 0.4264 - acc: 0.8371 - val_loss: 0.4062 - val_acc: 0.8385\n",
      "Epoch 12/20\n",
      "8294/8294 [==============================] - 126s 15ms/step - loss: 0.4088 - acc: 0.8457 - val_loss: 0.4047 - val_acc: 0.8341\n",
      "Epoch 13/20\n",
      "8294/8294 [==============================] - 125s 15ms/step - loss: 0.4001 - acc: 0.8488 - val_loss: 0.3972 - val_acc: 0.8419\n",
      "Epoch 14/20\n",
      "8294/8294 [==============================] - 126s 15ms/step - loss: 0.3837 - acc: 0.8541 - val_loss: 0.3940 - val_acc: 0.8510\n",
      "Epoch 15/20\n",
      "8294/8294 [==============================] - 125s 15ms/step - loss: 0.3775 - acc: 0.8588 - val_loss: 0.4022 - val_acc: 0.8375\n",
      "Epoch 16/20\n",
      "8294/8294 [==============================] - 127s 15ms/step - loss: 0.3699 - acc: 0.8619 - val_loss: 0.3953 - val_acc: 0.8452\n",
      "Epoch 17/20\n",
      "8294/8294 [==============================] - 127s 15ms/step - loss: 0.3647 - acc: 0.8612 - val_loss: 0.3889 - val_acc: 0.8472\n",
      "Epoch 18/20\n",
      "8294/8294 [==============================] - 127s 15ms/step - loss: 0.3545 - acc: 0.8675 - val_loss: 0.3686 - val_acc: 0.8544\n",
      "Epoch 19/20\n",
      "8294/8294 [==============================] - 127s 15ms/step - loss: 0.3504 - acc: 0.8667 - val_loss: 0.3614 - val_acc: 0.8549\n",
      "Epoch 20/20\n",
      "8294/8294 [==============================] - 127s 15ms/step - loss: 0.3369 - acc: 0.8745 - val_loss: 0.3563 - val_acc: 0.8544\n"
     ]
    }
   ],
   "source": [
    "tr_x,cv_x,tr_y,cv_y=train_test_split(x_train,y_train_hot, test_size =0.4,random_state=30 );\n",
    "tr_xx,cv_xx,tr_yx,cv_yx=train_test_split(tr_x,tr_y, test_size =0.4,random_state=30 );\n",
    "tr_xxx,cv_xxx,tr_yxx,cv_yxx=train_test_split(tr_xx,tr_yx, test_size =0.4,random_state=30 );\n",
    "tr_xxx1,cv_xxx1,tr_yxx1,cv_yxx1=train_test_split(tr_xxx,tr_yxx, test_size =0.2,random_state=30 );\n",
    "tr_xxx2,cv_xxx2,tr_yxx2,cv_yxx2=train_test_split(tr_xxx1,tr_yxx1, test_size =0.2,random_state=30 );\n",
    "\n",
    "\n",
    "\n",
    "\n",
    "model_train1 = modelFM.fit(tr_xxx2, tr_yxx2, batch_size=64,epochs=epochs,verbose=1,validation_data=(cv_xxx2,cv_yxx2))"
   ]
  },
  {
   "cell_type": "code",
   "execution_count": 67,
   "metadata": {},
   "outputs": [
    {
     "name": "stdout",
     "output_type": "stream",
     "text": [
      "10000/10000 [==============================] - 52s 5ms/step\n",
      "Test loss: 0.39750172464847566\n",
      "Test accuracy: 0.8567\n"
     ]
    }
   ],
   "source": [
    "#Plot the images for 100, 1000, 6000th image in the test data\n",
    "test_eval = modelFM.evaluate(x_test, y_test_hot, verbose=1)\n",
    "print('Test loss:', test_eval[0])\n",
    "print('Test accuracy:', test_eval[1])"
   ]
  },
  {
   "cell_type": "code",
   "execution_count": null,
   "metadata": {},
   "outputs": [],
   "source": []
  },
  {
   "cell_type": "code",
   "execution_count": null,
   "metadata": {},
   "outputs": [],
   "source": []
  },
  {
   "cell_type": "code",
   "execution_count": 54,
   "metadata": {},
   "outputs": [
    {
     "data": {
      "image/png": "[encoded data removed]",
      "text/plain": [
       "<Figure size 432x288 with 1 Axes>"
      ]
     },
     "metadata": {},
     "output_type": "display_data"
    },
    {
     "data": {
      "image/png": "[encoded data removed]",
      "text/plain": [
       "<Figure size 432x288 with 1 Axes>"
      ]
     },
     "metadata": {},
     "output_type": "display_data"
    },
    {
     "data": {
      "image/png": "[encoded data removed]",
      "text/plain": [
       "<Figure size 432x288 with 1 Axes>"
      ]
     },
     "metadata": {},
     "output_type": "display_data"
    }
   ],
   "source": [
    "image = [ x_test[100, :].reshape((28, 28)), x_test[1000, :].reshape((28, 28)),x_test[6000, :].reshape((28, 28))]\n",
    "\n",
    "for im in image:\n",
    "    \n",
    "    plt.imshow(im)\n",
    "    plt.show()"
   ]
  },
  {
   "cell_type": "code",
   "execution_count": 55,
   "metadata": {},
   "outputs": [],
   "source": [
    "predicted_classes = modelFM1.predict(x_test)\n",
    "predicted_classes = np.argmax(np.round(predicted_classes),axis=1)\n",
    "\n",
    "\n"
   ]
  },
  {
   "cell_type": "code",
   "execution_count": 66,
   "metadata": {},
   "outputs": [
    {
     "data": {
      "text/plain": [
       "1"
      ]
     },
     "execution_count": 66,
     "metadata": {},
     "output_type": "execute_result"
    }
   ],
   "source": [
    "#y_train[100]"
   ]
  },
  {
   "cell_type": "code",
   "execution_count": 64,
   "metadata": {},
   "outputs": [
    {
     "name": "stdout",
     "output_type": "stream",
     "text": [
      "_________________________________________________________________\n",
      "Layer (type)                 Output Shape              Param #   \n",
      "=================================================================\n",
      "conv2d_37 (Conv2D)           (None, 28, 28, 20)        200       \n",
      "_________________________________________________________________\n",
      "leaky_re_lu_49 (LeakyReLU)   (None, 28, 28, 20)        0         \n",
      "_________________________________________________________________\n",
      "max_pooling2d_37 (MaxPooling (None, 14, 14, 20)        0         \n",
      "_________________________________________________________________\n",
      "conv2d_38 (Conv2D)           (None, 14, 14, 45)        8145      \n",
      "_________________________________________________________________\n",
      "leaky_re_lu_50 (LeakyReLU)   (None, 14, 14, 45)        0         \n",
      "_________________________________________________________________\n",
      "max_pooling2d_38 (MaxPooling (None, 7, 7, 45)          0         \n",
      "_________________________________________________________________\n",
      "dropout_36 (Dropout)         (None, 7, 7, 45)          0         \n",
      "_________________________________________________________________\n",
      "conv2d_39 (Conv2D)           (None, 7, 7, 50)          20300     \n",
      "_________________________________________________________________\n",
      "leaky_re_lu_51 (LeakyReLU)   (None, 7, 7, 50)          0         \n",
      "_________________________________________________________________\n",
      "max_pooling2d_39 (MaxPooling (None, 4, 4, 50)          0         \n",
      "_________________________________________________________________\n",
      "dropout_37 (Dropout)         (None, 4, 4, 50)          0         \n",
      "_________________________________________________________________\n",
      "flatten_13 (Flatten)         (None, 800)               0         \n",
      "_________________________________________________________________\n",
      "dense_25 (Dense)             (None, 100)               80100     \n",
      "_________________________________________________________________\n",
      "leaky_re_lu_52 (LeakyReLU)   (None, 100)               0         \n",
      "_________________________________________________________________\n",
      "dense_26 (Dense)             (None, 10)                1010      \n",
      "=================================================================\n",
      "Total params: 109,755\n",
      "Trainable params: 109,755\n",
      "Non-trainable params: 0\n",
      "_________________________________________________________________\n"
     ]
    }
   ],
   "source": [
    "modelFM1 = BuildModel1()\n",
    "modelFM1.compile(loss=keras.losses.categorical_crossentropy, optimizer=keras.optimizers.RMSprop(lr=0.001),metrics=['accuracy'])\n",
    "modelFM1.summary()"
   ]
  },
  {
   "cell_type": "code",
   "execution_count": 38,
   "metadata": {},
   "outputs": [
    {
     "name": "stdout",
     "output_type": "stream",
     "text": [
      "Train on 8294 samples, validate on 2074 samples\n",
      "Epoch 1/20\n",
      "8294/8294 [==============================] - 128s 15ms/step - loss: 1.4637 - acc: 0.4643 - val_loss: 1.0604 - val_acc: 0.6365\n",
      "Epoch 2/20\n",
      "8294/8294 [==============================] - 126s 15ms/step - loss: 0.8657 - acc: 0.6821 - val_loss: 0.7535 - val_acc: 0.7401\n",
      "Epoch 3/20\n",
      "8294/8294 [==============================] - 127s 15ms/step - loss: 0.7133 - acc: 0.7298 - val_loss: 0.6687 - val_acc: 0.7700\n",
      "Epoch 4/20\n",
      "8294/8294 [==============================] - 126s 15ms/step - loss: 0.6410 - acc: 0.7593 - val_loss: 0.6121 - val_acc: 0.7864\n",
      "Epoch 5/20\n",
      "8294/8294 [==============================] - 127s 15ms/step - loss: 0.5868 - acc: 0.7763 - val_loss: 0.5910 - val_acc: 0.7830\n",
      "Epoch 6/20\n",
      "8294/8294 [==============================] - 128s 15ms/step - loss: 0.5561 - acc: 0.7948 - val_loss: 0.5758 - val_acc: 0.7830\n",
      "Epoch 7/20\n",
      "8294/8294 [==============================] - 127s 15ms/step - loss: 0.5317 - acc: 0.8053 - val_loss: 0.5746 - val_acc: 0.7797\n",
      "Epoch 8/20\n",
      "8294/8294 [==============================] - 127s 15ms/step - loss: 0.5061 - acc: 0.8124 - val_loss: 0.4792 - val_acc: 0.8182\n",
      "Epoch 9/20\n",
      "8294/8294 [==============================] - 130s 16ms/step - loss: 0.4885 - acc: 0.8191 - val_loss: 0.4803 - val_acc: 0.8274\n",
      "Epoch 10/20\n",
      "8294/8294 [==============================] - 127s 15ms/step - loss: 0.4686 - acc: 0.8263 - val_loss: 0.4464 - val_acc: 0.8341\n",
      "Epoch 11/20\n",
      "8294/8294 [==============================] - 127s 15ms/step - loss: 0.4632 - acc: 0.8259 - val_loss: 0.4912 - val_acc: 0.8139\n",
      "Epoch 12/20\n",
      "8294/8294 [==============================] - 127s 15ms/step - loss: 0.4486 - acc: 0.8334 - val_loss: 0.4419 - val_acc: 0.8322\n",
      "Epoch 13/20\n",
      "8294/8294 [==============================] - 127s 15ms/step - loss: 0.4295 - acc: 0.8442 - val_loss: 0.4218 - val_acc: 0.8370\n",
      "Epoch 14/20\n",
      "8294/8294 [==============================] - 127s 15ms/step - loss: 0.4289 - acc: 0.8392 - val_loss: 0.4684 - val_acc: 0.8264\n",
      "Epoch 15/20\n",
      "8294/8294 [==============================] - 128s 15ms/step - loss: 0.4183 - acc: 0.8423 - val_loss: 0.4112 - val_acc: 0.8419\n",
      "Epoch 16/20\n",
      "8294/8294 [==============================] - 127s 15ms/step - loss: 0.4110 - acc: 0.8466 - val_loss: 0.4606 - val_acc: 0.8226\n",
      "Epoch 17/20\n",
      "8294/8294 [==============================] - 127s 15ms/step - loss: 0.4028 - acc: 0.8501 - val_loss: 0.4111 - val_acc: 0.8486\n",
      "Epoch 18/20\n",
      "8294/8294 [==============================] - 127s 15ms/step - loss: 0.3977 - acc: 0.8530 - val_loss: 0.3988 - val_acc: 0.8467\n",
      "Epoch 19/20\n",
      "8294/8294 [==============================] - 130s 16ms/step - loss: 0.3881 - acc: 0.8556 - val_loss: 0.4124 - val_acc: 0.8433\n",
      "Epoch 20/20\n",
      "8294/8294 [==============================] - 128s 15ms/step - loss: 0.3884 - acc: 0.8563 - val_loss: 0.4116 - val_acc: 0.8496\n"
     ]
    }
   ],
   "source": [
    "model_train = modelFM1.fit(tr_xxx2, tr_yxx2, batch_size=64,epochs=epochs,verbose=1,validation_data=(cv_xxx2,cv_yxx2))"
   ]
  },
  {
   "cell_type": "code",
   "execution_count": 41,
   "metadata": {},
   "outputs": [],
   "source": [
    "predicted_classes = modelFM1.predict(x_test)\n",
    "predicted_classes = np.argmax(np.round(predicted_classes),axis=1)\n",
    "\n",
    "\n",
    "                                "
   ]
  },
  {
   "cell_type": "code",
   "execution_count": 40,
   "metadata": {},
   "outputs": [
    {
     "name": "stdout",
     "output_type": "stream",
     "text": [
      "10000/10000 [==============================] - 51s 5ms/step\n",
      "Test loss: 0.43351403579711917\n",
      "Test accuracy: 0.8394\n"
     ]
    }
   ],
   "source": [
    "#Plot the images for 100, 1000, 6000th image in the test data\n",
    "test_eval = modelFM1.evaluate(x_test, y_test_hot, verbose=1)\n",
    "print('Test loss:', test_eval[0])\n",
    "print('Test accuracy:', test_eval[1])"
   ]
  },
  {
   "cell_type": "code",
   "execution_count": 6,
   "metadata": {},
   "outputs": [],
   "source": [
    "def BuildModel1(input_shape=(28,28,1), convSize=(3,3), PoolSize=(2,2)):\n",
    "    modelFM = Sequential()\n",
    "    modelFM.add(Conv2D(20, kernel_size=convSize,\n",
    "                       activation='linear',\n",
    "                       input_shape=input_shape,padding=\"same\"))\n",
    "    modelFM.add(LeakyReLU(alpha=0.01))\n",
    "    modelFM.add(MaxPooling2D(20,(2, 2),padding='same'))\n",
    "    modelFM.add(Dropout(0.1))\n",
    "\n",
    "    modelFM.add(Conv2D(45, convSize, \n",
    "                       activation='linear',\n",
    "                       padding='same'))\n",
    "    modelFM.add(LeakyReLU(alpha=0.001))\n",
    "    modelFM.add(MaxPooling2D(pool_size=PoolSize,padding='same'))\n",
    "    modelFM.add(Dropout(0.3))\n",
    "\n",
    "    modelFM.add(Conv2D(50, convSize, \n",
    "                       activation='linear',\n",
    "                       padding='same'))\n",
    "    modelFM.add(LeakyReLU(alpha=0.1))\n",
    "    modelFM.add(MaxPooling2D(pool_size=PoolSize,padding='same'))\n",
    "    modelFM.add(Dropout(0.3))\n",
    "\n",
    "    modelFM.add(Flatten())\n",
    "    modelFM.add(Dense(100, activation='linear'))\n",
    "    modelFM.add(LeakyReLU(alpha=0.001))\n",
    "    modelFM.add(Dense(num_classes, activation='softmax'))\n",
    "  \n",
    "  \n",
    "\n",
    " \n",
    "    return modelFM"
   ]
  },
  {
   "cell_type": "code",
   "execution_count": 14,
   "metadata": {},
   "outputs": [
    {
     "name": "stdout",
     "output_type": "stream",
     "text": [
      "_________________________________________________________________\n",
      "Layer (type)                 Output Shape              Param #   \n",
      "=================================================================\n",
      "conv2d_7 (Conv2D)            (None, 28, 28, 20)        200       \n",
      "_________________________________________________________________\n",
      "leaky_re_lu_9 (LeakyReLU)    (None, 28, 28, 20)        0         \n",
      "_________________________________________________________________\n",
      "max_pooling2d_7 (MaxPooling2 (None, 14, 14, 20)        0         \n",
      "_________________________________________________________________\n",
      "dropout_9 (Dropout)          (None, 14, 14, 20)        0         \n",
      "_________________________________________________________________\n",
      "conv2d_8 (Conv2D)            (None, 14, 14, 45)        8145      \n",
      "_________________________________________________________________\n",
      "leaky_re_lu_10 (LeakyReLU)   (None, 14, 14, 45)        0         \n",
      "_________________________________________________________________\n",
      "max_pooling2d_8 (MaxPooling2 (None, 7, 7, 45)          0         \n",
      "_________________________________________________________________\n",
      "dropout_10 (Dropout)         (None, 7, 7, 45)          0         \n",
      "_________________________________________________________________\n",
      "conv2d_9 (Conv2D)            (None, 7, 7, 50)          20300     \n",
      "_________________________________________________________________\n",
      "leaky_re_lu_11 (LeakyReLU)   (None, 7, 7, 50)          0         \n",
      "_________________________________________________________________\n",
      "max_pooling2d_9 (MaxPooling2 (None, 4, 4, 50)          0         \n",
      "_________________________________________________________________\n",
      "dropout_11 (Dropout)         (None, 4, 4, 50)          0         \n",
      "_________________________________________________________________\n",
      "flatten_3 (Flatten)          (None, 800)               0         \n",
      "_________________________________________________________________\n",
      "dense_5 (Dense)              (None, 100)               80100     \n",
      "_________________________________________________________________\n",
      "leaky_re_lu_12 (LeakyReLU)   (None, 100)               0         \n",
      "_________________________________________________________________\n",
      "dense_6 (Dense)              (None, 10)                1010      \n",
      "=================================================================\n",
      "Total params: 109,755\n",
      "Trainable params: 109,755\n",
      "Non-trainable params: 0\n",
      "_________________________________________________________________\n"
     ]
    }
   ],
   "source": [
    "modelFM = BuildModel1()\n",
    "modelFM.compile(loss=keras.losses.categorical_crossentropy, optimizer=keras.optimizers.Adam(),metrics=['accuracy'])\n",
    "modelFM.summary()"
   ]
  },
  {
   "cell_type": "code",
   "execution_count": 9,
   "metadata": {},
   "outputs": [],
   "source": [
    "#predicted_classes = modelFM1.predict(x_test)"
   ]
  },
  {
   "cell_type": "code",
   "execution_count": 13,
   "metadata": {
    "scrolled": false
   },
   "outputs": [
    {
     "name": "stdout",
     "output_type": "stream",
     "text": [
      "Train on 8294 samples, validate on 2074 samples\n",
      "Epoch 1/140\n",
      "8294/8294 [==============================] - 117s 14ms/step - loss: 0.2832 - acc: 0.8938 - val_loss: 0.3469 - val_acc: 0.8751\n",
      "Epoch 2/140\n",
      "8294/8294 [==============================] - 118s 14ms/step - loss: 0.2800 - acc: 0.8945 - val_loss: 0.3444 - val_acc: 0.8732\n",
      "Epoch 3/140\n",
      "8294/8294 [==============================] - 117s 14ms/step - loss: 0.2780 - acc: 0.8953 - val_loss: 0.3419 - val_acc: 0.8722\n",
      "Epoch 4/140\n",
      "8294/8294 [==============================] - 118s 14ms/step - loss: 0.2719 - acc: 0.8987 - val_loss: 0.3422 - val_acc: 0.8722\n",
      "Epoch 5/140\n",
      "8294/8294 [==============================] - 119s 14ms/step - loss: 0.2790 - acc: 0.8926 - val_loss: 0.3434 - val_acc: 0.8669\n",
      "Epoch 6/140\n",
      "8294/8294 [==============================] - 117s 14ms/step - loss: 0.2673 - acc: 0.8996 - val_loss: 0.3437 - val_acc: 0.8684\n",
      "Epoch 7/140\n",
      "8294/8294 [==============================] - 118s 14ms/step - loss: 0.2727 - acc: 0.8951 - val_loss: 0.3400 - val_acc: 0.8732\n",
      "Epoch 8/140\n",
      "8294/8294 [==============================] - 117s 14ms/step - loss: 0.2727 - acc: 0.8964 - val_loss: 0.3312 - val_acc: 0.8727\n",
      "Epoch 9/140\n",
      "8294/8294 [==============================] - 118s 14ms/step - loss: 0.2717 - acc: 0.8939 - val_loss: 0.3409 - val_acc: 0.8732\n",
      "Epoch 10/140\n",
      "8294/8294 [==============================] - 118s 14ms/step - loss: 0.2782 - acc: 0.8896 - val_loss: 0.3334 - val_acc: 0.8780\n",
      "Epoch 11/140\n",
      "8294/8294 [==============================] - 118s 14ms/step - loss: 0.2641 - acc: 0.9007 - val_loss: 0.3438 - val_acc: 0.8742\n",
      "Epoch 12/140\n",
      "8294/8294 [==============================] - 117s 14ms/step - loss: 0.2644 - acc: 0.9010 - val_loss: 0.3311 - val_acc: 0.8756\n",
      "Epoch 13/140\n",
      "8294/8294 [==============================] - 116s 14ms/step - loss: 0.2627 - acc: 0.8974 - val_loss: 0.3382 - val_acc: 0.8751\n",
      "Epoch 14/140\n",
      "8294/8294 [==============================] - 117s 14ms/step - loss: 0.2594 - acc: 0.9021 - val_loss: 0.3393 - val_acc: 0.8756\n",
      "Epoch 15/140\n",
      "8294/8294 [==============================] - 117s 14ms/step - loss: 0.2643 - acc: 0.8984 - val_loss: 0.3319 - val_acc: 0.8727\n",
      "Epoch 16/140\n",
      "8294/8294 [==============================] - 117s 14ms/step - loss: 0.2599 - acc: 0.8956 - val_loss: 0.3380 - val_acc: 0.8722\n",
      "Epoch 17/140\n",
      "8294/8294 [==============================] - 117s 14ms/step - loss: 0.2689 - acc: 0.8978 - val_loss: 0.3491 - val_acc: 0.8727\n",
      "Epoch 18/140\n",
      "8294/8294 [==============================] - 117s 14ms/step - loss: 0.2672 - acc: 0.8966 - val_loss: 0.3371 - val_acc: 0.8756\n",
      "Epoch 19/140\n",
      "8294/8294 [==============================] - 117s 14ms/step - loss: 0.2561 - acc: 0.9023 - val_loss: 0.3345 - val_acc: 0.8746\n",
      "Epoch 20/140\n",
      "8294/8294 [==============================] - 116s 14ms/step - loss: 0.2591 - acc: 0.9007 - val_loss: 0.3472 - val_acc: 0.8717\n",
      "Epoch 21/140\n",
      "8294/8294 [==============================] - 117s 14ms/step - loss: 0.2483 - acc: 0.9057 - val_loss: 0.3303 - val_acc: 0.8775\n",
      "Epoch 22/140\n",
      "8294/8294 [==============================] - 117s 14ms/step - loss: 0.2537 - acc: 0.9029 - val_loss: 0.3250 - val_acc: 0.8828\n",
      "Epoch 23/140\n",
      "8294/8294 [==============================] - 117s 14ms/step - loss: 0.2491 - acc: 0.9033 - val_loss: 0.3319 - val_acc: 0.8780\n",
      "Epoch 24/140\n",
      "8294/8294 [==============================] - 118s 14ms/step - loss: 0.2557 - acc: 0.9048 - val_loss: 0.3292 - val_acc: 0.8795\n",
      "Epoch 25/140\n",
      "8294/8294 [==============================] - 117s 14ms/step - loss: 0.2464 - acc: 0.9043 - val_loss: 0.3337 - val_acc: 0.8790\n",
      "Epoch 26/140\n",
      "8294/8294 [==============================] - 117s 14ms/step - loss: 0.2525 - acc: 0.9041 - val_loss: 0.3363 - val_acc: 0.8775\n",
      "Epoch 27/140\n",
      "8294/8294 [==============================] - 117s 14ms/step - loss: 0.2447 - acc: 0.9074 - val_loss: 0.3362 - val_acc: 0.8828\n",
      "Epoch 28/140\n",
      "8294/8294 [==============================] - 118s 14ms/step - loss: 0.2510 - acc: 0.9040 - val_loss: 0.3337 - val_acc: 0.8742\n",
      "Epoch 29/140\n",
      "8294/8294 [==============================] - 119s 14ms/step - loss: 0.2519 - acc: 0.9025 - val_loss: 0.3465 - val_acc: 0.8766\n",
      "Epoch 30/140\n",
      "8294/8294 [==============================] - 119s 14ms/step - loss: 0.2398 - acc: 0.9079 - val_loss: 0.3314 - val_acc: 0.8766\n",
      "Epoch 31/140\n",
      "8294/8294 [==============================] - 119s 14ms/step - loss: 0.2365 - acc: 0.9116 - val_loss: 0.3370 - val_acc: 0.8727\n",
      "Epoch 32/140\n",
      "8294/8294 [==============================] - 119s 14ms/step - loss: 0.2390 - acc: 0.9069 - val_loss: 0.3313 - val_acc: 0.8799\n",
      "Epoch 33/140\n",
      "8294/8294 [==============================] - 117s 14ms/step - loss: 0.2392 - acc: 0.9075 - val_loss: 0.3402 - val_acc: 0.8785\n",
      "Epoch 34/140\n",
      "8294/8294 [==============================] - 118s 14ms/step - loss: 0.2393 - acc: 0.9079 - val_loss: 0.3435 - val_acc: 0.8766\n",
      "Epoch 35/140\n",
      "8294/8294 [==============================] - 116s 14ms/step - loss: 0.2283 - acc: 0.9126 - val_loss: 0.3482 - val_acc: 0.8746\n",
      "Epoch 36/140\n",
      "8294/8294 [==============================] - 116s 14ms/step - loss: 0.2348 - acc: 0.9081 - val_loss: 0.3427 - val_acc: 0.8775\n",
      "Epoch 37/140\n",
      "8294/8294 [==============================] - 117s 14ms/step - loss: 0.2383 - acc: 0.9101 - val_loss: 0.3579 - val_acc: 0.8708\n",
      "Epoch 38/140\n",
      "8294/8294 [==============================] - 116s 14ms/step - loss: 0.2331 - acc: 0.9134 - val_loss: 0.3355 - val_acc: 0.8799\n",
      "Epoch 39/140\n",
      "8294/8294 [==============================] - 117s 14ms/step - loss: 0.2306 - acc: 0.9110 - val_loss: 0.3298 - val_acc: 0.8775\n",
      "Epoch 40/140\n",
      "8294/8294 [==============================] - 117s 14ms/step - loss: 0.2269 - acc: 0.9121 - val_loss: 0.3319 - val_acc: 0.8838\n",
      "Epoch 41/140\n",
      "8294/8294 [==============================] - 118s 14ms/step - loss: 0.2365 - acc: 0.9082 - val_loss: 0.3341 - val_acc: 0.8790\n",
      "Epoch 42/140\n",
      "8294/8294 [==============================] - 117s 14ms/step - loss: 0.2317 - acc: 0.9105 - val_loss: 0.3357 - val_acc: 0.8804\n",
      "Epoch 43/140\n",
      "8294/8294 [==============================] - 118s 14ms/step - loss: 0.2258 - acc: 0.9131 - val_loss: 0.3404 - val_acc: 0.8785\n",
      "Epoch 44/140\n",
      "8294/8294 [==============================] - 117s 14ms/step - loss: 0.2293 - acc: 0.9142 - val_loss: 0.3357 - val_acc: 0.8833\n",
      "Epoch 45/140\n",
      "8294/8294 [==============================] - 117s 14ms/step - loss: 0.2262 - acc: 0.9134 - val_loss: 0.3478 - val_acc: 0.8756\n",
      "Epoch 46/140\n",
      "8294/8294 [==============================] - 117s 14ms/step - loss: 0.2222 - acc: 0.9168 - val_loss: 0.3355 - val_acc: 0.8804\n",
      "Epoch 47/140\n",
      "8294/8294 [==============================] - 118s 14ms/step - loss: 0.2220 - acc: 0.9143 - val_loss: 0.3457 - val_acc: 0.8795\n",
      "Epoch 48/140\n",
      "8294/8294 [==============================] - 118s 14ms/step - loss: 0.2183 - acc: 0.9152 - val_loss: 0.3426 - val_acc: 0.8785\n",
      "Epoch 49/140\n",
      "8294/8294 [==============================] - 118s 14ms/step - loss: 0.2153 - acc: 0.9166 - val_loss: 0.3313 - val_acc: 0.8828\n",
      "Epoch 50/140\n",
      "8294/8294 [==============================] - 117s 14ms/step - loss: 0.2126 - acc: 0.9195 - val_loss: 0.3403 - val_acc: 0.8770\n",
      "Epoch 51/140\n",
      "8294/8294 [==============================] - 117s 14ms/step - loss: 0.2119 - acc: 0.9172 - val_loss: 0.3436 - val_acc: 0.8790\n",
      "Epoch 52/140\n",
      "8294/8294 [==============================] - 116s 14ms/step - loss: 0.2125 - acc: 0.9161 - val_loss: 0.3412 - val_acc: 0.8775\n",
      "Epoch 53/140\n",
      "8294/8294 [==============================] - 116s 14ms/step - loss: 0.2062 - acc: 0.9210 - val_loss: 0.3305 - val_acc: 0.8790\n",
      "Epoch 54/140\n",
      "8294/8294 [==============================] - 116s 14ms/step - loss: 0.2142 - acc: 0.9149 - val_loss: 0.3339 - val_acc: 0.8775\n",
      "Epoch 55/140\n",
      "8294/8294 [==============================] - 117s 14ms/step - loss: 0.2058 - acc: 0.9183 - val_loss: 0.3304 - val_acc: 0.8819\n",
      "Epoch 56/140\n",
      "8294/8294 [==============================] - 116s 14ms/step - loss: 0.2089 - acc: 0.9218 - val_loss: 0.3477 - val_acc: 0.8746\n",
      "Epoch 57/140\n",
      "8294/8294 [==============================] - 116s 14ms/step - loss: 0.2136 - acc: 0.9162 - val_loss: 0.3535 - val_acc: 0.8804\n",
      "Epoch 58/140\n",
      "8294/8294 [==============================] - 116s 14ms/step - loss: 0.2147 - acc: 0.9168 - val_loss: 0.3454 - val_acc: 0.8819\n",
      "Epoch 59/140\n",
      "8294/8294 [==============================] - 117s 14ms/step - loss: 0.2086 - acc: 0.9215 - val_loss: 0.3348 - val_acc: 0.8790\n",
      "Epoch 60/140\n",
      "8294/8294 [==============================] - 117s 14ms/step - loss: 0.2075 - acc: 0.9199 - val_loss: 0.3529 - val_acc: 0.8780\n",
      "Epoch 61/140\n",
      "8294/8294 [==============================] - 116s 14ms/step - loss: 0.2023 - acc: 0.9256 - val_loss: 0.3387 - val_acc: 0.8809\n",
      "Epoch 62/140\n",
      "8294/8294 [==============================] - 117s 14ms/step - loss: 0.1990 - acc: 0.9232 - val_loss: 0.3448 - val_acc: 0.8848\n",
      "Epoch 63/140\n",
      "8294/8294 [==============================] - 116s 14ms/step - loss: 0.2096 - acc: 0.9183 - val_loss: 0.3536 - val_acc: 0.8751\n",
      "Epoch 64/140\n",
      "8294/8294 [==============================] - 116s 14ms/step - loss: 0.1993 - acc: 0.9230 - val_loss: 0.3417 - val_acc: 0.8809\n",
      "Epoch 65/140\n",
      "8294/8294 [==============================] - 116s 14ms/step - loss: 0.1954 - acc: 0.9255 - val_loss: 0.3632 - val_acc: 0.8770\n",
      "Epoch 66/140\n",
      "8294/8294 [==============================] - 117s 14ms/step - loss: 0.1984 - acc: 0.9211 - val_loss: 0.3522 - val_acc: 0.8814\n",
      "Epoch 67/140\n",
      "8294/8294 [==============================] - 118s 14ms/step - loss: 0.1938 - acc: 0.9254 - val_loss: 0.3549 - val_acc: 0.8761\n",
      "Epoch 68/140\n",
      "8294/8294 [==============================] - 117s 14ms/step - loss: 0.1956 - acc: 0.9227 - val_loss: 0.3345 - val_acc: 0.8819\n",
      "Epoch 69/140\n",
      "8294/8294 [==============================] - 116s 14ms/step - loss: 0.1912 - acc: 0.9271 - val_loss: 0.3439 - val_acc: 0.8819\n",
      "Epoch 70/140\n",
      "8294/8294 [==============================] - 117s 14ms/step - loss: 0.1881 - acc: 0.9260 - val_loss: 0.3422 - val_acc: 0.8804\n",
      "Epoch 71/140\n",
      "8294/8294 [==============================] - 116s 14ms/step - loss: 0.1793 - acc: 0.9290 - val_loss: 0.3422 - val_acc: 0.8814\n",
      "Epoch 72/140\n",
      "8294/8294 [==============================] - 117s 14ms/step - loss: 0.1868 - acc: 0.9321 - val_loss: 0.3417 - val_acc: 0.8814\n",
      "Epoch 73/140\n",
      "8294/8294 [==============================] - 117s 14ms/step - loss: 0.1876 - acc: 0.9284 - val_loss: 0.3441 - val_acc: 0.8824\n",
      "Epoch 74/140\n",
      "8294/8294 [==============================] - 117s 14ms/step - loss: 0.1797 - acc: 0.9318 - val_loss: 0.3518 - val_acc: 0.8766\n",
      "Epoch 75/140\n",
      "8294/8294 [==============================] - 118s 14ms/step - loss: 0.1892 - acc: 0.9284 - val_loss: 0.3355 - val_acc: 0.8804\n",
      "Epoch 76/140\n",
      "8294/8294 [==============================] - 118s 14ms/step - loss: 0.1849 - acc: 0.9290 - val_loss: 0.3408 - val_acc: 0.8828\n",
      "Epoch 77/140\n",
      "8294/8294 [==============================] - 116s 14ms/step - loss: 0.1845 - acc: 0.9278 - val_loss: 0.3411 - val_acc: 0.8838\n",
      "Epoch 78/140\n",
      "8294/8294 [==============================] - 118s 14ms/step - loss: 0.1765 - acc: 0.9325 - val_loss: 0.3500 - val_acc: 0.8780\n",
      "Epoch 79/140\n",
      "8294/8294 [==============================] - 117s 14ms/step - loss: 0.1850 - acc: 0.9297 - val_loss: 0.3565 - val_acc: 0.8761\n",
      "Epoch 80/140\n",
      "8294/8294 [==============================] - 117s 14ms/step - loss: 0.1777 - acc: 0.9286 - val_loss: 0.3523 - val_acc: 0.8814\n",
      "Epoch 81/140\n",
      "8294/8294 [==============================] - 117s 14ms/step - loss: 0.1782 - acc: 0.9331 - val_loss: 0.3501 - val_acc: 0.8852\n",
      "Epoch 82/140\n",
      "8294/8294 [==============================] - 116s 14ms/step - loss: 0.1822 - acc: 0.9309 - val_loss: 0.3431 - val_acc: 0.8746\n",
      "Epoch 83/140\n",
      "8294/8294 [==============================] - 117s 14ms/step - loss: 0.1764 - acc: 0.9326 - val_loss: 0.3554 - val_acc: 0.8833\n",
      "Epoch 84/140\n",
      "8294/8294 [==============================] - 117s 14ms/step - loss: 0.1791 - acc: 0.9332 - val_loss: 0.3477 - val_acc: 0.8770\n",
      "Epoch 85/140\n",
      "8294/8294 [==============================] - 118s 14ms/step - loss: 0.1783 - acc: 0.9319 - val_loss: 0.3564 - val_acc: 0.8804\n",
      "Epoch 86/140\n",
      "8294/8294 [==============================] - 117s 14ms/step - loss: 0.1758 - acc: 0.9326 - val_loss: 0.3702 - val_acc: 0.8727\n",
      "Epoch 87/140\n",
      "8294/8294 [==============================] - 117s 14ms/step - loss: 0.1773 - acc: 0.9296 - val_loss: 0.3691 - val_acc: 0.8761\n",
      "Epoch 88/140\n",
      "8294/8294 [==============================] - 117s 14ms/step - loss: 0.1731 - acc: 0.9325 - val_loss: 0.3533 - val_acc: 0.8804\n",
      "Epoch 89/140\n",
      "8294/8294 [==============================] - 117s 14ms/step - loss: 0.1649 - acc: 0.9368 - val_loss: 0.3563 - val_acc: 0.8824\n",
      "Epoch 90/140\n",
      "8294/8294 [==============================] - 117s 14ms/step - loss: 0.1660 - acc: 0.9395 - val_loss: 0.3604 - val_acc: 0.8819\n",
      "Epoch 91/140\n",
      "8294/8294 [==============================] - 117s 14ms/step - loss: 0.1691 - acc: 0.9361 - val_loss: 0.3514 - val_acc: 0.8819\n",
      "Epoch 92/140\n",
      "8294/8294 [==============================] - 117s 14ms/step - loss: 0.1699 - acc: 0.9357 - val_loss: 0.3604 - val_acc: 0.8838\n",
      "Epoch 93/140\n",
      "8294/8294 [==============================] - 118s 14ms/step - loss: 0.1761 - acc: 0.9322 - val_loss: 0.3616 - val_acc: 0.8804\n",
      "Epoch 94/140\n",
      "8294/8294 [==============================] - 117s 14ms/step - loss: 0.1665 - acc: 0.9340 - val_loss: 0.3589 - val_acc: 0.8766\n",
      "Epoch 95/140\n",
      "8294/8294 [==============================] - 116s 14ms/step - loss: 0.1640 - acc: 0.9381 - val_loss: 0.3649 - val_acc: 0.8799\n",
      "Epoch 96/140\n",
      "8294/8294 [==============================] - 117s 14ms/step - loss: 0.1603 - acc: 0.9402 - val_loss: 0.3570 - val_acc: 0.8732\n",
      "Epoch 97/140\n",
      "8294/8294 [==============================] - 117s 14ms/step - loss: 0.1688 - acc: 0.9326 - val_loss: 0.3510 - val_acc: 0.8819\n",
      "Epoch 98/140\n",
      "8294/8294 [==============================] - 117s 14ms/step - loss: 0.1597 - acc: 0.9391 - val_loss: 0.3629 - val_acc: 0.8684\n",
      "Epoch 99/140\n",
      "8294/8294 [==============================] - 117s 14ms/step - loss: 0.1641 - acc: 0.9384 - val_loss: 0.3594 - val_acc: 0.8857\n",
      "Epoch 100/140\n",
      "8294/8294 [==============================] - 117s 14ms/step - loss: 0.1574 - acc: 0.9421 - val_loss: 0.3669 - val_acc: 0.8814\n",
      "Epoch 101/140\n",
      "8294/8294 [==============================] - 116s 14ms/step - loss: 0.1586 - acc: 0.9397 - val_loss: 0.3704 - val_acc: 0.8795\n",
      "Epoch 102/140\n",
      "8294/8294 [==============================] - 116s 14ms/step - loss: 0.1641 - acc: 0.9380 - val_loss: 0.3588 - val_acc: 0.8751\n",
      "Epoch 103/140\n",
      "8294/8294 [==============================] - 117s 14ms/step - loss: 0.1601 - acc: 0.9401 - val_loss: 0.3692 - val_acc: 0.8804\n",
      "Epoch 104/140\n",
      "8294/8294 [==============================] - 116s 14ms/step - loss: 0.1573 - acc: 0.9390 - val_loss: 0.3547 - val_acc: 0.8824\n",
      "Epoch 105/140\n",
      "8294/8294 [==============================] - 118s 14ms/step - loss: 0.1520 - acc: 0.9401 - val_loss: 0.3509 - val_acc: 0.8838\n",
      "Epoch 106/140\n",
      "8294/8294 [==============================] - 118s 14ms/step - loss: 0.1569 - acc: 0.9362 - val_loss: 0.3694 - val_acc: 0.8785\n",
      "Epoch 107/140\n",
      "8294/8294 [==============================] - 117s 14ms/step - loss: 0.1503 - acc: 0.9454 - val_loss: 0.3788 - val_acc: 0.8761\n",
      "Epoch 108/140\n",
      "8294/8294 [==============================] - 118s 14ms/step - loss: 0.1498 - acc: 0.9401 - val_loss: 0.3737 - val_acc: 0.8713\n",
      "Epoch 109/140\n",
      "8294/8294 [==============================] - 117s 14ms/step - loss: 0.1615 - acc: 0.9374 - val_loss: 0.3566 - val_acc: 0.8838\n",
      "Epoch 110/140\n",
      "8294/8294 [==============================] - 116s 14ms/step - loss: 0.1630 - acc: 0.9355 - val_loss: 0.3750 - val_acc: 0.8775\n",
      "Epoch 111/140\n",
      "8294/8294 [==============================] - 116s 14ms/step - loss: 0.1582 - acc: 0.9394 - val_loss: 0.3960 - val_acc: 0.8698\n",
      "Epoch 112/140\n",
      "8294/8294 [==============================] - 116s 14ms/step - loss: 0.1537 - acc: 0.9413 - val_loss: 0.3840 - val_acc: 0.8770\n",
      "Epoch 113/140\n",
      "8294/8294 [==============================] - 116s 14ms/step - loss: 0.1500 - acc: 0.9415 - val_loss: 0.3719 - val_acc: 0.8766\n",
      "Epoch 114/140\n",
      "8294/8294 [==============================] - 116s 14ms/step - loss: 0.1437 - acc: 0.9461 - val_loss: 0.3751 - val_acc: 0.8756\n",
      "Epoch 115/140\n",
      "8294/8294 [==============================] - 116s 14ms/step - loss: 0.1457 - acc: 0.9441 - val_loss: 0.4054 - val_acc: 0.8732\n",
      "Epoch 116/140\n",
      "8294/8294 [==============================] - 117s 14ms/step - loss: 0.1509 - acc: 0.9422 - val_loss: 0.3847 - val_acc: 0.8732\n",
      "Epoch 117/140\n",
      "8294/8294 [==============================] - 116s 14ms/step - loss: 0.1429 - acc: 0.9486 - val_loss: 0.3794 - val_acc: 0.8751\n"
     ]
    },
    {
     "name": "stdout",
     "output_type": "stream",
     "text": [
      "Epoch 118/140\n",
      "8294/8294 [==============================] - 117s 14ms/step - loss: 0.1426 - acc: 0.9460 - val_loss: 0.3771 - val_acc: 0.8746\n",
      "Epoch 119/140\n",
      "8294/8294 [==============================] - 117s 14ms/step - loss: 0.1474 - acc: 0.9426 - val_loss: 0.3863 - val_acc: 0.8761\n",
      "Epoch 120/140\n",
      "8294/8294 [==============================] - 117s 14ms/step - loss: 0.1451 - acc: 0.9467 - val_loss: 0.3807 - val_acc: 0.8756\n",
      "Epoch 121/140\n",
      "8294/8294 [==============================] - 116s 14ms/step - loss: 0.1405 - acc: 0.9480 - val_loss: 0.3748 - val_acc: 0.8780\n",
      "Epoch 122/140\n",
      "8294/8294 [==============================] - 117s 14ms/step - loss: 0.1478 - acc: 0.9441 - val_loss: 0.3822 - val_acc: 0.8790\n",
      "Epoch 123/140\n",
      "8294/8294 [==============================] - 116s 14ms/step - loss: 0.1396 - acc: 0.9462 - val_loss: 0.3804 - val_acc: 0.8814\n",
      "Epoch 124/140\n",
      "8294/8294 [==============================] - 116s 14ms/step - loss: 0.1404 - acc: 0.9482 - val_loss: 0.3817 - val_acc: 0.8722\n",
      "Epoch 125/140\n",
      "8294/8294 [==============================] - 116s 14ms/step - loss: 0.1342 - acc: 0.9483 - val_loss: 0.3820 - val_acc: 0.8785\n",
      "Epoch 126/140\n",
      "8294/8294 [==============================] - 115s 14ms/step - loss: 0.1288 - acc: 0.9510 - val_loss: 0.3747 - val_acc: 0.8766\n",
      "Epoch 127/140\n",
      "8294/8294 [==============================] - 115s 14ms/step - loss: 0.1353 - acc: 0.9495 - val_loss: 0.3779 - val_acc: 0.8790\n",
      "Epoch 128/140\n",
      "8294/8294 [==============================] - 114s 14ms/step - loss: 0.1288 - acc: 0.9489 - val_loss: 0.3815 - val_acc: 0.8737\n",
      "Epoch 129/140\n",
      "8294/8294 [==============================] - 115s 14ms/step - loss: 0.1362 - acc: 0.9478 - val_loss: 0.3854 - val_acc: 0.8790\n",
      "Epoch 130/140\n",
      "8294/8294 [==============================] - 115s 14ms/step - loss: 0.1419 - acc: 0.9449 - val_loss: 0.3868 - val_acc: 0.8713\n",
      "Epoch 131/140\n",
      "8294/8294 [==============================] - 115s 14ms/step - loss: 0.1370 - acc: 0.9450 - val_loss: 0.3841 - val_acc: 0.8799\n",
      "Epoch 132/140\n",
      "8294/8294 [==============================] - 115s 14ms/step - loss: 0.1361 - acc: 0.9492 - val_loss: 0.3829 - val_acc: 0.8775\n",
      "Epoch 133/140\n",
      "8294/8294 [==============================] - 115s 14ms/step - loss: 0.1352 - acc: 0.9501 - val_loss: 0.3752 - val_acc: 0.8751\n",
      "Epoch 134/140\n",
      "8294/8294 [==============================] - 115s 14ms/step - loss: 0.1382 - acc: 0.9492 - val_loss: 0.4088 - val_acc: 0.8746\n",
      "Epoch 135/140\n",
      "8294/8294 [==============================] - 115s 14ms/step - loss: 0.1322 - acc: 0.9495 - val_loss: 0.3874 - val_acc: 0.8790\n",
      "Epoch 136/140\n",
      "8294/8294 [==============================] - 114s 14ms/step - loss: 0.1270 - acc: 0.9503 - val_loss: 0.3795 - val_acc: 0.8809\n",
      "Epoch 137/140\n",
      "8294/8294 [==============================] - 115s 14ms/step - loss: 0.1275 - acc: 0.9495 - val_loss: 0.3906 - val_acc: 0.8795\n",
      "Epoch 138/140\n",
      "8294/8294 [==============================] - 116s 14ms/step - loss: 0.1313 - acc: 0.9492 - val_loss: 0.4153 - val_acc: 0.8766\n",
      "Epoch 139/140\n",
      "8294/8294 [==============================] - 115s 14ms/step - loss: 0.1346 - acc: 0.9483 - val_loss: 0.3986 - val_acc: 0.8790\n",
      "Epoch 140/140\n",
      "8294/8294 [==============================] - 116s 14ms/step - loss: 0.1304 - acc: 0.9480 - val_loss: 0.3730 - val_acc: 0.8824\n"
     ]
    }
   ],
   "source": [
    "tr_x,cv_x,tr_y,cv_y=train_test_split(x_train,y_train_hot, test_size =0.4,random_state=30 );\n",
    "tr_xx,cv_xx,tr_yx,cv_yx=train_test_split(tr_x,tr_y, test_size =0.4,random_state=30 );\n",
    "tr_xxx,cv_xxx,tr_yxx,cv_yxx=train_test_split(tr_xx,tr_yx, test_size =0.4,random_state=30 );\n",
    "tr_xxx1,cv_xxx1,tr_yxx1,cv_yxx1=train_test_split(tr_xxx,tr_yxx, test_size =0.2,random_state=30 );\n",
    "tr_xxx2,cv_xxx2,tr_yxx2,cv_yxx2=train_test_split(tr_xxx1,tr_yxx1, test_size =0.2,random_state=30 );\n",
    "\n",
    "\n",
    "\n",
    "\n",
    "model_train = modelFM.fit(tr_xxx2, tr_yxx2, batch_size=batch_size,epochs=epochs,verbose=1,validation_data=(cv_xxx2,cv_yxx2))"
   ]
  },
  {
   "cell_type": "code",
   "execution_count": 14,
   "metadata": {},
   "outputs": [
    {
     "name": "stdout",
     "output_type": "stream",
     "text": [
      "10000/10000 [==============================] - 49s 5ms/step\n",
      "Test loss: 0.4464316241085529\n",
      "Test accuracy: 0.8638\n"
     ]
    }
   ],
   "source": [
    "#Plot the images for 100, 1000, 6000th image in the test data\n",
    "test_eval = modelFM.evaluate(x_test, y_test_hot, verbose=1)\n",
    "print('Test loss:', test_eval[0])\n",
    "print('Test accuracy:', test_eval[1])"
   ]
  },
  {
   "cell_type": "code",
   "execution_count": 48,
   "metadata": {},
   "outputs": [],
   "source": [
    "batch_size = 32\n",
    "epochs = 80\n",
    "num_classes = 10"
   ]
  },
  {
   "cell_type": "code",
   "execution_count": 53,
   "metadata": {},
   "outputs": [],
   "source": [
    "def BuildModel2(input_shape=(28,28,1), convSize=(3,3), PoolSize=(2,2)):\n",
    "    modelFM = Sequential()\n",
    "    modelFM.add(Conv2D(20, kernel_size=convSize,\n",
    "                       activation='linear',\n",
    "                       input_shape=input_shape,padding=\"same\"))\n",
    "    modelFM.add(LeakyReLU(alpha=0.01))\n",
    "    modelFM.add(MaxPooling2D(20,(2, 2),padding='same'))\n",
    "    modelFM.add(Dropout(0.25))\n",
    "\n",
    "    modelFM.add(Conv2D(45, convSize, \n",
    "                       activation='linear',\n",
    "                       padding='same'))\n",
    "    modelFM.add(LeakyReLU(alpha=0.1))\n",
    "    modelFM.add(MaxPooling2D(pool_size=PoolSize,padding='same'))\n",
    "    modelFM.add(Dropout(0.3))\n",
    "\n",
    "    modelFM.add(Conv2D(50, convSize, \n",
    "                       activation='linear',\n",
    "                       padding='same'))\n",
    "    modelFM.add(LeakyReLU(alpha=0.1))\n",
    "    modelFM.add(MaxPooling2D(pool_size=PoolSize,padding='same'))\n",
    "    modelFM.add(Dropout(0.4))\n",
    "\n",
    "    modelFM.add(Flatten())\n",
    "    modelFM.add(Dense(100, activation='linear'))\n",
    "    modelFM.add(LeakyReLU(alpha=0.01))\n",
    "    modelFM.add(Dropout(0.4))\n",
    "\n",
    "    modelFM.add(Dense(num_classes, activation='softmax'))\n",
    "  \n",
    "  \n",
    "\n",
    " \n",
    "    return modelFM"
   ]
  },
  {
   "cell_type": "code",
   "execution_count": 50,
   "metadata": {},
   "outputs": [
    {
     "name": "stdout",
     "output_type": "stream",
     "text": [
      "_________________________________________________________________\n",
      "Layer (type)                 Output Shape              Param #   \n",
      "=================================================================\n",
      "conv2d_34 (Conv2D)           (None, 28, 28, 20)        200       \n",
      "_________________________________________________________________\n",
      "leaky_re_lu_45 (LeakyReLU)   (None, 28, 28, 20)        0         \n",
      "_________________________________________________________________\n",
      "max_pooling2d_34 (MaxPooling (None, 14, 14, 20)        0         \n",
      "_________________________________________________________________\n",
      "dropout_38 (Dropout)         (None, 14, 14, 20)        0         \n",
      "_________________________________________________________________\n",
      "conv2d_35 (Conv2D)           (None, 14, 14, 45)        8145      \n",
      "_________________________________________________________________\n",
      "leaky_re_lu_46 (LeakyReLU)   (None, 14, 14, 45)        0         \n",
      "_________________________________________________________________\n",
      "max_pooling2d_35 (MaxPooling (None, 7, 7, 45)          0         \n",
      "_________________________________________________________________\n",
      "dropout_39 (Dropout)         (None, 7, 7, 45)          0         \n",
      "_________________________________________________________________\n",
      "conv2d_36 (Conv2D)           (None, 7, 7, 50)          20300     \n",
      "_________________________________________________________________\n",
      "leaky_re_lu_47 (LeakyReLU)   (None, 7, 7, 50)          0         \n",
      "_________________________________________________________________\n",
      "max_pooling2d_36 (MaxPooling (None, 4, 4, 50)          0         \n",
      "_________________________________________________________________\n",
      "dropout_40 (Dropout)         (None, 4, 4, 50)          0         \n",
      "_________________________________________________________________\n",
      "flatten_12 (Flatten)         (None, 800)               0         \n",
      "_________________________________________________________________\n",
      "dense_23 (Dense)             (None, 100)               80100     \n",
      "_________________________________________________________________\n",
      "leaky_re_lu_48 (LeakyReLU)   (None, 100)               0         \n",
      "_________________________________________________________________\n",
      "dropout_41 (Dropout)         (None, 100)               0         \n",
      "_________________________________________________________________\n",
      "dense_24 (Dense)             (None, 10)                1010      \n",
      "=================================================================\n",
      "Total params: 109,755\n",
      "Trainable params: 109,755\n",
      "Non-trainable params: 0\n",
      "_________________________________________________________________\n"
     ]
    }
   ],
   "source": [
    "modelFM = BuildModel2()\n",
    "modelFM.compile(loss=keras.losses.categorical_crossentropy, optimizer=keras.optimizers.Adam(),metrics=['accuracy'])\n",
    "modelFM.summary()"
   ]
  },
  {
   "cell_type": "code",
   "execution_count": 51,
   "metadata": {},
   "outputs": [
    {
     "name": "stdout",
     "output_type": "stream",
     "text": [
      "Train on 8294 samples, validate on 2074 samples\n",
      "Epoch 1/80\n",
      "8294/8294 [==============================] - 129s 16ms/step - loss: 1.5499 - acc: 0.4172 - val_loss: 0.8747 - val_acc: 0.7025\n",
      "Epoch 2/80\n",
      "8294/8294 [==============================] - 127s 15ms/step - loss: 0.8578 - acc: 0.6813 - val_loss: 0.7095 - val_acc: 0.7493\n",
      "Epoch 3/80\n",
      "8294/8294 [==============================] - 127s 15ms/step - loss: 0.7360 - acc: 0.7194 - val_loss: 0.6580 - val_acc: 0.7599\n",
      "Epoch 4/80\n",
      "8294/8294 [==============================] - 126s 15ms/step - loss: 0.6777 - acc: 0.7408 - val_loss: 0.5662 - val_acc: 0.7878\n",
      "Epoch 5/80\n",
      "8294/8294 [==============================] - 127s 15ms/step - loss: 0.6357 - acc: 0.7598 - val_loss: 0.5769 - val_acc: 0.7840\n",
      "Epoch 6/80\n",
      "8294/8294 [==============================] - 127s 15ms/step - loss: 0.6012 - acc: 0.7744 - val_loss: 0.5324 - val_acc: 0.7994\n",
      "Epoch 7/80\n",
      "8294/8294 [==============================] - 126s 15ms/step - loss: 0.5857 - acc: 0.7831 - val_loss: 0.4865 - val_acc: 0.8038\n",
      "Epoch 8/80\n",
      "8294/8294 [==============================] - 127s 15ms/step - loss: 0.5524 - acc: 0.7920 - val_loss: 0.4775 - val_acc: 0.8177\n",
      "Epoch 9/80\n",
      "8294/8294 [==============================] - 127s 15ms/step - loss: 0.5319 - acc: 0.8066 - val_loss: 0.4583 - val_acc: 0.8245\n",
      "Epoch 10/80\n",
      "8294/8294 [==============================] - 127s 15ms/step - loss: 0.5117 - acc: 0.8113 - val_loss: 0.4547 - val_acc: 0.8173\n",
      "Epoch 11/80\n",
      "8294/8294 [==============================] - 127s 15ms/step - loss: 0.4985 - acc: 0.8113 - val_loss: 0.4587 - val_acc: 0.8144\n",
      "Epoch 12/80\n",
      "8294/8294 [==============================] - 127s 15ms/step - loss: 0.4896 - acc: 0.8167 - val_loss: 0.4423 - val_acc: 0.8288\n",
      "Epoch 13/80\n",
      "8294/8294 [==============================] - 127s 15ms/step - loss: 0.4725 - acc: 0.8252 - val_loss: 0.4453 - val_acc: 0.8250\n",
      "Epoch 14/80\n",
      "8294/8294 [==============================] - 127s 15ms/step - loss: 0.4599 - acc: 0.8258 - val_loss: 0.4225 - val_acc: 0.8322\n",
      "Epoch 15/80\n",
      "8294/8294 [==============================] - 126s 15ms/step - loss: 0.4517 - acc: 0.8271 - val_loss: 0.4003 - val_acc: 0.8351\n",
      "Epoch 16/80\n",
      "8294/8294 [==============================] - 127s 15ms/step - loss: 0.4425 - acc: 0.8380 - val_loss: 0.4058 - val_acc: 0.8419\n",
      "Epoch 17/80\n",
      "8294/8294 [==============================] - 127s 15ms/step - loss: 0.4372 - acc: 0.8351 - val_loss: 0.3908 - val_acc: 0.8467\n",
      "Epoch 18/80\n",
      "8294/8294 [==============================] - 127s 15ms/step - loss: 0.4312 - acc: 0.8408 - val_loss: 0.3930 - val_acc: 0.8472\n",
      "Epoch 19/80\n",
      "8294/8294 [==============================] - 127s 15ms/step - loss: 0.4200 - acc: 0.8439 - val_loss: 0.3990 - val_acc: 0.8409\n",
      "Epoch 20/80\n",
      "8294/8294 [==============================] - 127s 15ms/step - loss: 0.4110 - acc: 0.8417 - val_loss: 0.3871 - val_acc: 0.8525\n",
      "Epoch 21/80\n",
      "8294/8294 [==============================] - 127s 15ms/step - loss: 0.4134 - acc: 0.8430 - val_loss: 0.3852 - val_acc: 0.8520\n",
      "Epoch 22/80\n",
      "8294/8294 [==============================] - 128s 15ms/step - loss: 0.4016 - acc: 0.8503 - val_loss: 0.4088 - val_acc: 0.8409\n",
      "Epoch 23/80\n",
      "8294/8294 [==============================] - 127s 15ms/step - loss: 0.3980 - acc: 0.8516 - val_loss: 0.3727 - val_acc: 0.8602\n",
      "Epoch 24/80\n",
      "8294/8294 [==============================] - 127s 15ms/step - loss: 0.3902 - acc: 0.8515 - val_loss: 0.3732 - val_acc: 0.8616\n",
      "Epoch 25/80\n",
      "8294/8294 [==============================] - 127s 15ms/step - loss: 0.3894 - acc: 0.8505 - val_loss: 0.3818 - val_acc: 0.8515\n",
      "Epoch 26/80\n",
      "8294/8294 [==============================] - 127s 15ms/step - loss: 0.3879 - acc: 0.8518 - val_loss: 0.3972 - val_acc: 0.8457\n",
      "Epoch 27/80\n",
      "8294/8294 [==============================] - 127s 15ms/step - loss: 0.3787 - acc: 0.8594 - val_loss: 0.3684 - val_acc: 0.8505\n",
      "Epoch 28/80\n",
      "8294/8294 [==============================] - 127s 15ms/step - loss: 0.3734 - acc: 0.8595 - val_loss: 0.3797 - val_acc: 0.8500\n",
      "Epoch 29/80\n",
      "8294/8294 [==============================] - 128s 15ms/step - loss: 0.3782 - acc: 0.8507 - val_loss: 0.3658 - val_acc: 0.8582\n",
      "Epoch 30/80\n",
      "8294/8294 [==============================] - 127s 15ms/step - loss: 0.3716 - acc: 0.8586 - val_loss: 0.3724 - val_acc: 0.8592\n",
      "Epoch 31/80\n",
      "8294/8294 [==============================] - 127s 15ms/step - loss: 0.3636 - acc: 0.8598 - val_loss: 0.3702 - val_acc: 0.8544\n",
      "Epoch 32/80\n",
      "8294/8294 [==============================] - 127s 15ms/step - loss: 0.3617 - acc: 0.8642 - val_loss: 0.3642 - val_acc: 0.8529\n",
      "Epoch 33/80\n",
      "8294/8294 [==============================] - 127s 15ms/step - loss: 0.3577 - acc: 0.8648 - val_loss: 0.3722 - val_acc: 0.8554\n",
      "Epoch 34/80\n",
      "8294/8294 [==============================] - 127s 15ms/step - loss: 0.3564 - acc: 0.8658 - val_loss: 0.3834 - val_acc: 0.8578\n",
      "Epoch 35/80\n",
      "8294/8294 [==============================] - 127s 15ms/step - loss: 0.3539 - acc: 0.8605 - val_loss: 0.3631 - val_acc: 0.8573\n",
      "Epoch 36/80\n",
      "8294/8294 [==============================] - 127s 15ms/step - loss: 0.3524 - acc: 0.8656 - val_loss: 0.3496 - val_acc: 0.8645\n",
      "Epoch 37/80\n",
      "8294/8294 [==============================] - 127s 15ms/step - loss: 0.3509 - acc: 0.8659 - val_loss: 0.3437 - val_acc: 0.8621\n",
      "Epoch 38/80\n",
      "8294/8294 [==============================] - 127s 15ms/step - loss: 0.3497 - acc: 0.8633 - val_loss: 0.3529 - val_acc: 0.8679\n",
      "Epoch 39/80\n",
      "8294/8294 [==============================] - 127s 15ms/step - loss: 0.3372 - acc: 0.8703 - val_loss: 0.3461 - val_acc: 0.8689\n",
      "Epoch 40/80\n",
      "8294/8294 [==============================] - 127s 15ms/step - loss: 0.3468 - acc: 0.8683 - val_loss: 0.3426 - val_acc: 0.8669\n",
      "Epoch 41/80\n",
      "8294/8294 [==============================] - 126s 15ms/step - loss: 0.3424 - acc: 0.8674 - val_loss: 0.3872 - val_acc: 0.8500\n",
      "Epoch 42/80\n",
      "8294/8294 [==============================] - 127s 15ms/step - loss: 0.3428 - acc: 0.8675 - val_loss: 0.3612 - val_acc: 0.8626\n",
      "Epoch 43/80\n",
      "8294/8294 [==============================] - 128s 15ms/step - loss: 0.3337 - acc: 0.8691 - val_loss: 0.3532 - val_acc: 0.8631\n",
      "Epoch 44/80\n",
      "8294/8294 [==============================] - 127s 15ms/step - loss: 0.3302 - acc: 0.8750 - val_loss: 0.3794 - val_acc: 0.8592\n",
      "Epoch 45/80\n",
      "8294/8294 [==============================] - 128s 15ms/step - loss: 0.3317 - acc: 0.8689 - val_loss: 0.3690 - val_acc: 0.8563\n",
      "Epoch 46/80\n",
      "8294/8294 [==============================] - 127s 15ms/step - loss: 0.3321 - acc: 0.8750 - val_loss: 0.3498 - val_acc: 0.8655\n",
      "Epoch 47/80\n",
      "8294/8294 [==============================] - 127s 15ms/step - loss: 0.3287 - acc: 0.8699 - val_loss: 0.3727 - val_acc: 0.8544\n",
      "Epoch 48/80\n",
      "8294/8294 [==============================] - 127s 15ms/step - loss: 0.3314 - acc: 0.8727 - val_loss: 0.3761 - val_acc: 0.8592\n",
      "Epoch 49/80\n",
      "8294/8294 [==============================] - 127s 15ms/step - loss: 0.3360 - acc: 0.8660 - val_loss: 0.3806 - val_acc: 0.8563\n",
      "Epoch 50/80\n",
      "8294/8294 [==============================] - 128s 15ms/step - loss: 0.3283 - acc: 0.8733 - val_loss: 0.3724 - val_acc: 0.8640\n",
      "Epoch 51/80\n",
      "8294/8294 [==============================] - 127s 15ms/step - loss: 0.3231 - acc: 0.8745 - val_loss: 0.3729 - val_acc: 0.8582\n",
      "Epoch 52/80\n",
      "8294/8294 [==============================] - 127s 15ms/step - loss: 0.3139 - acc: 0.8769 - val_loss: 0.3332 - val_acc: 0.8775\n",
      "Epoch 53/80\n",
      "8294/8294 [==============================] - 127s 15ms/step - loss: 0.3192 - acc: 0.8781 - val_loss: 0.3588 - val_acc: 0.8650\n",
      "Epoch 54/80\n",
      "8294/8294 [==============================] - 127s 15ms/step - loss: 0.3097 - acc: 0.8788 - val_loss: 0.3608 - val_acc: 0.8650\n",
      "Epoch 55/80\n",
      "8294/8294 [==============================] - 128s 15ms/step - loss: 0.3094 - acc: 0.8793 - val_loss: 0.3679 - val_acc: 0.8626\n",
      "Epoch 56/80\n",
      "8294/8294 [==============================] - 126s 15ms/step - loss: 0.3174 - acc: 0.8771 - val_loss: 0.4103 - val_acc: 0.8520\n",
      "Epoch 57/80\n",
      "8294/8294 [==============================] - 127s 15ms/step - loss: 0.3119 - acc: 0.8798 - val_loss: 0.3661 - val_acc: 0.8679\n",
      "Epoch 58/80\n",
      "8294/8294 [==============================] - 128s 15ms/step - loss: 0.3147 - acc: 0.8771 - val_loss: 0.3553 - val_acc: 0.8679\n",
      "Epoch 59/80\n",
      "8294/8294 [==============================] - 129s 15ms/step - loss: 0.3088 - acc: 0.8787 - val_loss: 0.3711 - val_acc: 0.8635\n",
      "Epoch 60/80\n"
     ]
    },
    {
     "name": "stdout",
     "output_type": "stream",
     "text": [
      "8294/8294 [==============================] - 128s 15ms/step - loss: 0.3141 - acc: 0.8834 - val_loss: 0.3438 - val_acc: 0.8679\n",
      "Epoch 61/80\n",
      "8294/8294 [==============================] - 128s 15ms/step - loss: 0.3098 - acc: 0.8785 - val_loss: 0.3503 - val_acc: 0.8674\n",
      "Epoch 62/80\n",
      "8294/8294 [==============================] - 128s 15ms/step - loss: 0.3119 - acc: 0.8798 - val_loss: 0.3588 - val_acc: 0.8674\n",
      "Epoch 63/80\n",
      "8294/8294 [==============================] - 128s 15ms/step - loss: 0.3178 - acc: 0.8776 - val_loss: 0.3578 - val_acc: 0.8737\n",
      "Epoch 64/80\n",
      "8294/8294 [==============================] - 127s 15ms/step - loss: 0.3145 - acc: 0.8787 - val_loss: 0.3696 - val_acc: 0.8640\n",
      "Epoch 65/80\n",
      "8294/8294 [==============================] - 127s 15ms/step - loss: 0.3027 - acc: 0.8814 - val_loss: 0.3605 - val_acc: 0.8660\n",
      "Epoch 66/80\n",
      "8294/8294 [==============================] - 128s 15ms/step - loss: 0.2961 - acc: 0.8857 - val_loss: 0.3879 - val_acc: 0.8631\n",
      "Epoch 67/80\n",
      "8294/8294 [==============================] - 127s 15ms/step - loss: 0.3036 - acc: 0.8818 - val_loss: 0.3426 - val_acc: 0.8698\n",
      "Epoch 68/80\n",
      "8294/8294 [==============================] - 127s 15ms/step - loss: 0.2916 - acc: 0.8870 - val_loss: 0.3548 - val_acc: 0.8693\n",
      "Epoch 69/80\n",
      "8294/8294 [==============================] - 127s 15ms/step - loss: 0.2927 - acc: 0.8861 - val_loss: 0.3456 - val_acc: 0.8669\n",
      "Epoch 70/80\n",
      "8294/8294 [==============================] - 127s 15ms/step - loss: 0.2999 - acc: 0.8845 - val_loss: 0.3486 - val_acc: 0.8766\n",
      "Epoch 71/80\n",
      "8294/8294 [==============================] - 127s 15ms/step - loss: 0.2934 - acc: 0.8890 - val_loss: 0.3603 - val_acc: 0.8693\n",
      "Epoch 72/80\n",
      "8294/8294 [==============================] - 127s 15ms/step - loss: 0.2928 - acc: 0.8846 - val_loss: 0.3872 - val_acc: 0.8655\n",
      "Epoch 73/80\n",
      "8294/8294 [==============================] - 127s 15ms/step - loss: 0.2913 - acc: 0.8861 - val_loss: 0.4280 - val_acc: 0.8554\n",
      "Epoch 74/80\n",
      "8294/8294 [==============================] - 127s 15ms/step - loss: 0.2948 - acc: 0.8830 - val_loss: 0.3615 - val_acc: 0.8766\n",
      "Epoch 75/80\n",
      "8294/8294 [==============================] - 127s 15ms/step - loss: 0.2979 - acc: 0.8850 - val_loss: 0.3489 - val_acc: 0.8766\n",
      "Epoch 76/80\n",
      "8294/8294 [==============================] - 127s 15ms/step - loss: 0.2974 - acc: 0.8814 - val_loss: 0.3687 - val_acc: 0.8674\n",
      "Epoch 77/80\n",
      "8294/8294 [==============================] - 126s 15ms/step - loss: 0.2890 - acc: 0.8893 - val_loss: 0.3645 - val_acc: 0.8645\n",
      "Epoch 78/80\n",
      "8294/8294 [==============================] - 128s 15ms/step - loss: 0.2935 - acc: 0.8869 - val_loss: 0.3610 - val_acc: 0.8737\n",
      "Epoch 79/80\n",
      "8294/8294 [==============================] - 128s 15ms/step - loss: 0.2879 - acc: 0.8896 - val_loss: 0.3658 - val_acc: 0.8775\n",
      "Epoch 80/80\n",
      "8294/8294 [==============================] - 127s 15ms/step - loss: 0.2947 - acc: 0.8858 - val_loss: 0.3716 - val_acc: 0.8635\n"
     ]
    }
   ],
   "source": [
    "tr_x,cv_x,tr_y,cv_y=train_test_split(x_train,y_train_hot, test_size =0.4,random_state=30 );\n",
    "tr_xx,cv_xx,tr_yx,cv_yx=train_test_split(tr_x,tr_y, test_size =0.4,random_state=30 );\n",
    "tr_xxx,cv_xxx,tr_yxx,cv_yxx=train_test_split(tr_xx,tr_yx, test_size =0.4,random_state=30 );\n",
    "tr_xxx1,cv_xxx1,tr_yxx1,cv_yxx1=train_test_split(tr_xxx,tr_yxx, test_size =0.2,random_state=30 );\n",
    "tr_xxx2,cv_xxx2,tr_yxx2,cv_yxx2=train_test_split(tr_xxx1,tr_yxx1, test_size =0.2,random_state=30 );\n",
    "\n",
    "\n",
    "\n",
    "\n",
    "model_train = modelFM.fit(tr_xxx2, tr_yxx2, batch_size=batch_size,epochs=epochs,verbose=1,validation_data=(cv_xxx2,cv_yxx2))"
   ]
  },
  {
   "cell_type": "code",
   "execution_count": null,
   "metadata": {},
   "outputs": [],
   "source": [
    "predicted_classes = np.argmax(np.round(predicted_classes),axis=1)"
   ]
  },
  {
   "cell_type": "code",
   "execution_count": 52,
   "metadata": {},
   "outputs": [
    {
     "name": "stdout",
     "output_type": "stream",
     "text": [
      "10000/10000 [==============================] - 49s 5ms/step\n",
      "Test loss: 0.41245015701055526\n",
      "Test accuracy: 0.8574\n"
     ]
    }
   ],
   "source": [
    "#Plot the images for 100, 1000, 6000th image in the test data\n",
    "test_eval = modelFM.evaluate(x_test, y_test_hot, verbose=1)\n",
    "print('Test loss:', test_eval[0])\n",
    "print('Test accuracy:', test_eval[1])"
   ]
  },
  {
   "cell_type": "code",
   "execution_count": 6,
   "metadata": {},
   "outputs": [],
   "source": [
    "def BuildModel3(input_shape=(28,28,1), convSize=(3,3), PoolSize=(2,2)):\n",
    "    modelFM = Sequential()\n",
    "    modelFM.add(Conv2D(20, kernel_size=convSize,\n",
    "                       activation='linear',\n",
    "                       input_shape=input_shape,padding=\"same\"))\n",
    "    modelFM.add(LeakyReLU(alpha=0.1))\n",
    "    modelFM.add(MaxPooling2D(20,(2, 2),padding='same'))\n",
    "    modelFM.add(Dropout(0.25))\n",
    "\n",
    "    modelFM.add(Conv2D(45, convSize, \n",
    "                       activation='linear',\n",
    "                       padding='same'))\n",
    "    modelFM.add(LeakyReLU(alpha=0.1))\n",
    "    modelFM.add(MaxPooling2D(pool_size=PoolSize,padding='same'))\n",
    "    modelFM.add(Dropout(0.3))\n",
    "\n",
    "    modelFM.add(Conv2D(50, convSize, \n",
    "                       activation='linear',\n",
    "                       padding='same'))\n",
    "    modelFM.add(LeakyReLU(alpha=0.1))\n",
    "    modelFM.add(MaxPooling2D(pool_size=PoolSize,padding='same'))\n",
    "    modelFM.add(Dropout(0.4))\n",
    "\n",
    "    modelFM.add(Flatten())\n",
    "    modelFM.add(Dense(100, activation='linear'))\n",
    "    modelFM.add(LeakyReLU(alpha=0.1))\n",
    "    modelFM.add(Dropout(0.3))\n",
    "\n",
    "    modelFM.add(Dense(num_classes, activation='softmax'))\n",
    "  \n",
    "  \n",
    "\n",
    " \n",
    "    return modelFM"
   ]
  },
  {
   "cell_type": "code",
   "execution_count": 7,
   "metadata": {},
   "outputs": [],
   "source": [
    "batch_size = 32\n",
    "epochs = 240\n",
    "num_classes = 10"
   ]
  },
  {
   "cell_type": "code",
   "execution_count": 8,
   "metadata": {},
   "outputs": [
    {
     "name": "stdout",
     "output_type": "stream",
     "text": [
      "_________________________________________________________________\n",
      "Layer (type)                 Output Shape              Param #   \n",
      "=================================================================\n",
      "conv2d_1 (Conv2D)            (None, 28, 28, 20)        200       \n",
      "_________________________________________________________________\n",
      "leaky_re_lu_1 (LeakyReLU)    (None, 28, 28, 20)        0         \n",
      "_________________________________________________________________\n",
      "max_pooling2d_1 (MaxPooling2 (None, 14, 14, 20)        0         \n",
      "_________________________________________________________________\n",
      "dropout_1 (Dropout)          (None, 14, 14, 20)        0         \n",
      "_________________________________________________________________\n",
      "conv2d_2 (Conv2D)            (None, 14, 14, 45)        8145      \n",
      "_________________________________________________________________\n",
      "leaky_re_lu_2 (LeakyReLU)    (None, 14, 14, 45)        0         \n",
      "_________________________________________________________________\n",
      "max_pooling2d_2 (MaxPooling2 (None, 7, 7, 45)          0         \n",
      "_________________________________________________________________\n",
      "dropout_2 (Dropout)          (None, 7, 7, 45)          0         \n",
      "_________________________________________________________________\n",
      "conv2d_3 (Conv2D)            (None, 7, 7, 50)          20300     \n",
      "_________________________________________________________________\n",
      "leaky_re_lu_3 (LeakyReLU)    (None, 7, 7, 50)          0         \n",
      "_________________________________________________________________\n",
      "max_pooling2d_3 (MaxPooling2 (None, 4, 4, 50)          0         \n",
      "_________________________________________________________________\n",
      "dropout_3 (Dropout)          (None, 4, 4, 50)          0         \n",
      "_________________________________________________________________\n",
      "flatten_1 (Flatten)          (None, 800)               0         \n",
      "_________________________________________________________________\n",
      "dense_1 (Dense)              (None, 100)               80100     \n",
      "_________________________________________________________________\n",
      "leaky_re_lu_4 (LeakyReLU)    (None, 100)               0         \n",
      "_________________________________________________________________\n",
      "dropout_4 (Dropout)          (None, 100)               0         \n",
      "_________________________________________________________________\n",
      "dense_2 (Dense)              (None, 10)                1010      \n",
      "=================================================================\n",
      "Total params: 109,755\n",
      "Trainable params: 109,755\n",
      "Non-trainable params: 0\n",
      "_________________________________________________________________\n"
     ]
    }
   ],
   "source": [
    "modelFM = BuildModel3()\n",
    "modelFM.compile(loss=keras.losses.categorical_crossentropy, optimizer=keras.optimizers.Adam(),metrics=['accuracy'])\n",
    "modelFM.summary()"
   ]
  },
  {
   "cell_type": "code",
   "execution_count": 9,
   "metadata": {},
   "outputs": [
    {
     "name": "stdout",
     "output_type": "stream",
     "text": [
      "Train on 8294 samples, validate on 2074 samples\n",
      "Epoch 1/240\n",
      "8294/8294 [==============================] - 134s 16ms/step - loss: 1.3595 - acc: 0.4936 - val_loss: 0.8467 - val_acc: 0.6977\n",
      "Epoch 2/240\n",
      "8294/8294 [==============================] - 134s 16ms/step - loss: 0.7797 - acc: 0.7059 - val_loss: 0.6530 - val_acc: 0.7502\n",
      "Epoch 3/240\n",
      "8294/8294 [==============================] - 133s 16ms/step - loss: 0.6747 - acc: 0.7426 - val_loss: 0.5992 - val_acc: 0.7758\n",
      "Epoch 4/240\n",
      "8294/8294 [==============================] - 133s 16ms/step - loss: 0.6179 - acc: 0.7586 - val_loss: 0.5557 - val_acc: 0.7768\n",
      "Epoch 5/240\n",
      "8294/8294 [==============================] - 132s 16ms/step - loss: 0.5897 - acc: 0.7724 - val_loss: 0.5168 - val_acc: 0.8028\n",
      "Epoch 6/240\n",
      "8294/8294 [==============================] - 132s 16ms/step - loss: 0.5628 - acc: 0.7849 - val_loss: 0.4974 - val_acc: 0.8158\n",
      "Epoch 7/240\n",
      "8294/8294 [==============================] - 134s 16ms/step - loss: 0.5325 - acc: 0.7971 - val_loss: 0.4852 - val_acc: 0.8100\n",
      "Epoch 8/240\n",
      "8294/8294 [==============================] - 133s 16ms/step - loss: 0.5165 - acc: 0.8032 - val_loss: 0.4692 - val_acc: 0.8206\n",
      "Epoch 9/240\n",
      "8294/8294 [==============================] - 131s 16ms/step - loss: 0.5020 - acc: 0.8066 - val_loss: 0.4424 - val_acc: 0.8298\n",
      "Epoch 10/240\n",
      "8294/8294 [==============================] - 131s 16ms/step - loss: 0.4783 - acc: 0.8191 - val_loss: 0.4452 - val_acc: 0.8202\n",
      "Epoch 11/240\n",
      "8294/8294 [==============================] - 131s 16ms/step - loss: 0.4682 - acc: 0.8235 - val_loss: 0.4328 - val_acc: 0.8375\n",
      "Epoch 12/240\n",
      "8294/8294 [==============================] - 133s 16ms/step - loss: 0.4581 - acc: 0.8252 - val_loss: 0.4568 - val_acc: 0.8211\n",
      "Epoch 13/240\n",
      "8294/8294 [==============================] - 131s 16ms/step - loss: 0.4513 - acc: 0.8299 - val_loss: 0.4168 - val_acc: 0.8341\n",
      "Epoch 14/240\n",
      "8294/8294 [==============================] - 132s 16ms/step - loss: 0.4356 - acc: 0.8358 - val_loss: 0.4123 - val_acc: 0.8332\n",
      "Epoch 15/240\n",
      "8294/8294 [==============================] - 132s 16ms/step - loss: 0.4251 - acc: 0.8417 - val_loss: 0.3982 - val_acc: 0.8462\n",
      "Epoch 16/240\n",
      "8294/8294 [==============================] - 132s 16ms/step - loss: 0.4210 - acc: 0.8406 - val_loss: 0.3888 - val_acc: 0.8404\n",
      "Epoch 17/240\n",
      "8294/8294 [==============================] - 131s 16ms/step - loss: 0.4117 - acc: 0.8464 - val_loss: 0.4006 - val_acc: 0.8404\n",
      "Epoch 18/240\n",
      "8294/8294 [==============================] - 131s 16ms/step - loss: 0.4033 - acc: 0.8458 - val_loss: 0.4050 - val_acc: 0.8390\n",
      "Epoch 19/240\n",
      "8294/8294 [==============================] - 131s 16ms/step - loss: 0.4020 - acc: 0.8453 - val_loss: 0.3877 - val_acc: 0.8472\n",
      "Epoch 20/240\n",
      "8294/8294 [==============================] - 131s 16ms/step - loss: 0.3970 - acc: 0.8527 - val_loss: 0.3989 - val_acc: 0.8404\n",
      "Epoch 21/240\n",
      "8294/8294 [==============================] - 131s 16ms/step - loss: 0.3847 - acc: 0.8512 - val_loss: 0.3778 - val_acc: 0.8500\n",
      "Epoch 22/240\n",
      "8294/8294 [==============================] - 132s 16ms/step - loss: 0.3858 - acc: 0.8536 - val_loss: 0.3841 - val_acc: 0.8491\n",
      "Epoch 23/240\n",
      "8294/8294 [==============================] - 132s 16ms/step - loss: 0.3836 - acc: 0.8569 - val_loss: 0.3981 - val_acc: 0.8438\n",
      "Epoch 24/240\n",
      "8294/8294 [==============================] - 131s 16ms/step - loss: 0.3680 - acc: 0.8600 - val_loss: 0.3905 - val_acc: 0.8486\n",
      "Epoch 25/240\n",
      "8294/8294 [==============================] - 133s 16ms/step - loss: 0.3672 - acc: 0.8574 - val_loss: 0.3755 - val_acc: 0.8544\n",
      "Epoch 26/240\n",
      "8294/8294 [==============================] - 132s 16ms/step - loss: 0.3570 - acc: 0.8621 - val_loss: 0.3568 - val_acc: 0.8582\n",
      "Epoch 27/240\n",
      "8294/8294 [==============================] - 132s 16ms/step - loss: 0.3645 - acc: 0.8601 - val_loss: 0.4052 - val_acc: 0.8423\n",
      "Epoch 28/240\n",
      "8294/8294 [==============================] - 133s 16ms/step - loss: 0.3585 - acc: 0.8627 - val_loss: 0.3745 - val_acc: 0.8520\n",
      "Epoch 29/240\n",
      "8294/8294 [==============================] - 132s 16ms/step - loss: 0.3497 - acc: 0.8689 - val_loss: 0.3659 - val_acc: 0.8578\n",
      "Epoch 30/240\n",
      "8294/8294 [==============================] - 132s 16ms/step - loss: 0.3432 - acc: 0.8683 - val_loss: 0.3925 - val_acc: 0.8486\n",
      "Epoch 31/240\n",
      "8294/8294 [==============================] - 131s 16ms/step - loss: 0.3513 - acc: 0.8662 - val_loss: 0.3755 - val_acc: 0.8549\n",
      "Epoch 32/240\n",
      "8294/8294 [==============================] - 132s 16ms/step - loss: 0.3475 - acc: 0.8705 - val_loss: 0.3617 - val_acc: 0.8568\n",
      "Epoch 33/240\n",
      "8294/8294 [==============================] - 132s 16ms/step - loss: 0.3368 - acc: 0.8709 - val_loss: 0.3968 - val_acc: 0.8433\n",
      "Epoch 34/240\n",
      "8294/8294 [==============================] - 131s 16ms/step - loss: 0.3416 - acc: 0.8705 - val_loss: 0.3649 - val_acc: 0.8611\n",
      "Epoch 35/240\n",
      "8294/8294 [==============================] - 131s 16ms/step - loss: 0.3298 - acc: 0.8750 - val_loss: 0.3813 - val_acc: 0.8587\n",
      "Epoch 36/240\n",
      "8294/8294 [==============================] - 131s 16ms/step - loss: 0.3396 - acc: 0.8698 - val_loss: 0.3537 - val_acc: 0.8703\n",
      "Epoch 37/240\n",
      "8294/8294 [==============================] - 132s 16ms/step - loss: 0.3302 - acc: 0.8730 - val_loss: 0.3503 - val_acc: 0.8616\n",
      "Epoch 38/240\n",
      "8294/8294 [==============================] - 131s 16ms/step - loss: 0.3276 - acc: 0.8755 - val_loss: 0.3619 - val_acc: 0.8626\n",
      "Epoch 39/240\n",
      "8294/8294 [==============================] - 132s 16ms/step - loss: 0.3212 - acc: 0.8761 - val_loss: 0.3721 - val_acc: 0.8568\n",
      "Epoch 40/240\n",
      "8294/8294 [==============================] - 131s 16ms/step - loss: 0.3203 - acc: 0.8787 - val_loss: 0.3714 - val_acc: 0.8631\n",
      "Epoch 41/240\n",
      "8294/8294 [==============================] - 131s 16ms/step - loss: 0.3199 - acc: 0.8785 - val_loss: 0.3773 - val_acc: 0.8549\n",
      "Epoch 42/240\n",
      "8294/8294 [==============================] - 132s 16ms/step - loss: 0.3178 - acc: 0.8782 - val_loss: 0.3602 - val_acc: 0.8732\n",
      "Epoch 43/240\n",
      "8294/8294 [==============================] - 131s 16ms/step - loss: 0.3196 - acc: 0.8776 - val_loss: 0.3447 - val_acc: 0.8708\n",
      "Epoch 44/240\n",
      "8294/8294 [==============================] - 132s 16ms/step - loss: 0.3121 - acc: 0.8748 - val_loss: 0.3591 - val_acc: 0.8689\n",
      "Epoch 45/240\n",
      "8294/8294 [==============================] - 132s 16ms/step - loss: 0.3148 - acc: 0.8785 - val_loss: 0.3773 - val_acc: 0.8592\n",
      "Epoch 46/240\n",
      "8294/8294 [==============================] - 131s 16ms/step - loss: 0.3105 - acc: 0.8815 - val_loss: 0.3867 - val_acc: 0.8573\n",
      "Epoch 47/240\n",
      "8294/8294 [==============================] - 132s 16ms/step - loss: 0.3009 - acc: 0.8834 - val_loss: 0.3508 - val_acc: 0.8664\n",
      "Epoch 48/240\n",
      "8294/8294 [==============================] - 132s 16ms/step - loss: 0.3009 - acc: 0.8841 - val_loss: 0.3838 - val_acc: 0.8592\n",
      "Epoch 49/240\n",
      "8294/8294 [==============================] - 131s 16ms/step - loss: 0.3018 - acc: 0.8826 - val_loss: 0.3710 - val_acc: 0.8621\n",
      "Epoch 50/240\n",
      "8294/8294 [==============================] - 132s 16ms/step - loss: 0.2961 - acc: 0.8837 - val_loss: 0.3617 - val_acc: 0.8703\n",
      "Epoch 51/240\n",
      "8294/8294 [==============================] - 132s 16ms/step - loss: 0.3010 - acc: 0.8799 - val_loss: 0.3895 - val_acc: 0.8645\n",
      "Epoch 52/240\n",
      "8294/8294 [==============================] - 133s 16ms/step - loss: 0.3057 - acc: 0.8804 - val_loss: 0.3586 - val_acc: 0.8684\n",
      "Epoch 53/240\n",
      "8294/8294 [==============================] - 132s 16ms/step - loss: 0.2982 - acc: 0.8843 - val_loss: 0.3678 - val_acc: 0.8602\n",
      "Epoch 54/240\n",
      "8294/8294 [==============================] - 132s 16ms/step - loss: 0.2986 - acc: 0.8828 - val_loss: 0.3403 - val_acc: 0.8751\n",
      "Epoch 55/240\n",
      "8294/8294 [==============================] - 132s 16ms/step - loss: 0.2960 - acc: 0.8853 - val_loss: 0.3657 - val_acc: 0.8664\n",
      "Epoch 56/240\n",
      "8294/8294 [==============================] - 133s 16ms/step - loss: 0.2987 - acc: 0.8811 - val_loss: 0.3605 - val_acc: 0.8708\n",
      "Epoch 57/240\n",
      "8294/8294 [==============================] - 133s 16ms/step - loss: 0.2941 - acc: 0.8888 - val_loss: 0.3590 - val_acc: 0.8689\n",
      "Epoch 58/240\n",
      "8294/8294 [==============================] - 132s 16ms/step - loss: 0.2953 - acc: 0.8818 - val_loss: 0.3562 - val_acc: 0.8679\n",
      "Epoch 59/240\n",
      "8294/8294 [==============================] - 132s 16ms/step - loss: 0.2885 - acc: 0.8886 - val_loss: 0.3503 - val_acc: 0.8746\n",
      "Epoch 60/240\n",
      "8294/8294 [==============================] - 132s 16ms/step - loss: 0.2824 - acc: 0.8918 - val_loss: 0.3796 - val_acc: 0.8582\n",
      "Epoch 61/240\n",
      "8294/8294 [==============================] - 133s 16ms/step - loss: 0.2925 - acc: 0.8888 - val_loss: 0.3642 - val_acc: 0.8621\n",
      "Epoch 62/240\n",
      "8294/8294 [==============================] - 132s 16ms/step - loss: 0.2878 - acc: 0.8868 - val_loss: 0.3703 - val_acc: 0.8645\n",
      "Epoch 63/240\n",
      "8294/8294 [==============================] - 132s 16ms/step - loss: 0.2831 - acc: 0.8900 - val_loss: 0.3725 - val_acc: 0.8660\n",
      "Epoch 64/240\n",
      "6240/8294 [=====================>........] - ETA: 30s - loss: 0.2788 - acc: 0.8909"
     ]
    },
    {
     "ename": "KeyboardInterrupt",
     "evalue": "",
     "output_type": "error",
     "traceback": [
      "\u001b[0;31m---------------------------------------------------------------------------\u001b[0m",
      "\u001b[0;31mKeyboardInterrupt\u001b[0m                         Traceback (most recent call last)",
      "\u001b[0;32m<ipython-input-9-35348deaef82>\u001b[0m in \u001b[0;36m<module>\u001b[0;34m()\u001b[0m\n\u001b[1;32m      8\u001b[0m \u001b[0;34m\u001b[0m\u001b[0m\n\u001b[1;32m      9\u001b[0m \u001b[0;34m\u001b[0m\u001b[0m\n\u001b[0;32m---> 10\u001b[0;31m \u001b[0mmodel_train\u001b[0m \u001b[0;34m=\u001b[0m \u001b[0mmodelFM\u001b[0m\u001b[0;34m.\u001b[0m\u001b[0mfit\u001b[0m\u001b[0;34m(\u001b[0m\u001b[0mtr_xxx2\u001b[0m\u001b[0;34m,\u001b[0m \u001b[0mtr_yxx2\u001b[0m\u001b[0;34m,\u001b[0m \u001b[0mbatch_size\u001b[0m\u001b[0;34m=\u001b[0m\u001b[0mbatch_size\u001b[0m\u001b[0;34m,\u001b[0m\u001b[0mepochs\u001b[0m\u001b[0;34m=\u001b[0m\u001b[0mepochs\u001b[0m\u001b[0;34m,\u001b[0m\u001b[0mverbose\u001b[0m\u001b[0;34m=\u001b[0m\u001b[0;36m1\u001b[0m\u001b[0;34m,\u001b[0m\u001b[0mvalidation_data\u001b[0m\u001b[0;34m=\u001b[0m\u001b[0;34m(\u001b[0m\u001b[0mcv_xxx2\u001b[0m\u001b[0;34m,\u001b[0m\u001b[0mcv_yxx2\u001b[0m\u001b[0;34m)\u001b[0m\u001b[0;34m)\u001b[0m\u001b[0;34m\u001b[0m\u001b[0m\n\u001b[0m",
      "\u001b[0;32m/opt/conda/lib/python3.6/site-packages/keras/engine/training.py\u001b[0m in \u001b[0;36mfit\u001b[0;34m(self, x, y, batch_size, epochs, verbose, callbacks, validation_split, validation_data, shuffle, class_weight, sample_weight, initial_epoch, steps_per_epoch, validation_steps, **kwargs)\u001b[0m\n\u001b[1;32m   1037\u001b[0m                                         \u001b[0minitial_epoch\u001b[0m\u001b[0;34m=\u001b[0m\u001b[0minitial_epoch\u001b[0m\u001b[0;34m,\u001b[0m\u001b[0;34m\u001b[0m\u001b[0m\n\u001b[1;32m   1038\u001b[0m                                         \u001b[0msteps_per_epoch\u001b[0m\u001b[0;34m=\u001b[0m\u001b[0msteps_per_epoch\u001b[0m\u001b[0;34m,\u001b[0m\u001b[0;34m\u001b[0m\u001b[0m\n\u001b[0;32m-> 1039\u001b[0;31m                                         validation_steps=validation_steps)\n\u001b[0m\u001b[1;32m   1040\u001b[0m \u001b[0;34m\u001b[0m\u001b[0m\n\u001b[1;32m   1041\u001b[0m     def evaluate(self, x=None, y=None,\n",
      "\u001b[0;32m/opt/conda/lib/python3.6/site-packages/keras/engine/training_arrays.py\u001b[0m in \u001b[0;36mfit_loop\u001b[0;34m(model, f, ins, out_labels, batch_size, epochs, verbose, callbacks, val_f, val_ins, shuffle, callback_metrics, initial_epoch, steps_per_epoch, validation_steps)\u001b[0m\n\u001b[1;32m    197\u001b[0m                     \u001b[0mins_batch\u001b[0m\u001b[0;34m[\u001b[0m\u001b[0mi\u001b[0m\u001b[0;34m]\u001b[0m \u001b[0;34m=\u001b[0m \u001b[0mins_batch\u001b[0m\u001b[0;34m[\u001b[0m\u001b[0mi\u001b[0m\u001b[0;34m]\u001b[0m\u001b[0;34m.\u001b[0m\u001b[0mtoarray\u001b[0m\u001b[0;34m(\u001b[0m\u001b[0;34m)\u001b[0m\u001b[0;34m\u001b[0m\u001b[0m\n\u001b[1;32m    198\u001b[0m \u001b[0;34m\u001b[0m\u001b[0m\n\u001b[0;32m--> 199\u001b[0;31m                 \u001b[0mouts\u001b[0m \u001b[0;34m=\u001b[0m \u001b[0mf\u001b[0m\u001b[0;34m(\u001b[0m\u001b[0mins_batch\u001b[0m\u001b[0;34m)\u001b[0m\u001b[0;34m\u001b[0m\u001b[0m\n\u001b[0m\u001b[1;32m    200\u001b[0m                 \u001b[0mouts\u001b[0m \u001b[0;34m=\u001b[0m \u001b[0mto_list\u001b[0m\u001b[0;34m(\u001b[0m\u001b[0mouts\u001b[0m\u001b[0;34m)\u001b[0m\u001b[0;34m\u001b[0m\u001b[0m\n\u001b[1;32m    201\u001b[0m                 \u001b[0;32mfor\u001b[0m \u001b[0ml\u001b[0m\u001b[0;34m,\u001b[0m \u001b[0mo\u001b[0m \u001b[0;32min\u001b[0m \u001b[0mzip\u001b[0m\u001b[0;34m(\u001b[0m\u001b[0mout_labels\u001b[0m\u001b[0;34m,\u001b[0m \u001b[0mouts\u001b[0m\u001b[0;34m)\u001b[0m\u001b[0;34m:\u001b[0m\u001b[0;34m\u001b[0m\u001b[0m\n",
      "\u001b[0;32m/opt/conda/lib/python3.6/site-packages/keras/backend/tensorflow_backend.py\u001b[0m in \u001b[0;36m__call__\u001b[0;34m(self, inputs)\u001b[0m\n\u001b[1;32m   2713\u001b[0m                 \u001b[0;32mreturn\u001b[0m \u001b[0mself\u001b[0m\u001b[0;34m.\u001b[0m\u001b[0m_legacy_call\u001b[0m\u001b[0;34m(\u001b[0m\u001b[0minputs\u001b[0m\u001b[0;34m)\u001b[0m\u001b[0;34m\u001b[0m\u001b[0m\n\u001b[1;32m   2714\u001b[0m \u001b[0;34m\u001b[0m\u001b[0m\n\u001b[0;32m-> 2715\u001b[0;31m             \u001b[0;32mreturn\u001b[0m \u001b[0mself\u001b[0m\u001b[0;34m.\u001b[0m\u001b[0m_call\u001b[0m\u001b[0;34m(\u001b[0m\u001b[0minputs\u001b[0m\u001b[0;34m)\u001b[0m\u001b[0;34m\u001b[0m\u001b[0m\n\u001b[0m\u001b[1;32m   2716\u001b[0m         \u001b[0;32melse\u001b[0m\u001b[0;34m:\u001b[0m\u001b[0;34m\u001b[0m\u001b[0m\n\u001b[1;32m   2717\u001b[0m             \u001b[0;32mif\u001b[0m \u001b[0mpy_any\u001b[0m\u001b[0;34m(\u001b[0m\u001b[0mis_tensor\u001b[0m\u001b[0;34m(\u001b[0m\u001b[0mx\u001b[0m\u001b[0;34m)\u001b[0m \u001b[0;32mfor\u001b[0m \u001b[0mx\u001b[0m \u001b[0;32min\u001b[0m \u001b[0minputs\u001b[0m\u001b[0;34m)\u001b[0m\u001b[0;34m:\u001b[0m\u001b[0;34m\u001b[0m\u001b[0m\n",
      "\u001b[0;32m/opt/conda/lib/python3.6/site-packages/keras/backend/tensorflow_backend.py\u001b[0m in \u001b[0;36m_call\u001b[0;34m(self, inputs)\u001b[0m\n\u001b[1;32m   2673\u001b[0m             \u001b[0mfetched\u001b[0m \u001b[0;34m=\u001b[0m \u001b[0mself\u001b[0m\u001b[0;34m.\u001b[0m\u001b[0m_callable_fn\u001b[0m\u001b[0;34m(\u001b[0m\u001b[0;34m*\u001b[0m\u001b[0marray_vals\u001b[0m\u001b[0;34m,\u001b[0m \u001b[0mrun_metadata\u001b[0m\u001b[0;34m=\u001b[0m\u001b[0mself\u001b[0m\u001b[0;34m.\u001b[0m\u001b[0mrun_metadata\u001b[0m\u001b[0;34m)\u001b[0m\u001b[0;34m\u001b[0m\u001b[0m\n\u001b[1;32m   2674\u001b[0m         \u001b[0;32melse\u001b[0m\u001b[0;34m:\u001b[0m\u001b[0;34m\u001b[0m\u001b[0m\n\u001b[0;32m-> 2675\u001b[0;31m             \u001b[0mfetched\u001b[0m \u001b[0;34m=\u001b[0m \u001b[0mself\u001b[0m\u001b[0;34m.\u001b[0m\u001b[0m_callable_fn\u001b[0m\u001b[0;34m(\u001b[0m\u001b[0;34m*\u001b[0m\u001b[0marray_vals\u001b[0m\u001b[0;34m)\u001b[0m\u001b[0;34m\u001b[0m\u001b[0m\n\u001b[0m\u001b[1;32m   2676\u001b[0m         \u001b[0;32mreturn\u001b[0m \u001b[0mfetched\u001b[0m\u001b[0;34m[\u001b[0m\u001b[0;34m:\u001b[0m\u001b[0mlen\u001b[0m\u001b[0;34m(\u001b[0m\u001b[0mself\u001b[0m\u001b[0;34m.\u001b[0m\u001b[0moutputs\u001b[0m\u001b[0;34m)\u001b[0m\u001b[0;34m]\u001b[0m\u001b[0;34m\u001b[0m\u001b[0m\n\u001b[1;32m   2677\u001b[0m \u001b[0;34m\u001b[0m\u001b[0m\n",
      "\u001b[0;32m/opt/conda/lib/python3.6/site-packages/tensorflow/python/client/session.py\u001b[0m in \u001b[0;36m__call__\u001b[0;34m(self, *args, **kwargs)\u001b[0m\n\u001b[1;32m   1380\u001b[0m           ret = tf_session.TF_SessionRunCallable(\n\u001b[1;32m   1381\u001b[0m               \u001b[0mself\u001b[0m\u001b[0;34m.\u001b[0m\u001b[0m_session\u001b[0m\u001b[0;34m.\u001b[0m\u001b[0m_session\u001b[0m\u001b[0;34m,\u001b[0m \u001b[0mself\u001b[0m\u001b[0;34m.\u001b[0m\u001b[0m_handle\u001b[0m\u001b[0;34m,\u001b[0m \u001b[0margs\u001b[0m\u001b[0;34m,\u001b[0m \u001b[0mstatus\u001b[0m\u001b[0;34m,\u001b[0m\u001b[0;34m\u001b[0m\u001b[0m\n\u001b[0;32m-> 1382\u001b[0;31m               run_metadata_ptr)\n\u001b[0m\u001b[1;32m   1383\u001b[0m         \u001b[0;32mif\u001b[0m \u001b[0mrun_metadata\u001b[0m\u001b[0;34m:\u001b[0m\u001b[0;34m\u001b[0m\u001b[0m\n\u001b[1;32m   1384\u001b[0m           \u001b[0mproto_data\u001b[0m \u001b[0;34m=\u001b[0m \u001b[0mtf_session\u001b[0m\u001b[0;34m.\u001b[0m\u001b[0mTF_GetBuffer\u001b[0m\u001b[0;34m(\u001b[0m\u001b[0mrun_metadata_ptr\u001b[0m\u001b[0;34m)\u001b[0m\u001b[0;34m\u001b[0m\u001b[0m\n",
      "\u001b[0;31mKeyboardInterrupt\u001b[0m: "
     ]
    }
   ],
   "source": [
    "tr_x,cv_x,tr_y,cv_y=train_test_split(x_train,y_train_hot, test_size =0.4,random_state=30 );\n",
    "tr_xx,cv_xx,tr_yx,cv_yx=train_test_split(tr_x,tr_y, test_size =0.4,random_state=30 );\n",
    "tr_xxx,cv_xxx,tr_yxx,cv_yxx=train_test_split(tr_xx,tr_yx, test_size =0.4,random_state=30 );\n",
    "tr_xxx1,cv_xxx1,tr_yxx1,cv_yxx1=train_test_split(tr_xxx,tr_yxx, test_size =0.2,random_state=30 );\n",
    "tr_xxx2,cv_xxx2,tr_yxx2,cv_yxx2=train_test_split(tr_xxx1,tr_yxx1, test_size =0.2,random_state=30 );\n",
    "\n",
    "\n",
    "\n",
    "\n",
    "model_train = modelFM.fit(tr_xxx2, tr_yxx2, batch_size=batch_size,epochs=epochs,verbose=1,validation_data=(cv_xxx2,cv_yxx2))"
   ]
  },
  {
   "cell_type": "code",
   "execution_count": 10,
   "metadata": {},
   "outputs": [
    {
     "name": "stdout",
     "output_type": "stream",
     "text": [
      "_________________________________________________________________\n",
      "Layer (type)                 Output Shape              Param #   \n",
      "=================================================================\n",
      "conv2d_4 (Conv2D)            (None, 28, 28, 20)        200       \n",
      "_________________________________________________________________\n",
      "leaky_re_lu_5 (LeakyReLU)    (None, 28, 28, 20)        0         \n",
      "_________________________________________________________________\n",
      "max_pooling2d_4 (MaxPooling2 (None, 14, 14, 20)        0         \n",
      "_________________________________________________________________\n",
      "dropout_5 (Dropout)          (None, 14, 14, 20)        0         \n",
      "_________________________________________________________________\n",
      "conv2d_5 (Conv2D)            (None, 14, 14, 45)        8145      \n",
      "_________________________________________________________________\n",
      "leaky_re_lu_6 (LeakyReLU)    (None, 14, 14, 45)        0         \n",
      "_________________________________________________________________\n",
      "max_pooling2d_5 (MaxPooling2 (None, 7, 7, 45)          0         \n",
      "_________________________________________________________________\n",
      "dropout_6 (Dropout)          (None, 7, 7, 45)          0         \n",
      "_________________________________________________________________\n",
      "conv2d_6 (Conv2D)            (None, 7, 7, 50)          20300     \n",
      "_________________________________________________________________\n",
      "leaky_re_lu_7 (LeakyReLU)    (None, 7, 7, 50)          0         \n",
      "_________________________________________________________________\n",
      "max_pooling2d_6 (MaxPooling2 (None, 4, 4, 50)          0         \n",
      "_________________________________________________________________\n",
      "dropout_7 (Dropout)          (None, 4, 4, 50)          0         \n",
      "_________________________________________________________________\n",
      "flatten_2 (Flatten)          (None, 800)               0         \n",
      "_________________________________________________________________\n",
      "dense_3 (Dense)              (None, 100)               80100     \n",
      "_________________________________________________________________\n",
      "leaky_re_lu_8 (LeakyReLU)    (None, 100)               0         \n",
      "_________________________________________________________________\n",
      "dropout_8 (Dropout)          (None, 100)               0         \n",
      "_________________________________________________________________\n",
      "dense_4 (Dense)              (None, 10)                1010      \n",
      "=================================================================\n",
      "Total params: 109,755\n",
      "Trainable params: 109,755\n",
      "Non-trainable params: 0\n",
      "_________________________________________________________________\n"
     ]
    }
   ],
   "source": [
    "modelFM = BuildModel3()\n",
    "modelFM.compile(loss=keras.losses.categorical_crossentropy, optimizer=keras.optimizers.Adam(),metrics=['accuracy'])\n",
    "modelFM.summary()"
   ]
  },
  {
   "cell_type": "code",
   "execution_count": 68,
   "metadata": {},
   "outputs": [
    {
     "name": "stdout",
     "output_type": "stream",
     "text": [
      "10000/10000 [==============================] - 51s 5ms/step\n",
      "Test loss: 0.39750172464847566\n",
      "Test accuracy: 0.8567\n"
     ]
    }
   ],
   "source": [
    "#Plot the images for 100, 1000, 6000th image in the test data\n",
    "test_eval = modelFM.evaluate(x_test, y_test_hot, verbose=1)\n",
    "print('Test loss:', test_eval[0])\n",
    "print('Test accuracy:', test_eval[1])"
   ]
  },
  {
   "cell_type": "code",
   "execution_count": null,
   "metadata": {},
   "outputs": [],
   "source": []
  }
 ],
 "metadata": {
  "kernelspec": {
   "display_name": "Python 3",
   "language": "python",
   "name": "python3"
  },
  "language_info": {
   "codemirror_mode": {
    "name": "ipython",
    "version": 3
   },
   "file_extension": ".py",
   "mimetype": "text/x-python",
   "name": "python",
   "nbconvert_exporter": "python",
   "pygments_lexer": "ipython3",
   "version": "3.7.3"
  }
 },
 "nbformat": 4,
 "nbformat_minor": 2
}
